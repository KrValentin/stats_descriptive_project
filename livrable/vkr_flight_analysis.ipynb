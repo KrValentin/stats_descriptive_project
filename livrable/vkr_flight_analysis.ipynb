{
 "cells": [
  {
   "cell_type": "markdown",
   "metadata": {},
   "source": [
    "# Analyse de l'ensemble des Dataframe d'un vol\n",
    "\n",
    "Projet de statistiques descriptives MACS3, dans le cadre du cours de Jérôme Lacaille.\n",
    "\n",
    "_Version 1.0 [28/11/2023] Kraemer Valentin_\n",
    "\n",
    "## Analyse de notre problématique d'inclinaison de l'avion en fonction de l'angle du levier - cas multi-vols\n",
    "\n",
    "Dans un second temps, nous appliquerons ces outils d'analyse dans le cas de notre tentative d'interprétation de l'inclinaison de l'avion par rapport à l'angle du levier."
   ]
  },
  {
   "cell_type": "code",
   "execution_count": null,
   "metadata": {},
   "outputs": [],
   "source": []
  }
 ],
 "metadata": {
  "kernelspec": {
   "display_name": "Python 3",
   "language": "python",
   "name": "python3"
  },
  "language_info": {
   "name": "python",
   "version": "3.10.12"
  }
 },
 "nbformat": 4,
 "nbformat_minor": 2
}
