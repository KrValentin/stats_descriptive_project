{
 "cells": [
  {
   "cell_type": "markdown",
   "metadata": {},
   "source": [
    "# Analyse de l'ensemble des Dataframe d'un vol\n",
    "\n",
    "Projet de statistiques descriptives MACS3, dans le cadre du cours de Jérôme Lacaille.\n",
    "\n",
    "_Version 1.0 [28/11/2023] Kraemer Valentin_\n",
    "\n",
    "## Analyse de notre problématique d'inclinaison de l'avion en fonction de l'angle du levier - cas multi-vols\n",
    "\n",
    "Dans un second temps, nous appliquerons ces outils d'analyse dans le cas de notre tentative d'interprétation de l'inclinaison de l'avion par rapport à l'angle du levier.\n",
    "\n",
    "\n",
    "**Importation des modules pour l'analyse**"
   ]
  },
  {
   "cell_type": "code",
   "execution_count": 2,
   "metadata": {},
   "outputs": [
    {
     "name": "stderr",
     "output_type": "stream",
     "text": [
      "/usr/lib/python3/dist-packages/scipy/__init__.py:146: UserWarning: A NumPy version >=1.17.3 and <1.25.0 is required for this version of SciPy (detected version 1.26.0\n",
      "  warnings.warn(f\"A NumPy version >={np_minversion} and <{np_maxversion}\"\n"
     ]
    }
   ],
   "source": [
    "%reload_ext autoreload\n",
    "%autoreload 2\n",
    "\n",
    "# module\n",
    "import sys\n",
    "sys.path.append(\"../\")\n",
    "from src import *"
   ]
  },
  {
   "cell_type": "markdown",
   "metadata": {},
   "source": [
    "**Récupération de la donnée**"
   ]
  },
  {
   "cell_type": "code",
   "execution_count": 3,
   "metadata": {},
   "outputs": [],
   "source": [
    "# chemin vers la donnee \n",
    "data_dir = '/home/valentin/Documents/Cours/MACS/MACS3/madane/data/data_extracted/'\n",
    "filelist = glob.glob(data_dir + '*.h5')\n",
    "\n",
    "# PARAMETRES DE LA DONNEE \n",
    "# Avion\n",
    "_PLANE = 0\n",
    "ddf = lire_hdf_dask(filelist[_PLANE], repertoire= data_dir)"
   ]
  },
  {
   "cell_type": "markdown",
   "metadata": {},
   "source": [
    "## Application de la problématiques à tous les vols du même avion \n",
    "\n",
    "Rappelons que l'on dispose des fonctions * *"
   ]
  }
 ],
 "metadata": {
  "kernelspec": {
   "display_name": "Python 3",
   "language": "python",
   "name": "python3"
  },
  "language_info": {
   "codemirror_mode": {
    "name": "ipython",
    "version": 3
   },
   "file_extension": ".py",
   "mimetype": "text/x-python",
   "name": "python",
   "nbconvert_exporter": "python",
   "pygments_lexer": "ipython3",
   "version": "3.10.12"
  }
 },
 "nbformat": 4,
 "nbformat_minor": 2
}
