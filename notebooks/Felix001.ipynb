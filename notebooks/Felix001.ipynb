{
 "cells": [
  {
   "cell_type": "markdown",
   "id": "f9c175e3-39b3-4da8-a22e-43f21b5a4c71",
   "metadata": {},
   "source": [
    "# Projet statistique descriptive \n",
    "\n"
   ]
  },
  {
   "cell_type": "code",
   "execution_count": 1,
   "id": "9ac68368-517d-4ab2-88c6-b157bfacbb0b",
   "metadata": {},
   "outputs": [
    {
     "data": {
      "text/plain": [
       "['C:/Users/felix/PycharmProjects/pythonProject1/MACS3-Statistiques-Descriptives-TDs/data/archive\\\\Aircraft_01.h5',\n",
       " 'C:/Users/felix/PycharmProjects/pythonProject1/MACS3-Statistiques-Descriptives-TDs/data/archive\\\\Aircraft_01_dask.h5',\n",
       " 'C:/Users/felix/PycharmProjects/pythonProject1/MACS3-Statistiques-Descriptives-TDs/data/archive\\\\Aircraft_02.h5',\n",
       " 'C:/Users/felix/PycharmProjects/pythonProject1/MACS3-Statistiques-Descriptives-TDs/data/archive\\\\Aircraft_02_dask.h5',\n",
       " 'C:/Users/felix/PycharmProjects/pythonProject1/MACS3-Statistiques-Descriptives-TDs/data/archive\\\\Aircraft_03.h5',\n",
       " 'C:/Users/felix/PycharmProjects/pythonProject1/MACS3-Statistiques-Descriptives-TDs/data/archive\\\\Aircraft_03_dask.h5']"
      ]
     },
     "execution_count": 1,
     "metadata": {},
     "output_type": "execute_result"
    }
   ],
   "source": [
    "%reload_ext autoreload\n",
    "%autoreload 2\n",
    "\n",
    "# module\n",
    "import sys\n",
    "sys.path.append(\"../\")\n",
    "from src import * \n",
    "\n",
    "# chemin vers la donnee \n",
    "data_dir = 'C:/Users/felix/PycharmProjects/pythonProject1/MACS3-Statistiques-Descriptives-TDs/data/archive/'\n",
    "filelist = glob.glob(data_dir + '*.h5')\n",
    "filelist"
   ]
  },
  {
   "cell_type": "code",
   "execution_count": 2,
   "id": "39debcb0-ef3b-44a1-a6f0-0bb401a9c558",
   "metadata": {},
   "outputs": [],
   "source": [
    "from tabata import Opset\n",
    "#première visualisation brut de la données "
   ]
  },
  {
   "cell_type": "markdown",
   "id": "06ccdf92-c378-4256-8db2-033353f90ced",
   "metadata": {},
   "source": [
    "# Première visualisation brut de la données \n",
    "La visualisation des graphes nous à permis dans un premier temps de constater des anomalies dans les données et de supprimer ces données pour la suite de nos analyse.En effet ces données dites anormales représentent des mesures ou l'avions n'à pas décollé (sûrement des tests au sols) donc il est légitimes de les supprimer quand on s'intéresse aux comportements de l'avion en vol."
   ]
  },
  {
   "cell_type": "code",
   "execution_count": 3,
   "id": "503cce27-19ff-4f55-ae92-160c9ff4566c",
   "metadata": {},
   "outputs": [],
   "source": [
    "df_opset1=Opset('C:/Users/felix/PycharmProjects/pythonProject1/MACS3-Statistiques-Descriptives-TDs/data/archive\\\\Aircraft_01.h5')\n",
    "df_opset2=Opset('C:/Users/felix/PycharmProjects/pythonProject1/MACS3-Statistiques-Descriptives-TDs/data/archive\\\\Aircraft_02.h5')\n",
    "df_opset3=Opset('C:/Users/felix/PycharmProjects/pythonProject1/MACS3-Statistiques-Descriptives-TDs/data/archive\\\\Aircraft_03.h5')"
   ]
  },
  {
   "cell_type": "code",
   "execution_count": 4,
   "id": "1fdee2de-3bcd-4873-a985-e99317d3c074",
   "metadata": {},
   "outputs": [
    {
     "data": {
      "text/plain": [
       "OPSET 'C:/Users/felix/PycharmProjects/pythonProject1/MACS3-Statistiques-Descriptives-TDs/data/archive\\Aircraft_01.h5' de 1002 signaux.\n",
       "        position courante : sigpos  = 0\n",
       "        variable courante : colname = ALT [ft]\n",
       "        phase surlignée   : phase   = None"
      ]
     },
     "execution_count": 4,
     "metadata": {},
     "output_type": "execute_result"
    }
   ],
   "source": [
    "df_opset1"
   ]
  },
  {
   "cell_type": "code",
   "execution_count": 5,
   "id": "20cf378e-5d89-442b-b5f5-0bfe04023b85",
   "metadata": {},
   "outputs": [
    {
     "data": {
      "application/vnd.jupyter.widget-view+json": {
       "model_id": "2e44bd5715e24fb9b897f8db0fd9c6aa",
       "version_major": 2,
       "version_minor": 0
      },
      "text/plain": [
       "VBox(children=(HBox(children=(Dropdown(description='Variable :', options=('ALT [ft]', 'EGT_1 [deg C]', 'EGT_2 …"
      ]
     },
     "execution_count": 5,
     "metadata": {},
     "output_type": "execute_result"
    }
   ],
   "source": [
    "df_opset1.plot()"
   ]
  },
  {
   "cell_type": "code",
   "execution_count": 6,
   "id": "34850651-4a84-461c-a735-0cf04845297d",
   "metadata": {},
   "outputs": [
    {
     "data": {
      "text/plain": [
       "tabata.opset.Opset"
      ]
     },
     "execution_count": 6,
     "metadata": {},
     "output_type": "execute_result"
    }
   ],
   "source": [
    "type(df_opset2)"
   ]
  },
  {
   "cell_type": "code",
   "execution_count": 7,
   "id": "4b66adf5-220d-4560-90e6-d7379114c75e",
   "metadata": {},
   "outputs": [
    {
     "data": {
      "application/vnd.jupyter.widget-view+json": {
       "model_id": "782681dc141a44b38de2544ffae2b7fb",
       "version_major": 2,
       "version_minor": 0
      },
      "text/plain": [
       "VBox(children=(HBox(children=(Dropdown(description='Variable :', options=('ALT [ft]', 'EGT_1 [deg C]', 'EGT_2 …"
      ]
     },
     "execution_count": 7,
     "metadata": {},
     "output_type": "execute_result"
    }
   ],
   "source": [
    "df_opset2.plot()"
   ]
  },
  {
   "cell_type": "code",
   "execution_count": 8,
   "id": "c0e2a233-ac1a-4806-9b06-b639f05e684c",
   "metadata": {},
   "outputs": [
    {
     "data": {
      "application/vnd.jupyter.widget-view+json": {
       "model_id": "c8665d0f2d354ab29456acfa441b9cba",
       "version_major": 2,
       "version_minor": 0
      },
      "text/plain": [
       "VBox(children=(HBox(children=(Dropdown(description='Variable :', options=('ALT [ft]', 'EGT_1 [deg C]', 'EGT_2 …"
      ]
     },
     "execution_count": 8,
     "metadata": {},
     "output_type": "execute_result"
    }
   ],
   "source": [
    "df_opset3.plot()"
   ]
  },
  {
   "cell_type": "markdown",
   "id": "a09a6386-161a-418a-980c-49ec3c261d52",
   "metadata": {},
   "source": [
    "## Creation d'une fonction sur les dataframes pour éliminer les records anormaux\n",
    "On utilise l'avantage de Dask qui permet de paralléliser sur les dataframes.\n",
    "Le but de la fonction eliminate_records() est de vérifier la différence entre l'altitude minimum et maximum est d'au plus 15000 ft si c'est le cas alors elle renvoit False et True sinon.\n",
    "\n"
   ]
  },
  {
   "cell_type": "code",
   "execution_count": 9,
   "id": "f9e66839-63d8-4d32-9899-09a242251461",
   "metadata": {},
   "outputs": [],
   "source": [
    "def eliminate_records(df):\n",
    "    \n",
    "    alt_min=df['ALT [ft]'].min()\n",
    "    alt_max=df['ALT [ft]'].max()\n",
    "    alt_range=alt_max-alt_min\n",
    "    bol=False\n",
    "    \n",
    "    if alt_range<15000:\n",
    "        bol=True\n",
    "    return bol\n",
    "    \n",
    "    "
   ]
  },
  {
   "cell_type": "code",
   "execution_count": 10,
   "id": "56b55065-1c48-410d-9177-253760c8ef84",
   "metadata": {},
   "outputs": [
    {
     "name": "stderr",
     "output_type": "stream",
     "text": [
      "C:\\Users\\felix\\PycharmProjects\\pythonProject1\\projet_lacaille\\stats_descriptive_project\\notebooks\\..\\src\\manipulate_dataframe.py:20: RuntimeWarning:\n",
      "\n",
      "invalid value encountered in divide\n",
      "\n",
      "C:\\Users\\felix\\PycharmProjects\\pythonProject1\\projet_lacaille\\stats_descriptive_project\\notebooks\\..\\src\\manipulate_dataframe.py:20: RuntimeWarning:\n",
      "\n",
      "invalid value encountered in divide\n",
      "\n",
      "C:\\Users\\felix\\PycharmProjects\\pythonProject1\\projet_lacaille\\stats_descriptive_project\\notebooks\\..\\src\\manipulate_dataframe.py:20: RuntimeWarning:\n",
      "\n",
      "invalid value encountered in divide\n",
      "\n"
     ]
    }
   ],
   "source": [
    "#on cree notre dataframe avec DASK\n",
    "ddf1 = lire_hdf_dask(filelist[0], repertoire= data_dir)\n",
    "#on récupère une liste de booleen où chaque composante fait reférance à une partition \n",
    "I = ddf1.map_partitions(lambda df: eliminate_records(df)).compute()\n",
    "#on sélectione dans un nouveau dataframe les partitions qui ne sont pas anormales \n",
    "DDF1=ddf1.partitions[I==False]\n",
    "# on normalise toute les données excepté les variables booleen \n",
    "ddf_norm1 = DDF1.map_partitions(lambda df : normalize(df))\n",
    "\n",
    "ddf2 = lire_hdf_dask(filelist[2], repertoire= data_dir)\n",
    "I = ddf2.map_partitions(lambda df: eliminate_records(df)).compute()\n",
    "DDF2=ddf2.partitions[I==False]\n",
    "ddf_norm2 = DDF2.map_partitions(lambda df : normalize(df))\n",
    "\n",
    "ddf3 = lire_hdf_dask(filelist[3], repertoire= data_dir)\n",
    "I = ddf3.map_partitions(lambda df: eliminate_records(df)).compute()\n",
    "DDF3=ddf3.partitions[I==False]\n",
    "ddf_norm3 = DDF3.map_partitions(lambda df : normalize(df))"
   ]
  },
  {
   "cell_type": "code",
   "execution_count": 11,
   "id": "cab227a7-a05f-45dc-9f93-5b1ddc6e75e7",
   "metadata": {},
   "outputs": [
    {
     "data": {
      "text/html": [
       "<div>\n",
       "<style scoped>\n",
       "    .dataframe tbody tr th:only-of-type {\n",
       "        vertical-align: middle;\n",
       "    }\n",
       "\n",
       "    .dataframe tbody tr th {\n",
       "        vertical-align: top;\n",
       "    }\n",
       "\n",
       "    .dataframe thead th {\n",
       "        text-align: right;\n",
       "    }\n",
       "</style>\n",
       "<table border=\"1\" class=\"dataframe\">\n",
       "  <thead>\n",
       "    <tr style=\"text-align: right;\">\n",
       "      <th></th>\n",
       "      <th>ALT</th>\n",
       "      <th>EGT_1</th>\n",
       "      <th>EGT_2</th>\n",
       "      <th>FMV_1</th>\n",
       "      <th>FMV_2</th>\n",
       "      <th>HPTACC_1</th>\n",
       "      <th>HPTACC_2</th>\n",
       "      <th>M</th>\n",
       "      <th>N1_1</th>\n",
       "      <th>N1_2</th>\n",
       "      <th>...</th>\n",
       "      <th>VIB_AN1_1</th>\n",
       "      <th>VIB_AN1_2</th>\n",
       "      <th>VIB_AN2_1</th>\n",
       "      <th>VIB_AN2_2</th>\n",
       "      <th>VIB_BN1_1</th>\n",
       "      <th>VIB_BN1_2</th>\n",
       "      <th>VIB_BN2_1</th>\n",
       "      <th>VIB_BN2_2</th>\n",
       "      <th>VSV_1</th>\n",
       "      <th>VSV_2</th>\n",
       "    </tr>\n",
       "    <tr>\n",
       "      <th>record_00</th>\n",
       "      <th></th>\n",
       "      <th></th>\n",
       "      <th></th>\n",
       "      <th></th>\n",
       "      <th></th>\n",
       "      <th></th>\n",
       "      <th></th>\n",
       "      <th></th>\n",
       "      <th></th>\n",
       "      <th></th>\n",
       "      <th></th>\n",
       "      <th></th>\n",
       "      <th></th>\n",
       "      <th></th>\n",
       "      <th></th>\n",
       "      <th></th>\n",
       "      <th></th>\n",
       "      <th></th>\n",
       "      <th></th>\n",
       "      <th></th>\n",
       "      <th></th>\n",
       "    </tr>\n",
       "  </thead>\n",
       "  <tbody>\n",
       "    <tr>\n",
       "      <th>0</th>\n",
       "      <td>-1.134103</td>\n",
       "      <td>-3.447952</td>\n",
       "      <td>-3.667389</td>\n",
       "      <td>-2.28672</td>\n",
       "      <td>-2.364025</td>\n",
       "      <td>-1.128226</td>\n",
       "      <td>-1.261854</td>\n",
       "      <td>-1.339298</td>\n",
       "      <td>-1.854991</td>\n",
       "      <td>-1.873735</td>\n",
       "      <td>...</td>\n",
       "      <td>-1.22466</td>\n",
       "      <td>-1.070851</td>\n",
       "      <td>-1.455161</td>\n",
       "      <td>-0.995082</td>\n",
       "      <td>-1.3565</td>\n",
       "      <td>-1.18976</td>\n",
       "      <td>-1.749496</td>\n",
       "      <td>-1.453541</td>\n",
       "      <td>1.376408</td>\n",
       "      <td>1.386277</td>\n",
       "    </tr>\n",
       "    <tr>\n",
       "      <th>1</th>\n",
       "      <td>-1.134103</td>\n",
       "      <td>-3.447952</td>\n",
       "      <td>-3.667389</td>\n",
       "      <td>-2.28672</td>\n",
       "      <td>-2.364025</td>\n",
       "      <td>-1.128226</td>\n",
       "      <td>-1.261854</td>\n",
       "      <td>-1.339298</td>\n",
       "      <td>-1.854991</td>\n",
       "      <td>-1.873735</td>\n",
       "      <td>...</td>\n",
       "      <td>-1.22466</td>\n",
       "      <td>-1.070851</td>\n",
       "      <td>-1.455161</td>\n",
       "      <td>-0.995082</td>\n",
       "      <td>-1.3565</td>\n",
       "      <td>-1.18976</td>\n",
       "      <td>-1.749496</td>\n",
       "      <td>-1.453541</td>\n",
       "      <td>1.376408</td>\n",
       "      <td>1.386277</td>\n",
       "    </tr>\n",
       "    <tr>\n",
       "      <th>2</th>\n",
       "      <td>-1.134103</td>\n",
       "      <td>-3.447952</td>\n",
       "      <td>-3.674029</td>\n",
       "      <td>-2.28672</td>\n",
       "      <td>-2.364025</td>\n",
       "      <td>-1.126343</td>\n",
       "      <td>-1.261854</td>\n",
       "      <td>-1.339298</td>\n",
       "      <td>-1.854991</td>\n",
       "      <td>-1.873735</td>\n",
       "      <td>...</td>\n",
       "      <td>-1.22466</td>\n",
       "      <td>-1.070851</td>\n",
       "      <td>-1.455161</td>\n",
       "      <td>-0.995082</td>\n",
       "      <td>-1.3565</td>\n",
       "      <td>-1.18976</td>\n",
       "      <td>-1.749496</td>\n",
       "      <td>-1.453541</td>\n",
       "      <td>1.376408</td>\n",
       "      <td>1.390019</td>\n",
       "    </tr>\n",
       "    <tr>\n",
       "      <th>3</th>\n",
       "      <td>-1.134103</td>\n",
       "      <td>-3.447952</td>\n",
       "      <td>-3.667389</td>\n",
       "      <td>-2.28672</td>\n",
       "      <td>-2.364025</td>\n",
       "      <td>-1.128226</td>\n",
       "      <td>-1.259411</td>\n",
       "      <td>-1.339298</td>\n",
       "      <td>-1.854991</td>\n",
       "      <td>-1.873735</td>\n",
       "      <td>...</td>\n",
       "      <td>-1.22466</td>\n",
       "      <td>-1.070851</td>\n",
       "      <td>-1.455161</td>\n",
       "      <td>-0.995082</td>\n",
       "      <td>-1.3565</td>\n",
       "      <td>-1.18976</td>\n",
       "      <td>-1.749496</td>\n",
       "      <td>-1.453541</td>\n",
       "      <td>1.376408</td>\n",
       "      <td>1.386277</td>\n",
       "    </tr>\n",
       "    <tr>\n",
       "      <th>4</th>\n",
       "      <td>-1.134103</td>\n",
       "      <td>-3.447952</td>\n",
       "      <td>-3.667389</td>\n",
       "      <td>-2.28672</td>\n",
       "      <td>-2.364025</td>\n",
       "      <td>-1.128226</td>\n",
       "      <td>-1.261854</td>\n",
       "      <td>-1.339298</td>\n",
       "      <td>-1.854991</td>\n",
       "      <td>-1.873735</td>\n",
       "      <td>...</td>\n",
       "      <td>-1.22466</td>\n",
       "      <td>-1.070851</td>\n",
       "      <td>-1.455161</td>\n",
       "      <td>-0.995082</td>\n",
       "      <td>-1.3565</td>\n",
       "      <td>-1.18976</td>\n",
       "      <td>-1.749496</td>\n",
       "      <td>-1.453541</td>\n",
       "      <td>1.376408</td>\n",
       "      <td>1.386277</td>\n",
       "    </tr>\n",
       "  </tbody>\n",
       "</table>\n",
       "<p>5 rows × 51 columns</p>\n",
       "</div>"
      ],
      "text/plain": [
       "                ALT     EGT_1     EGT_2    FMV_1     FMV_2  HPTACC_1  \\\n",
       "record_00                                                              \n",
       "0         -1.134103 -3.447952 -3.667389 -2.28672 -2.364025 -1.128226   \n",
       "1         -1.134103 -3.447952 -3.667389 -2.28672 -2.364025 -1.128226   \n",
       "2         -1.134103 -3.447952 -3.674029 -2.28672 -2.364025 -1.126343   \n",
       "3         -1.134103 -3.447952 -3.667389 -2.28672 -2.364025 -1.128226   \n",
       "4         -1.134103 -3.447952 -3.667389 -2.28672 -2.364025 -1.128226   \n",
       "\n",
       "           HPTACC_2         M      N1_1      N1_2  ...  VIB_AN1_1  VIB_AN1_2  \\\n",
       "record_00                                          ...                         \n",
       "0         -1.261854 -1.339298 -1.854991 -1.873735  ...   -1.22466  -1.070851   \n",
       "1         -1.261854 -1.339298 -1.854991 -1.873735  ...   -1.22466  -1.070851   \n",
       "2         -1.261854 -1.339298 -1.854991 -1.873735  ...   -1.22466  -1.070851   \n",
       "3         -1.259411 -1.339298 -1.854991 -1.873735  ...   -1.22466  -1.070851   \n",
       "4         -1.261854 -1.339298 -1.854991 -1.873735  ...   -1.22466  -1.070851   \n",
       "\n",
       "           VIB_AN2_1  VIB_AN2_2  VIB_BN1_1  VIB_BN1_2  VIB_BN2_1  VIB_BN2_2  \\\n",
       "record_00                                                                     \n",
       "0          -1.455161  -0.995082    -1.3565   -1.18976  -1.749496  -1.453541   \n",
       "1          -1.455161  -0.995082    -1.3565   -1.18976  -1.749496  -1.453541   \n",
       "2          -1.455161  -0.995082    -1.3565   -1.18976  -1.749496  -1.453541   \n",
       "3          -1.455161  -0.995082    -1.3565   -1.18976  -1.749496  -1.453541   \n",
       "4          -1.455161  -0.995082    -1.3565   -1.18976  -1.749496  -1.453541   \n",
       "\n",
       "              VSV_1     VSV_2  \n",
       "record_00                      \n",
       "0          1.376408  1.386277  \n",
       "1          1.376408  1.386277  \n",
       "2          1.376408  1.390019  \n",
       "3          1.376408  1.386277  \n",
       "4          1.376408  1.386277  \n",
       "\n",
       "[5 rows x 51 columns]"
      ]
     },
     "execution_count": 11,
     "metadata": {},
     "output_type": "execute_result"
    }
   ],
   "source": [
    "ddf_norm2.head()"
   ]
  },
  {
   "cell_type": "markdown",
   "id": "84e61740-b838-4a30-9230-3350771b4dcd",
   "metadata": {},
   "source": [
    "# Etude de la relation entre monte et EGT \n",
    "-On cherche à trouver des relations entre EGT max et la vitesse de monte par exemple \n",
    "\n"
   ]
  },
  {
   "cell_type": "markdown",
   "id": "38c1c344-13d4-4649-bbd2-0ab41696cd84",
   "metadata": {},
   "source": []
  },
  {
   "cell_type": "markdown",
   "id": "1550e79c-9533-406f-9daa-0508efb2858d",
   "metadata": {},
   "source": [
    "Il va falloir peut être modifier la fonction deriv_glissante lorsque qu'on passera à l'analyse de chaque record "
   ]
  },
  {
   "cell_type": "code",
   "execution_count": 12,
   "id": "0cd22097-059e-4032-888f-f5d8f05d50b2",
   "metadata": {},
   "outputs": [],
   "source": [
    "def deriv_glissante(df):\n",
    "    \n",
    "    #on cree une fonction qui prend un data frame qui l'augment de la valeur dy et qui renvoit  un nouveau dataframe contenant que le monté \n",
    "    #ATTENTION LA FONCTION PRENDS EN ENTREE DES DONNEES NORMALISEE\n",
    "    \n",
    "    dy=np.zeros(len(df))\n",
    "    \n",
    "    #on fait une moyenne glissante pour éviter d'être sensible aux bruit. En effet pour le cacul de dérivée le bruit \n",
    "    #fausse trés rapidement les données\n",
    "    y = df['ALT'].rolling(window = 20).mean()\n",
    "    I = range(y.index[0], y.index[-1],20)\n",
    "    #calcul de la derivée\n",
    "    dy[0:len(I)-1] = y[I[1:]].values- y[I[:-1]].values\n",
    "    #creation d'une nouvelle colonne dans le dataframe\n",
    "    df['dy']=dy\n",
    "    #on selectionne le dataframe où les dérivées sont plus grande que 0.01 (la montée)\n",
    "    df_monte=df[df['dy']>0.01]\n",
    "    I4=np.zeros(len(df_monte))\n",
    "    #on verifie qu' avec un shift des données on retombe bien sur les mêmes indices cela permet d'éviter \n",
    "    # de prendre en compte des valeurs qui ne serait pas dans la phase de la montée \n",
    "    #Attention cette façon de faire est lié aux cas d'un vol d'avion (l'hypothèse admise est que l'avion ne monte qu'une fois)\n",
    "    #Et s'il existe plus de 6 données anormale consécutives alors elles seront prise en compte \n",
    "    \n",
    "    I4[5:]=df_monte.index[5:]==(df_monte.index+5)[:-5]\n",
    "    I4[:5]=1\n",
    "    df_monte2=df_monte[I4==1]\n",
    "    \n",
    "\n",
    "\n",
    "    return df_monte2"
   ]
  },
  {
   "cell_type": "code",
   "execution_count": 13,
   "id": "0b2b3bd0-e378-40e3-a1ba-8ab22531ca10",
   "metadata": {},
   "outputs": [
    {
     "data": {
      "text/html": [
       "<div>\n",
       "<style scoped>\n",
       "    .dataframe tbody tr th:only-of-type {\n",
       "        vertical-align: middle;\n",
       "    }\n",
       "\n",
       "    .dataframe tbody tr th {\n",
       "        vertical-align: top;\n",
       "    }\n",
       "\n",
       "    .dataframe thead th {\n",
       "        text-align: right;\n",
       "    }\n",
       "</style>\n",
       "<table border=\"1\" class=\"dataframe\">\n",
       "  <thead>\n",
       "    <tr style=\"text-align: right;\">\n",
       "      <th></th>\n",
       "      <th>ALT</th>\n",
       "      <th>EGT_1</th>\n",
       "      <th>EGT_2</th>\n",
       "      <th>FMV_1</th>\n",
       "      <th>FMV_2</th>\n",
       "      <th>HPTACC_1</th>\n",
       "      <th>HPTACC_2</th>\n",
       "      <th>M</th>\n",
       "      <th>N1_1</th>\n",
       "      <th>N1_2</th>\n",
       "      <th>...</th>\n",
       "      <th>VIB_AN1_2</th>\n",
       "      <th>VIB_AN2_1</th>\n",
       "      <th>VIB_AN2_2</th>\n",
       "      <th>VIB_BN1_1</th>\n",
       "      <th>VIB_BN1_2</th>\n",
       "      <th>VIB_BN2_1</th>\n",
       "      <th>VIB_BN2_2</th>\n",
       "      <th>VSV_1</th>\n",
       "      <th>VSV_2</th>\n",
       "      <th>dy</th>\n",
       "    </tr>\n",
       "    <tr>\n",
       "      <th>record_101</th>\n",
       "      <th></th>\n",
       "      <th></th>\n",
       "      <th></th>\n",
       "      <th></th>\n",
       "      <th></th>\n",
       "      <th></th>\n",
       "      <th></th>\n",
       "      <th></th>\n",
       "      <th></th>\n",
       "      <th></th>\n",
       "      <th></th>\n",
       "      <th></th>\n",
       "      <th></th>\n",
       "      <th></th>\n",
       "      <th></th>\n",
       "      <th></th>\n",
       "      <th></th>\n",
       "      <th></th>\n",
       "      <th></th>\n",
       "      <th></th>\n",
       "      <th></th>\n",
       "    </tr>\n",
       "  </thead>\n",
       "  <tbody>\n",
       "    <tr>\n",
       "      <th>34</th>\n",
       "      <td>-1.497996</td>\n",
       "      <td>-3.525778</td>\n",
       "      <td>-3.787406</td>\n",
       "      <td>-2.644857</td>\n",
       "      <td>-2.726506</td>\n",
       "      <td>-1.458621</td>\n",
       "      <td>-1.543392</td>\n",
       "      <td>-1.851863</td>\n",
       "      <td>-2.289603</td>\n",
       "      <td>-2.311688</td>\n",
       "      <td>...</td>\n",
       "      <td>-1.589433</td>\n",
       "      <td>-1.873868</td>\n",
       "      <td>-0.536182</td>\n",
       "      <td>-1.898331</td>\n",
       "      <td>-1.651577</td>\n",
       "      <td>-1.963053</td>\n",
       "      <td>-1.945944</td>\n",
       "      <td>1.859718</td>\n",
       "      <td>1.863502</td>\n",
       "      <td>0.052481</td>\n",
       "    </tr>\n",
       "    <tr>\n",
       "      <th>35</th>\n",
       "      <td>-1.497996</td>\n",
       "      <td>-3.525778</td>\n",
       "      <td>-3.787406</td>\n",
       "      <td>-2.644857</td>\n",
       "      <td>-2.726506</td>\n",
       "      <td>-1.458621</td>\n",
       "      <td>-1.543392</td>\n",
       "      <td>-1.851863</td>\n",
       "      <td>-2.289603</td>\n",
       "      <td>-2.311688</td>\n",
       "      <td>...</td>\n",
       "      <td>-1.589433</td>\n",
       "      <td>-1.873868</td>\n",
       "      <td>-0.536182</td>\n",
       "      <td>-1.898331</td>\n",
       "      <td>-1.651577</td>\n",
       "      <td>-1.963053</td>\n",
       "      <td>-1.945944</td>\n",
       "      <td>1.859718</td>\n",
       "      <td>1.863502</td>\n",
       "      <td>0.053005</td>\n",
       "    </tr>\n",
       "    <tr>\n",
       "      <th>36</th>\n",
       "      <td>-1.497996</td>\n",
       "      <td>-3.525778</td>\n",
       "      <td>-3.787406</td>\n",
       "      <td>-2.644857</td>\n",
       "      <td>-2.726506</td>\n",
       "      <td>-1.460044</td>\n",
       "      <td>-1.543392</td>\n",
       "      <td>-1.851863</td>\n",
       "      <td>-2.289603</td>\n",
       "      <td>-2.311688</td>\n",
       "      <td>...</td>\n",
       "      <td>-1.589433</td>\n",
       "      <td>-1.873868</td>\n",
       "      <td>-0.536182</td>\n",
       "      <td>-1.898331</td>\n",
       "      <td>-1.651577</td>\n",
       "      <td>-1.963053</td>\n",
       "      <td>-1.945944</td>\n",
       "      <td>1.859718</td>\n",
       "      <td>1.863502</td>\n",
       "      <td>0.055372</td>\n",
       "    </tr>\n",
       "    <tr>\n",
       "      <th>37</th>\n",
       "      <td>-1.497996</td>\n",
       "      <td>-3.525778</td>\n",
       "      <td>-3.787406</td>\n",
       "      <td>-2.644857</td>\n",
       "      <td>-2.726506</td>\n",
       "      <td>-1.456962</td>\n",
       "      <td>-1.541692</td>\n",
       "      <td>-1.851863</td>\n",
       "      <td>-2.289603</td>\n",
       "      <td>-2.311688</td>\n",
       "      <td>...</td>\n",
       "      <td>-1.589433</td>\n",
       "      <td>-1.873868</td>\n",
       "      <td>-0.536182</td>\n",
       "      <td>-1.898331</td>\n",
       "      <td>-1.651577</td>\n",
       "      <td>-1.963053</td>\n",
       "      <td>-1.945944</td>\n",
       "      <td>1.859718</td>\n",
       "      <td>1.863502</td>\n",
       "      <td>0.054639</td>\n",
       "    </tr>\n",
       "    <tr>\n",
       "      <th>38</th>\n",
       "      <td>-1.497996</td>\n",
       "      <td>-3.525778</td>\n",
       "      <td>-3.787406</td>\n",
       "      <td>-2.644857</td>\n",
       "      <td>-2.726506</td>\n",
       "      <td>-1.456962</td>\n",
       "      <td>-1.541692</td>\n",
       "      <td>-1.851863</td>\n",
       "      <td>-2.289603</td>\n",
       "      <td>-2.311688</td>\n",
       "      <td>...</td>\n",
       "      <td>-1.589433</td>\n",
       "      <td>-1.873868</td>\n",
       "      <td>-0.536182</td>\n",
       "      <td>-1.898331</td>\n",
       "      <td>-1.651577</td>\n",
       "      <td>-1.963053</td>\n",
       "      <td>-1.945944</td>\n",
       "      <td>1.859718</td>\n",
       "      <td>1.863502</td>\n",
       "      <td>0.081540</td>\n",
       "    </tr>\n",
       "    <tr>\n",
       "      <th>...</th>\n",
       "      <td>...</td>\n",
       "      <td>...</td>\n",
       "      <td>...</td>\n",
       "      <td>...</td>\n",
       "      <td>...</td>\n",
       "      <td>...</td>\n",
       "      <td>...</td>\n",
       "      <td>...</td>\n",
       "      <td>...</td>\n",
       "      <td>...</td>\n",
       "      <td>...</td>\n",
       "      <td>...</td>\n",
       "      <td>...</td>\n",
       "      <td>...</td>\n",
       "      <td>...</td>\n",
       "      <td>...</td>\n",
       "      <td>...</td>\n",
       "      <td>...</td>\n",
       "      <td>...</td>\n",
       "      <td>...</td>\n",
       "      <td>...</td>\n",
       "    </tr>\n",
       "    <tr>\n",
       "      <th>91</th>\n",
       "      <td>-1.497996</td>\n",
       "      <td>-3.531925</td>\n",
       "      <td>-3.793829</td>\n",
       "      <td>-2.644857</td>\n",
       "      <td>-2.726506</td>\n",
       "      <td>-1.458621</td>\n",
       "      <td>-1.544848</td>\n",
       "      <td>-1.851863</td>\n",
       "      <td>-2.289603</td>\n",
       "      <td>-2.311688</td>\n",
       "      <td>...</td>\n",
       "      <td>-1.589433</td>\n",
       "      <td>-1.873868</td>\n",
       "      <td>-0.536182</td>\n",
       "      <td>-1.898331</td>\n",
       "      <td>-1.651577</td>\n",
       "      <td>-1.963053</td>\n",
       "      <td>-1.945944</td>\n",
       "      <td>1.859718</td>\n",
       "      <td>1.863502</td>\n",
       "      <td>0.027882</td>\n",
       "    </tr>\n",
       "    <tr>\n",
       "      <th>92</th>\n",
       "      <td>-1.497996</td>\n",
       "      <td>-3.531925</td>\n",
       "      <td>-3.787406</td>\n",
       "      <td>-2.644857</td>\n",
       "      <td>-2.726506</td>\n",
       "      <td>-1.456962</td>\n",
       "      <td>-1.541692</td>\n",
       "      <td>-1.851863</td>\n",
       "      <td>-2.289603</td>\n",
       "      <td>-2.311688</td>\n",
       "      <td>...</td>\n",
       "      <td>-1.589433</td>\n",
       "      <td>-1.873868</td>\n",
       "      <td>-0.536182</td>\n",
       "      <td>-1.898331</td>\n",
       "      <td>-1.651577</td>\n",
       "      <td>-1.963053</td>\n",
       "      <td>-1.945944</td>\n",
       "      <td>1.859718</td>\n",
       "      <td>1.863502</td>\n",
       "      <td>0.036160</td>\n",
       "    </tr>\n",
       "    <tr>\n",
       "      <th>93</th>\n",
       "      <td>-1.497996</td>\n",
       "      <td>-3.531925</td>\n",
       "      <td>-3.793829</td>\n",
       "      <td>-2.644857</td>\n",
       "      <td>-2.726506</td>\n",
       "      <td>-1.456962</td>\n",
       "      <td>-1.543392</td>\n",
       "      <td>-1.851863</td>\n",
       "      <td>-2.289603</td>\n",
       "      <td>-2.311688</td>\n",
       "      <td>...</td>\n",
       "      <td>-1.589433</td>\n",
       "      <td>-1.873868</td>\n",
       "      <td>-0.536182</td>\n",
       "      <td>-1.898331</td>\n",
       "      <td>-1.651577</td>\n",
       "      <td>-1.963053</td>\n",
       "      <td>-1.945944</td>\n",
       "      <td>1.859718</td>\n",
       "      <td>1.863502</td>\n",
       "      <td>0.021788</td>\n",
       "    </tr>\n",
       "    <tr>\n",
       "      <th>94</th>\n",
       "      <td>-1.497996</td>\n",
       "      <td>-3.531925</td>\n",
       "      <td>-3.787406</td>\n",
       "      <td>-2.644857</td>\n",
       "      <td>-2.726506</td>\n",
       "      <td>-1.456962</td>\n",
       "      <td>-1.544848</td>\n",
       "      <td>-1.851863</td>\n",
       "      <td>-2.289603</td>\n",
       "      <td>-2.311688</td>\n",
       "      <td>...</td>\n",
       "      <td>-1.589433</td>\n",
       "      <td>-1.873868</td>\n",
       "      <td>-0.536182</td>\n",
       "      <td>-1.898331</td>\n",
       "      <td>-1.651577</td>\n",
       "      <td>-1.963053</td>\n",
       "      <td>-1.945944</td>\n",
       "      <td>1.859718</td>\n",
       "      <td>1.863502</td>\n",
       "      <td>0.015026</td>\n",
       "    </tr>\n",
       "    <tr>\n",
       "      <th>95</th>\n",
       "      <td>-1.497996</td>\n",
       "      <td>-3.531925</td>\n",
       "      <td>-3.787406</td>\n",
       "      <td>-2.644857</td>\n",
       "      <td>-2.726506</td>\n",
       "      <td>-1.456962</td>\n",
       "      <td>-1.544848</td>\n",
       "      <td>-1.851863</td>\n",
       "      <td>-2.289603</td>\n",
       "      <td>-2.311688</td>\n",
       "      <td>...</td>\n",
       "      <td>-1.589433</td>\n",
       "      <td>-1.873868</td>\n",
       "      <td>-0.536182</td>\n",
       "      <td>-1.898331</td>\n",
       "      <td>-1.651577</td>\n",
       "      <td>-1.963053</td>\n",
       "      <td>-1.945944</td>\n",
       "      <td>1.859718</td>\n",
       "      <td>1.863502</td>\n",
       "      <td>0.012411</td>\n",
       "    </tr>\n",
       "  </tbody>\n",
       "</table>\n",
       "<p>62 rows × 52 columns</p>\n",
       "</div>"
      ],
      "text/plain": [
       "                 ALT     EGT_1     EGT_2     FMV_1     FMV_2  HPTACC_1  \\\n",
       "record_101                                                               \n",
       "34         -1.497996 -3.525778 -3.787406 -2.644857 -2.726506 -1.458621   \n",
       "35         -1.497996 -3.525778 -3.787406 -2.644857 -2.726506 -1.458621   \n",
       "36         -1.497996 -3.525778 -3.787406 -2.644857 -2.726506 -1.460044   \n",
       "37         -1.497996 -3.525778 -3.787406 -2.644857 -2.726506 -1.456962   \n",
       "38         -1.497996 -3.525778 -3.787406 -2.644857 -2.726506 -1.456962   \n",
       "...              ...       ...       ...       ...       ...       ...   \n",
       "91         -1.497996 -3.531925 -3.793829 -2.644857 -2.726506 -1.458621   \n",
       "92         -1.497996 -3.531925 -3.787406 -2.644857 -2.726506 -1.456962   \n",
       "93         -1.497996 -3.531925 -3.793829 -2.644857 -2.726506 -1.456962   \n",
       "94         -1.497996 -3.531925 -3.787406 -2.644857 -2.726506 -1.456962   \n",
       "95         -1.497996 -3.531925 -3.787406 -2.644857 -2.726506 -1.456962   \n",
       "\n",
       "            HPTACC_2         M      N1_1      N1_2  ...  VIB_AN1_2  VIB_AN2_1  \\\n",
       "record_101                                          ...                         \n",
       "34         -1.543392 -1.851863 -2.289603 -2.311688  ...  -1.589433  -1.873868   \n",
       "35         -1.543392 -1.851863 -2.289603 -2.311688  ...  -1.589433  -1.873868   \n",
       "36         -1.543392 -1.851863 -2.289603 -2.311688  ...  -1.589433  -1.873868   \n",
       "37         -1.541692 -1.851863 -2.289603 -2.311688  ...  -1.589433  -1.873868   \n",
       "38         -1.541692 -1.851863 -2.289603 -2.311688  ...  -1.589433  -1.873868   \n",
       "...              ...       ...       ...       ...  ...        ...        ...   \n",
       "91         -1.544848 -1.851863 -2.289603 -2.311688  ...  -1.589433  -1.873868   \n",
       "92         -1.541692 -1.851863 -2.289603 -2.311688  ...  -1.589433  -1.873868   \n",
       "93         -1.543392 -1.851863 -2.289603 -2.311688  ...  -1.589433  -1.873868   \n",
       "94         -1.544848 -1.851863 -2.289603 -2.311688  ...  -1.589433  -1.873868   \n",
       "95         -1.544848 -1.851863 -2.289603 -2.311688  ...  -1.589433  -1.873868   \n",
       "\n",
       "            VIB_AN2_2  VIB_BN1_1  VIB_BN1_2  VIB_BN2_1  VIB_BN2_2     VSV_1  \\\n",
       "record_101                                                                    \n",
       "34          -0.536182  -1.898331  -1.651577  -1.963053  -1.945944  1.859718   \n",
       "35          -0.536182  -1.898331  -1.651577  -1.963053  -1.945944  1.859718   \n",
       "36          -0.536182  -1.898331  -1.651577  -1.963053  -1.945944  1.859718   \n",
       "37          -0.536182  -1.898331  -1.651577  -1.963053  -1.945944  1.859718   \n",
       "38          -0.536182  -1.898331  -1.651577  -1.963053  -1.945944  1.859718   \n",
       "...               ...        ...        ...        ...        ...       ...   \n",
       "91          -0.536182  -1.898331  -1.651577  -1.963053  -1.945944  1.859718   \n",
       "92          -0.536182  -1.898331  -1.651577  -1.963053  -1.945944  1.859718   \n",
       "93          -0.536182  -1.898331  -1.651577  -1.963053  -1.945944  1.859718   \n",
       "94          -0.536182  -1.898331  -1.651577  -1.963053  -1.945944  1.859718   \n",
       "95          -0.536182  -1.898331  -1.651577  -1.963053  -1.945944  1.859718   \n",
       "\n",
       "               VSV_2        dy  \n",
       "record_101                      \n",
       "34          1.863502  0.052481  \n",
       "35          1.863502  0.053005  \n",
       "36          1.863502  0.055372  \n",
       "37          1.863502  0.054639  \n",
       "38          1.863502  0.081540  \n",
       "...              ...       ...  \n",
       "91          1.863502  0.027882  \n",
       "92          1.863502  0.036160  \n",
       "93          1.863502  0.021788  \n",
       "94          1.863502  0.015026  \n",
       "95          1.863502  0.012411  \n",
       "\n",
       "[62 rows x 52 columns]"
      ]
     },
     "execution_count": 13,
     "metadata": {},
     "output_type": "execute_result"
    }
   ],
   "source": [
    "_VOL=10\n",
    "DF_monte=ddf_norm1.map_partitions(lambda df:deriv_glissante(df))\n",
    "DF_monte.partitions[_VOL].compute()"
   ]
  },
  {
   "cell_type": "code",
   "execution_count": 14,
   "id": "845eebda-e270-46e9-8b6d-ffec0d3bc50b",
   "metadata": {},
   "outputs": [
    {
     "data": {
      "text/plain": [
       "7278"
      ]
     },
     "execution_count": 14,
     "metadata": {},
     "output_type": "execute_result"
    },
    {
     "data": {
      "image/png": "[encoded data removed]",
      "text/plain": [
       "<Figure size 640x480 with 1 Axes>"
      ]
     },
     "metadata": {},
     "output_type": "display_data"
    }
   ],
   "source": [
    "df=ddf_norm1.partitions[10].compute()\n",
    "y = df['ALT'].rolling(window = 20).mean()\n",
    "I = range(y.index[0], y.index[-1],20)\n",
    "dy = y[I[1:]].values- y[I[:-1]].values\n",
    "plt.plot(I[1:], dy)\n",
    "len(y)"
   ]
  },
  {
   "cell_type": "code",
   "execution_count": 15,
   "id": "eaaa9dfb-e9e4-45c6-9da2-16705b47ac0f",
   "metadata": {},
   "outputs": [
    {
     "data": {
      "text/plain": [
       "0.07834940808745561"
      ]
     },
     "execution_count": 15,
     "metadata": {},
     "output_type": "execute_result"
    }
   ],
   "source": [
    "df12=ddf_norm1.partitions[100].compute()\n",
    "\n",
    "df_monte2=deriv_glissante(df12)\n",
    "\n",
    "\n",
    "#plt.plot(df12['EGT_1'][I_monte])\n",
    "\n",
    "\n",
    "#duree de la monte\n",
    "duree=len(df_monte2)*20\n",
    "#Indice monte\n",
    "I_monte=df_monte2.index*20\n",
    "#calcul de l'egt max pour chaque moteur pendant la monté\n",
    "EGT_max_monte1=df['EGT_1'][I_monte].max()\n",
    "EGT_max_monte2=df['EGT_2'][I_monte].max()\n",
    "EGT_max_monte=max(EGT_max_monte1,EGT_max_monte2)\n",
    "df12['dy'].max()"
   ]
  },
  {
   "cell_type": "markdown",
   "id": "75118b99-281b-4a36-b3f2-5a41bf629341",
   "metadata": {},
   "source": [
    "peut paralléliser avec dask "
   ]
  },
  {
   "cell_type": "code",
   "execution_count": 16,
   "id": "3292fe0f-df77-4642-82af-953cfa4bd581",
   "metadata": {},
   "outputs": [],
   "source": [
    "duree11=[]\n",
    "EGT_max_monte1=[]\n",
    "EGT_mean_monte1=[]\n",
    "Vitesse_max=[]\n",
    "I=[]\n",
    "for i in range (0,990):\n",
    "    I.append(i)\n",
    "    df11=ddf_norm1.partitions[i].compute()\n",
    "    #df22=ddf_norm2.partitions[i].compute()\n",
    "    #df22=ddf_norm3.partitions[i].compute()\n",
    "    df_monte11=deriv_glissante(df11)\n",
    "    #[df_monte22]=deriv_glissante(df22)\n",
    "    #[df_monte33]=deriv_glissante(df33)\n",
    "    \n",
    "    duree11.append(len(df_monte11)*20)\n",
    "    #duree22=len(df_monte22)*20\n",
    "    #duree33=len(df_monte33)*20\n",
    "\n",
    "    #Indice monte\n",
    "    I_monte11=df_monte11.index*20\n",
    "    #I_monte22=df_monte22.index*20\n",
    "    #I_monte33=df_monte33.index*20\n",
    "    #calcul de la vittesse max pendant la monte \n",
    "    Vitesse_max.append(df_monte11['dy'].mean())\n",
    "    #calcul de l'egt max pour chaque moteur pendant la monté\n",
    "    \n",
    "    EGT_max_monte11=df11['EGT_1'][I_monte11].max()\n",
    "    EGT_max_monte21=df11['EGT_2'][I_monte11].max()\n",
    "    \n",
    "    #EGT_mean_monte11=df['EGT_1'][I_monte11].mean()\n",
    "    #EGT_mean_monte21=df['EGT_2'][I_monte11].mean()   \n",
    "    #EGT_max_monte12=df['EGT_1'][I_monte22].max()\n",
    "    #EGT_max_monte22=df['EGT_2'][I_monte22].max()\n",
    "    \n",
    "    #EGT_max_monte13=df['EGT_1'][I_monte33].max()\n",
    "    #EGT_max_monte23=df['EGT_2'][I_monte33].max()\n",
    "    #EGT_mean_monte1.append(EGT_max_monte11)\n",
    "    EGT_max_monte1.append(max(EGT_max_monte11,EGT_max_monte21))\n",
    "    #EGT_max_monte2.append(max(EGT_max_monte12,EGT_max_monte22))    \n",
    "    #EGT_max_monte3.append(max(EGT_max_monte13,EGT_max_monte23))    \n"
   ]
  },
  {
   "cell_type": "code",
   "execution_count": 42,
   "id": "d2ca3618-55c0-4405-a79d-8fddd231109e",
   "metadata": {},
   "outputs": [
    {
     "data": {
      "text/plain": [
       "Text(0.5, 1.0, 'Marge EGT et médiane glissante sur 10 cycles')"
      ]
     },
     "execution_count": 42,
     "metadata": {},
     "output_type": "execute_result"
    },
    {
     "data": {
      "image/png": "[encoded data removed]",
      "text/plain": [
       "<Figure size 1000x800 with 1 Axes>"
      ]
     },
     "metadata": {},
     "output_type": "display_data"
    }
   ],
   "source": [
    "df_analysis =  pd.DataFrame({'EGT':EGT_max_monte1 ,'I':I ,'duree':duree11}).set_index('I')\n",
    "egtm = df_analysis.rolling(window=10, min_periods=3).median()\n",
    "plt.figure(figsize=(10,8))\n",
    "plt.plot(I, EGT_max_monte1, 'rx')\n",
    "plt.plot(egtm.index, egtm['EGT'], '-', c='purple')\n",
    "plt.legend(['Marge EGT', 'Marge EGT (médiane sur 10 cycles)'])\n",
    "plt.title('Marge EGT et médiane glissante sur 10 cycles')"
   ]
  },
  {
   "cell_type": "code",
   "execution_count": null,
   "id": "6015fee3-4a77-4224-989f-f412c9eafeb1",
   "metadata": {},
   "outputs": [],
   "source": []
  },
  {
   "cell_type": "code",
   "execution_count": 54,
   "id": "17d82ed3-917f-4325-8047-291f6b7a00b5",
   "metadata": {},
   "outputs": [],
   "source": [
    "egtm_increasing = egtm.rolling(window=egtm.size, min_periods=1).max().drop_duplicates()"
   ]
  },
  {
   "cell_type": "code",
   "execution_count": 55,
   "id": "405905bd-7437-408e-b151-3fff5315f3ae",
   "metadata": {},
   "outputs": [
    {
     "data": {
      "text/html": [
       "<div>\n",
       "<style scoped>\n",
       "    .dataframe tbody tr th:only-of-type {\n",
       "        vertical-align: middle;\n",
       "    }\n",
       "\n",
       "    .dataframe tbody tr th {\n",
       "        vertical-align: top;\n",
       "    }\n",
       "\n",
       "    .dataframe thead th {\n",
       "        text-align: right;\n",
       "    }\n",
       "</style>\n",
       "<table border=\"1\" class=\"dataframe\">\n",
       "  <thead>\n",
       "    <tr style=\"text-align: right;\">\n",
       "      <th></th>\n",
       "      <th>EGT</th>\n",
       "      <th>duree</th>\n",
       "    </tr>\n",
       "    <tr>\n",
       "      <th>I</th>\n",
       "      <th></th>\n",
       "      <th></th>\n",
       "    </tr>\n",
       "  </thead>\n",
       "  <tbody>\n",
       "    <tr>\n",
       "      <th>0</th>\n",
       "      <td>NaN</td>\n",
       "      <td>NaN</td>\n",
       "    </tr>\n",
       "    <tr>\n",
       "      <th>20</th>\n",
       "      <td>1.298264</td>\n",
       "      <td>1060.0</td>\n",
       "    </tr>\n",
       "    <tr>\n",
       "      <th>30</th>\n",
       "      <td>1.334777</td>\n",
       "      <td>1060.0</td>\n",
       "    </tr>\n",
       "    <tr>\n",
       "      <th>100</th>\n",
       "      <td>1.348186</td>\n",
       "      <td>1060.0</td>\n",
       "    </tr>\n",
       "    <tr>\n",
       "      <th>110</th>\n",
       "      <td>1.393218</td>\n",
       "      <td>1060.0</td>\n",
       "    </tr>\n",
       "    <tr>\n",
       "      <th>120</th>\n",
       "      <td>1.410235</td>\n",
       "      <td>1060.0</td>\n",
       "    </tr>\n",
       "    <tr>\n",
       "      <th>130</th>\n",
       "      <td>1.452683</td>\n",
       "      <td>1060.0</td>\n",
       "    </tr>\n",
       "    <tr>\n",
       "      <th>140</th>\n",
       "      <td>1.482743</td>\n",
       "      <td>1060.0</td>\n",
       "    </tr>\n",
       "    <tr>\n",
       "      <th>170</th>\n",
       "      <td>1.530074</td>\n",
       "      <td>1060.0</td>\n",
       "    </tr>\n",
       "    <tr>\n",
       "      <th>180</th>\n",
       "      <td>1.579933</td>\n",
       "      <td>1060.0</td>\n",
       "    </tr>\n",
       "    <tr>\n",
       "      <th>340</th>\n",
       "      <td>1.579933</td>\n",
       "      <td>1070.0</td>\n",
       "    </tr>\n",
       "    <tr>\n",
       "      <th>470</th>\n",
       "      <td>1.585613</td>\n",
       "      <td>1070.0</td>\n",
       "    </tr>\n",
       "    <tr>\n",
       "      <th>480</th>\n",
       "      <td>1.613954</td>\n",
       "      <td>1070.0</td>\n",
       "    </tr>\n",
       "    <tr>\n",
       "      <th>740</th>\n",
       "      <td>1.613954</td>\n",
       "      <td>1110.0</td>\n",
       "    </tr>\n",
       "    <tr>\n",
       "      <th>760</th>\n",
       "      <td>1.613954</td>\n",
       "      <td>1120.0</td>\n",
       "    </tr>\n",
       "    <tr>\n",
       "      <th>890</th>\n",
       "      <td>1.614906</td>\n",
       "      <td>1120.0</td>\n",
       "    </tr>\n",
       "    <tr>\n",
       "      <th>910</th>\n",
       "      <td>1.639696</td>\n",
       "      <td>1120.0</td>\n",
       "    </tr>\n",
       "    <tr>\n",
       "      <th>960</th>\n",
       "      <td>1.689993</td>\n",
       "      <td>1120.0</td>\n",
       "    </tr>\n",
       "  </tbody>\n",
       "</table>\n",
       "</div>"
      ],
      "text/plain": [
       "          EGT   duree\n",
       "I                    \n",
       "0         NaN     NaN\n",
       "20   1.298264  1060.0\n",
       "30   1.334777  1060.0\n",
       "100  1.348186  1060.0\n",
       "110  1.393218  1060.0\n",
       "120  1.410235  1060.0\n",
       "130  1.452683  1060.0\n",
       "140  1.482743  1060.0\n",
       "170  1.530074  1060.0\n",
       "180  1.579933  1060.0\n",
       "340  1.579933  1070.0\n",
       "470  1.585613  1070.0\n",
       "480  1.613954  1070.0\n",
       "740  1.613954  1110.0\n",
       "760  1.613954  1120.0\n",
       "890  1.614906  1120.0\n",
       "910  1.639696  1120.0\n",
       "960  1.689993  1120.0"
      ]
     },
     "execution_count": 55,
     "metadata": {},
     "output_type": "execute_result"
    }
   ],
   "source": [
    "egtm_increasing"
   ]
  },
  {
   "cell_type": "code",
   "execution_count": 74,
   "id": "396af34e-4c1c-4f3d-be0a-916ceba84330",
   "metadata": {},
   "outputs": [
    {
     "ename": "SyntaxError",
     "evalue": "unterminated string literal (detected at line 5) (4290396266.py, line 5)",
     "output_type": "error",
     "traceback": [
      "\u001b[1;36m  Cell \u001b[1;32mIn[74], line 5\u001b[1;36m\u001b[0m\n\u001b[1;33m    plt.legend(['EGT MAX, 'EGT MAX  (médiane sur 10 cycles)', 'Points conservés'])\u001b[0m\n\u001b[1;37m                                                                               ^\u001b[0m\n\u001b[1;31mSyntaxError\u001b[0m\u001b[1;31m:\u001b[0m unterminated string literal (detected at line 5)\n"
     ]
    }
   ],
   "source": [
    "plt.figure(figsize=(10,8))\n",
    "plt.plot(I, EGT_max_monte1, 'rx')\n",
    "plt.plot(egtm.index, egtm['EGT'], '-', c='purple')\n",
    "plt.plot(egtm_increasing.index, egtm_increasing['EGT'], 'o', c='g')\n",
    "plt.legend(['EGT MAX, 'EGT MAX  (médiane sur 10 cycles)', 'Points conservés'])\n",
    "plt.title('EGT MAX pendant la monte et médiane glissante sur 10 cycles');\n"
   ]
  },
  {
   "cell_type": "code",
   "execution_count": 57,
   "id": "169f0f00-8a9f-4605-8eda-10a63ebfa277",
   "metadata": {},
   "outputs": [],
   "source": [
    "egtm = df_analysis.rolling(window=10, min_periods=3).median()\n",
    "\n"
   ]
  },
  {
   "cell_type": "code",
   "execution_count": 71,
   "id": "d661413c-0ee2-4d65-93e2-f671dbf4f382",
   "metadata": {},
   "outputs": [
    {
     "data": {
      "image/png": "[encoded data removed]",
      "text/plain": [
       "<Figure size 640x480 with 1 Axes>"
      ]
     },
     "metadata": {},
     "output_type": "display_data"
    }
   ],
   "source": [
    "fig, ax = plt.subplots()\n",
    "\n",
    "\n",
    "\n",
    "plt.scatter(Vitesse_max,EGT_max_monte1)\n",
    "ax.set_xlabel('vitesse moyenne')\n",
    "ax.set_ylabel('EGT max ')\n",
    "plt.title(\"Graphe de l'EGT pendant la monte en fonction de la vitese moyenne\")\n",
    "ax.legend('Vols')\n",
    "ax.grid()"
   ]
  },
  {
   "cell_type": "code",
   "execution_count": null,
   "id": "6e6e5ac5-5c88-4583-9caf-657ae7fa11aa",
   "metadata": {},
   "outputs": [],
   "source": [
    "plt.scatter(I,EGT_max_monte1)\n",
    "fig, ax = plt.subplots()\n",
    "\n",
    "\n",
    "\n",
    "plt.scatter(I,EGT_max_monte1)\n",
    "ax.set_xlabel('nombre de vol')\n",
    "ax.set_ylabel('EGT max ')\n",
    "plt.title(\"Graphe de l'EGT pendant la monte en fonction du nombre de vol\")\n",
    "ax.legend('Vols')\n",
    "ax.grid()"
   ]
  },
  {
   "cell_type": "code",
   "execution_count": 72,
   "id": "f8054c91-abaa-434b-84aa-6f083f8d89c9",
   "metadata": {},
   "outputs": [
    {
     "data": {
      "image/png": "[encoded data removed]",
      "text/plain": [
       "<Figure size 640x480 with 1 Axes>"
      ]
     },
     "metadata": {},
     "output_type": "display_data"
    }
   ],
   "source": [
    "\n",
    "fig, ax = plt.subplots()\n",
    "\n",
    "\n",
    "\n",
    "plt.scatter(duree11,EGT_max_monte1)\n",
    "ax.set_xlabel('duree de la monte')\n",
    "ax.set_ylabel('EGT max ')\n",
    "plt.title(\"Graphe de l'EGT en fonction de duree de la montee\")\n",
    "ax.legend('Vols')\n",
    "ax.grid()"
   ]
  },
  {
   "cell_type": "code",
   "execution_count": 22,
   "id": "98e4cbdd-8346-4b60-87bc-a56e3f0955a3",
   "metadata": {},
   "outputs": [],
   "source": [
    "from sklearn.cluster import KMeans"
   ]
  },
  {
   "cell_type": "code",
   "execution_count": 75,
   "id": "3ae2ceec-c561-4653-849e-835ab5b2ea4f",
   "metadata": {},
   "outputs": [
    {
     "data": {
      "text/plain": [
       "Text(0, 0.5, 'EGT max')"
      ]
     },
     "execution_count": 75,
     "metadata": {},
     "output_type": "execute_result"
    },
    {
     "data": {
      "image/png": "[encoded data removed]",
      "text/plain": [
       "<Figure size 1500x1000 with 2 Axes>"
      ]
     },
     "metadata": {},
     "output_type": "display_data"
    }
   ],
   "source": [
    "K = 3\n",
    "Array2D=np.column_stack((EGT_max_monte1,duree11))\n",
    "km = KMeans(n_clusters=K, n_init=10)\n",
    "labels = km.fit_predict(Array2D)\n",
    "cnt = np.bincount(labels)\n",
    "\n",
    "fig,ax = plt.subplots( 2, figsize=(15,10))\n",
    "\n",
    "ax[0].bar(np.arange(K), cnt, tick_label=np.arange(K))\n",
    "ax[0].set_title('Nombre d\\'éléments par cluster')\n",
    "ax[0].set_xlabel('Cluster')\n",
    "for c in range(km.n_clusters):\n",
    "    ax[1].scatter(Array2D[labels == c, 1], Array2D[labels == c, 0], label=\"Cluster \"+str(c))\n",
    "ax[1].legend()\n",
    "ax[1].set_xlabel('duree')\n",
    "ax[1].set_ylabel('EGT max')"
   ]
  },
  {
   "cell_type": "markdown",
   "id": "ebadafd7-c776-48ac-9df9-87eacaeddd4c",
   "metadata": {},
   "source": [
    "# Suite de l'analyse Corelation et ACP en montee"
   ]
  },
  {
   "cell_type": "code",
   "execution_count": null,
   "id": "4c51f05a-e2ee-44d5-9b78-9e6c9416c654",
   "metadata": {},
   "outputs": [],
   "source": [
    "# peut on prédire l'egt en fonction des température et des autre valeurs "
   ]
  },
  {
   "cell_type": "code",
   "execution_count": null,
   "id": "4a24dc0e-b8df-4541-a7a9-14544601a49f",
   "metadata": {},
   "outputs": [],
   "source": [
    "#peut on analyser les données manquantes et peut être apporter un corectif  "
   ]
  },
  {
   "cell_type": "code",
   "execution_count": null,
   "id": "09b7c493-fc91-4ece-895a-3883bafa0f45",
   "metadata": {},
   "outputs": [],
   "source": []
  },
  {
   "cell_type": "code",
   "execution_count": null,
   "id": "5b9a8bda-9cb5-47f1-95d8-db8644f05053",
   "metadata": {},
   "outputs": [],
   "source": []
  },
  {
   "cell_type": "code",
   "execution_count": null,
   "id": "423041bb-a1cd-465e-8fd9-17f383998951",
   "metadata": {},
   "outputs": [],
   "source": []
  }
 ],
 "metadata": {
  "kernelspec": {
   "display_name": "Python 3 (ipykernel)",
   "language": "python",
   "name": "python3"
  },
  "language_info": {
   "codemirror_mode": {
    "name": "ipython",
    "version": 3
   },
   "file_extension": ".py",
   "mimetype": "text/x-python",
   "name": "python",
   "nbconvert_exporter": "python",
   "pygments_lexer": "ipython3",
   "version": "3.11.5"
  }
 },
 "nbformat": 4,
 "nbformat_minor": 5
}
