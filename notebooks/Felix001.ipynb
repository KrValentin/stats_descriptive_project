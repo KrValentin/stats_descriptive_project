{
 "cells": [
  {
   "cell_type": "markdown",
   "id": "f9c175e3-39b3-4da8-a22e-43f21b5a4c71",
   "metadata": {},
   "source": [
    "# Projet statistique descriptive \n",
    "\n"
   ]
  },
  {
   "cell_type": "code",
   "execution_count": 2,
   "id": "9ac68368-517d-4ab2-88c6-b157bfacbb0b",
   "metadata": {},
   "outputs": [
    {
     "ename": "IndentationError",
     "evalue": "unindent does not match any outer indentation level (manipulate_dataframe.py, line 236)",
     "output_type": "error",
     "traceback": [
      "Traceback \u001b[1;36m(most recent call last)\u001b[0m:\n",
      "\u001b[0m  File \u001b[0;32m~\\PycharmProjects\\pythonProject1\\venv\\Lib\\site-packages\\IPython\\core\\interactiveshell.py:3526\u001b[0m in \u001b[0;35mrun_code\u001b[0m\n    exec(code_obj, self.user_global_ns, self.user_ns)\u001b[0m\n",
      "\u001b[0m  Cell \u001b[0;32mIn[2], line 7\u001b[0m\n    from src import *\u001b[0m\n",
      "\u001b[1;36m  File \u001b[1;32m~\\PycharmProjects\\pythonProject1\\projet_lacaille\\stats_descriptive_project\\notebooks\\..\\src\\__init__.py:11\u001b[1;36m\n\u001b[1;33m    from .manipulate_dataframe import *\u001b[1;36m\n",
      "\u001b[1;36m  File \u001b[1;32m~\\PycharmProjects\\pythonProject1\\projet_lacaille\\stats_descriptive_project\\notebooks\\..\\src\\manipulate_dataframe.py:236\u001b[1;36m\u001b[0m\n\u001b[1;33m    alt_min=df['ALT [ft]'].min()\u001b[0m\n\u001b[1;37m                                ^\u001b[0m\n\u001b[1;31mIndentationError\u001b[0m\u001b[1;31m:\u001b[0m unindent does not match any outer indentation level\n"
     ]
    }
   ],
   "source": [
    "%reload_ext autoreload\n",
    "%autoreload 2\n",
    "\n",
    "# module\n",
    "import sys\n",
    "sys.path.append(\"../\")\n",
    "from src import * \n",
    "\n",
    "# chemin vers la donnee \n",
    "data_dir = 'C:/Users/felix/PycharmProjects/pythonProject1/MACS3-Statistiques-Descriptives-TDs/data/archive/'\n",
    "filelist = glob.glob(data_dir + '*.h5')\n",
    "filelist"
   ]
  },
  {
   "cell_type": "code",
   "execution_count": null,
   "id": "39debcb0-ef3b-44a1-a6f0-0bb401a9c558",
   "metadata": {},
   "outputs": [],
   "source": [
    "from tabata import Opset\n",
    "#première visualisation brut de la données "
   ]
  },
  {
   "cell_type": "markdown",
   "id": "06ccdf92-c378-4256-8db2-033353f90ced",
   "metadata": {},
   "source": [
    "# Première visualisation brut de la données \n",
    "La visualisation des graphes nous à permis dans un premier temps de constater des anomalies dans les données et de supprimer ces données pour la suite de nos analyse.En effet ces données dites anormales représentent des mesures ou l'avions n'à pas décollé (sûrement des tests au sols) donc il est légitimes de les supprimer quand on s'intéresse aux comportements de l'avion en vol."
   ]
  },
  {
   "cell_type": "code",
   "execution_count": null,
   "id": "503cce27-19ff-4f55-ae92-160c9ff4566c",
   "metadata": {},
   "outputs": [],
   "source": [
    "df_opset1=Opset('C:/Users/felix/PycharmProjects/pythonProject1/MACS3-Statistiques-Descriptives-TDs/data/archive\\\\Aircraft_01.h5')\n",
    "df_opset2=Opset('C:/Users/felix/PycharmProjects/pythonProject1/MACS3-Statistiques-Descriptives-TDs/data/archive\\\\Aircraft_02.h5')\n",
    "df_opset3=Opset('C:/Users/felix/PycharmProjects/pythonProject1/MACS3-Statistiques-Descriptives-TDs/data/archive\\\\Aircraft_03.h5')"
   ]
  },
  {
   "cell_type": "code",
   "execution_count": null,
   "id": "1fdee2de-3bcd-4873-a985-e99317d3c074",
   "metadata": {},
   "outputs": [],
   "source": [
    "df_opset1"
   ]
  },
  {
   "cell_type": "code",
   "execution_count": null,
   "id": "20cf378e-5d89-442b-b5f5-0bfe04023b85",
   "metadata": {},
   "outputs": [],
   "source": [
    "df_opset1.plot()"
   ]
  },
  {
   "cell_type": "code",
   "execution_count": null,
   "id": "34850651-4a84-461c-a735-0cf04845297d",
   "metadata": {},
   "outputs": [],
   "source": [
    "type(df_opset2)"
   ]
  },
  {
   "cell_type": "code",
   "execution_count": null,
   "id": "4b66adf5-220d-4560-90e6-d7379114c75e",
   "metadata": {},
   "outputs": [],
   "source": [
    "df_opset2.plot()"
   ]
  },
  {
   "cell_type": "code",
   "execution_count": null,
   "id": "c0e2a233-ac1a-4806-9b06-b639f05e684c",
   "metadata": {},
   "outputs": [],
   "source": [
    "df_opset3.plot()"
   ]
  },
  {
   "cell_type": "markdown",
   "id": "a09a6386-161a-418a-980c-49ec3c261d52",
   "metadata": {},
   "source": [
    "## Creation d'une fonction sur les dataframes pour éliminer les records anormaux\n",
    "On utilise l'avantage de Dask qui permet de paralléliser sur les dataframes.\n",
    "Le but de la fonction eliminate_records() est de vérifier la différence entre l'altitude minimum et maximum est d'au plus 15000 ft si c'est le cas alors elle renvoit False et True sinon.\n",
    "\n"
   ]
  },
  {
   "cell_type": "code",
   "execution_count": null,
   "id": "f9e66839-63d8-4d32-9899-09a242251461",
   "metadata": {},
   "outputs": [],
   "source": [
    "def eliminate_records(df):\n",
    "    \n",
    "    alt_min=df['ALT [ft]'].min()\n",
    "    alt_max=df['ALT [ft]'].max()\n",
    "    alt_range=alt_max-alt_min\n",
    "    bol=False\n",
    "    \n",
    "    if alt_range<15000:\n",
    "        bol=True\n",
    "    return bol\n",
    "    \n",
    "    "
   ]
  },
  {
   "cell_type": "code",
   "execution_count": null,
   "id": "56b55065-1c48-410d-9177-253760c8ef84",
   "metadata": {},
   "outputs": [],
   "source": [
    "#on cree notre dataframe avec DASK\n",
    "ddf1 = lire_hdf_dask(filelist[0], repertoire= data_dir)\n",
    "#on récupère une liste de booleen où chaque composante fait reférance à une partition \n",
    "I = ddf1.map_partitions(lambda df: eliminate_records(df)).compute()\n",
    "#on sélectione dans un nouveau dataframe les partitions qui ne sont pas anormales \n",
    "DDF1=ddf1.partitions[I==False]\n",
    "# on normalise toute les données excepté les variables booleen \n",
    "ddf_norm1 = DDF1.map_partitions(lambda df : normalize(df))\n",
    "\n",
    "ddf2 = lire_hdf_dask(filelist[2], repertoire= data_dir)\n",
    "I = ddf2.map_partitions(lambda df: eliminate_records(df)).compute()\n",
    "DDF2=ddf2.partitions[I==False]\n",
    "ddf_norm2 = DDF2.map_partitions(lambda df : normalize(df))\n",
    "\n",
    "ddf3 = lire_hdf_dask(filelist[3], repertoire= data_dir)\n",
    "I = ddf3.map_partitions(lambda df: eliminate_records(df)).compute()\n",
    "DDF3=ddf3.partitions[I==False]\n",
    "ddf_norm3 = DDF3.map_partitions(lambda df : normalize(df))"
   ]
  },
  {
   "cell_type": "code",
   "execution_count": null,
   "id": "cab227a7-a05f-45dc-9f93-5b1ddc6e75e7",
   "metadata": {},
   "outputs": [],
   "source": [
    "ddf_norm2.head()"
   ]
  },
  {
   "cell_type": "markdown",
   "id": "84e61740-b838-4a30-9230-3350771b4dcd",
   "metadata": {},
   "source": [
    "# Etude de la relation entre monte et EGT \n",
    "-On cherche à trouver des relations entre EGT max et la vitesse de monte par exemple \n",
    "\n"
   ]
  },
  {
   "cell_type": "markdown",
   "id": "38c1c344-13d4-4649-bbd2-0ab41696cd84",
   "metadata": {},
   "source": []
  },
  {
   "cell_type": "markdown",
   "id": "1550e79c-9533-406f-9daa-0508efb2858d",
   "metadata": {},
   "source": [
    "Il va falloir peut être modifier la fonction deriv_glissante lorsque qu'on passera à l'analyse de chaque record "
   ]
  },
  {
   "cell_type": "code",
   "execution_count": null,
   "id": "0cd22097-059e-4032-888f-f5d8f05d50b2",
   "metadata": {},
   "outputs": [],
   "source": [
    "def deriv_glissante(df):\n",
    "    \n",
    "    #on cree une fonction qui prend un data frame qui l'augment de la valeur dy et qui renvoit  un nouveau dataframe contenant que le monté \n",
    "    #ATTENTION LA FONCTION PRENDS EN ENTREE DES DONNEES NORMALISEE\n",
    "    \n",
    "    dy=np.zeros(len(df))\n",
    "    \n",
    "    #on fait une moyenne glissante pour éviter d'être sensible aux bruit. En effet pour le cacul de dérivée le bruit \n",
    "    #fausse trés rapidement les données\n",
    "    y = df['ALT'].rolling(window = 20).mean()\n",
    "    I = range(y.index[0], y.index[-1],20)\n",
    "    #calcul de la derivée\n",
    "    dy[0:len(I)-1] = y[I[1:]].values- y[I[:-1]].values\n",
    "    #creation d'une nouvelle colonne dans le dataframe\n",
    "    df['dy']=dy\n",
    "    #on selectionne le dataframe où les dérivées sont plus grande que 0.01 (la montée)\n",
    "    df_monte=df[df['dy']>0.01]\n",
    "    I4=np.zeros(len(df_monte))\n",
    "    #on verifie qu' avec un shift des données on retombe bien sur les mêmes indices cela permet d'éviter \n",
    "    # de prendre en compte des valeurs qui ne serait pas dans la phase de la montée \n",
    "    #Attention cette façon de faire est lié aux cas d'un vol d'avion (l'hypothèse admise est que l'avion ne monte qu'une fois)\n",
    "    #Et s'il existe plus de 6 données anormale consécutives alors elles seront prise en compte \n",
    "    \n",
    "    I4[5:]=df_monte.index[5:]==(df_monte.index+5)[:-5]\n",
    "    I4[:5]=1\n",
    "    df_monte2=df_monte[I4==1]\n",
    "    \n",
    "\n",
    "\n",
    "    return df_monte2"
   ]
  },
  {
   "cell_type": "code",
   "execution_count": null,
   "id": "0b2b3bd0-e378-40e3-a1ba-8ab22531ca10",
   "metadata": {},
   "outputs": [],
   "source": [
    "_VOL=10\n",
    "DF_monte=ddf_norm1.map_partitions(lambda df:deriv_glissante(df))\n",
    "DF_monte.partitions[_VOL].compute()"
   ]
  },
  {
   "cell_type": "code",
   "execution_count": null,
   "id": "845eebda-e270-46e9-8b6d-ffec0d3bc50b",
   "metadata": {},
   "outputs": [],
   "source": [
    "df=ddf_norm1.partitions[10].compute()\n",
    "y = df['ALT'].rolling(window = 20).mean()\n",
    "I = range(y.index[0], y.index[-1],20)\n",
    "dy = y[I[1:]].values- y[I[:-1]].values\n",
    "plt.plot(I[1:], dy)\n",
    "len(y)"
   ]
  },
  {
   "cell_type": "code",
   "execution_count": null,
   "id": "eaaa9dfb-e9e4-45c6-9da2-16705b47ac0f",
   "metadata": {},
   "outputs": [],
   "source": [
    "df12=ddf_norm1.partitions[100].compute()\n",
    "\n",
    "df_monte2=deriv_glissante(df12)\n",
    "\n",
    "\n",
    "#plt.plot(df12['EGT_1'][I_monte])\n",
    "\n",
    "\n",
    "#duree de la monte\n",
    "duree=len(df_monte2)*20\n",
    "#Indice monte\n",
    "I_monte=df_monte2.index*20\n",
    "#calcul de l'egt max pour chaque moteur pendant la monté\n",
    "EGT_max_monte1=df['EGT_1'][I_monte].max()\n",
    "EGT_max_monte2=df['EGT_2'][I_monte].max()\n",
    "EGT_max_monte=max(EGT_max_monte1,EGT_max_monte2)\n",
    "df12['dy'].max()"
   ]
  },
  {
   "cell_type": "markdown",
   "id": "75118b99-281b-4a36-b3f2-5a41bf629341",
   "metadata": {},
   "source": [
    "peut paralléliser avec dask "
   ]
  },
  {
   "cell_type": "code",
   "execution_count": null,
   "id": "3292fe0f-df77-4642-82af-953cfa4bd581",
   "metadata": {},
   "outputs": [],
   "source": [
    "duree11=[]\n",
    "EGT_max_monte1=[]\n",
    "EGT_mean_monte1=[]\n",
    "Vitesse_max=[]\n",
    "I=[]\n",
    "for i in range (0,990):\n",
    "    I.append(i)\n",
    "    df11=ddf_norm1.partitions[i].compute()\n",
    "    #df22=ddf_norm2.partitions[i].compute()\n",
    "    #df22=ddf_norm3.partitions[i].compute()\n",
    "    df_monte11=deriv_glissante(df11)\n",
    "    #[df_monte22]=deriv_glissante(df22)\n",
    "    #[df_monte33]=deriv_glissante(df33)\n",
    "    \n",
    "    duree11.append(len(df_monte11)*20)\n",
    "    #duree22=len(df_monte22)*20\n",
    "    #duree33=len(df_monte33)*20\n",
    "\n",
    "    #Indice monte\n",
    "    I_monte11=df_monte11.index*20\n",
    "    #I_monte22=df_monte22.index*20\n",
    "    #I_monte33=df_monte33.index*20\n",
    "    #calcul de la vittesse max pendant la monte \n",
    "    Vitesse_max.append(df_monte11['dy'].mean())\n",
    "    #calcul de l'egt max pour chaque moteur pendant la monté\n",
    "    \n",
    "    EGT_max_monte11=df11['EGT_1'][I_monte11].max()\n",
    "    EGT_max_monte21=df11['EGT_2'][I_monte11].max()\n",
    "    \n",
    "    #EGT_mean_monte11=df['EGT_1'][I_monte11].mean()\n",
    "    #EGT_mean_monte21=df['EGT_2'][I_monte11].mean()   \n",
    "    #EGT_max_monte12=df['EGT_1'][I_monte22].max()\n",
    "    #EGT_max_monte22=df['EGT_2'][I_monte22].max()\n",
    "    \n",
    "    #EGT_max_monte13=df['EGT_1'][I_monte33].max()\n",
    "    #EGT_max_monte23=df['EGT_2'][I_monte33].max()\n",
    "    #EGT_mean_monte1.append(EGT_max_monte11)\n",
    "    EGT_max_monte1.append(max(EGT_max_monte11,EGT_max_monte21))\n",
    "    #EGT_max_monte2.append(max(EGT_max_monte12,EGT_max_monte22))    \n",
    "    #EGT_max_monte3.append(max(EGT_max_monte13,EGT_max_monte23))    \n"
   ]
  },
  {
   "cell_type": "code",
   "execution_count": null,
   "id": "43ea5b03-7d2a-4848-8b78-3fcaacc0662e",
   "metadata": {},
   "outputs": [],
   "source": [
    "egtm = EGT_max_monte1.rolling(window=15).median()\n",
    "plt.figure(figsize=(10,8))\n",
    "plt.plot(EGT_max_monte1.index, egt, 'rx')\n",
    "plt.plot(egtm.index, egtm, '-', c='purple')\n",
    "plt.legend(['Marge EGT', 'Marge EGT (médiane sur 15 cycles)'])\n",
    "plt.title('Marge EGT et médiane glissante sur 15 cycles')"
   ]
  },
  {
   "cell_type": "code",
   "execution_count": null,
   "id": "5a0c2ed5-d5e7-4ef3-83b2-356ce7d49212",
   "metadata": {},
   "outputs": [],
   "source": [
    "Vitesse_max"
   ]
  },
  {
   "cell_type": "code",
   "execution_count": null,
   "id": "d661413c-0ee2-4d65-93e2-f671dbf4f382",
   "metadata": {},
   "outputs": [],
   "source": [
    "plt.scatter(Vitesse_max,EGT_max_monte1)"
   ]
  },
  {
   "cell_type": "code",
   "execution_count": null,
   "id": "4f8ec2c8-726c-4e1c-9847-724d75eca06b",
   "metadata": {
    "scrolled": true
   },
   "outputs": [],
   "source": [
    "plt.scatter(duree11,EGT_mean_monte1)"
   ]
  },
  {
   "cell_type": "code",
   "execution_count": null,
   "id": "f8054c91-abaa-434b-84aa-6f083f8d89c9",
   "metadata": {},
   "outputs": [],
   "source": [
    "plt.scatter(duree11,EGT_max_monte1)"
   ]
  },
  {
   "cell_type": "code",
   "execution_count": null,
   "id": "77f45cea-2376-4389-919a-04385ee9b55e",
   "metadata": {},
   "outputs": [],
   "source": [
    "EGT_max_monte1"
   ]
  },
  {
   "cell_type": "code",
   "execution_count": null,
   "id": "98e4cbdd-8346-4b60-87bc-a56e3f0955a3",
   "metadata": {},
   "outputs": [],
   "source": [
    "from sklearn.cluster import KMeans"
   ]
  },
  {
   "cell_type": "code",
   "execution_count": null,
   "id": "446bdd69-658f-454f-a5b8-5c22a24a4677",
   "metadata": {},
   "outputs": [],
   "source": [
    "Array2D[:,1]"
   ]
  },
  {
   "cell_type": "code",
   "execution_count": null,
   "id": "3ae2ceec-c561-4653-849e-835ab5b2ea4f",
   "metadata": {},
   "outputs": [],
   "source": [
    "K = 3\n",
    "Array2D=np.column_stack((EGT_max_monte1,duree11))\n",
    "km = KMeans(n_clusters=K, n_init=10)\n",
    "labels = km.fit_predict(Array2D)\n",
    "cnt = np.bincount(labels)\n",
    "\n",
    "fig,ax = plt.subplots( 2, figsize=(15,10))\n",
    "\n",
    "ax[0].bar(np.arange(K), cnt, tick_label=np.arange(K))\n",
    "ax[0].set_title('Nombre d\\'éléments par cluster')\n",
    "ax[0].set_xlabel('Cluster')\n",
    "for c in range(km.n_clusters):\n",
    "    ax[1].scatter(Array2D[labels == c, 1], Array2D[labels == c, 0], label=\"Cluster \"+str(c))\n",
    "ax[1].legend()\n",
    "ax[1].set_xlabel('duree')\n",
    "ax[1].set_ylabel('EGT max')"
   ]
  },
  {
   "cell_type": "code",
   "execution_count": null,
   "id": "6e6e5ac5-5c88-4583-9caf-657ae7fa11aa",
   "metadata": {},
   "outputs": [],
   "source": [
    "plt.scatter(I,EGT_max_monte1)"
   ]
  },
  {
   "cell_type": "markdown",
   "id": "ebadafd7-c776-48ac-9df9-87eacaeddd4c",
   "metadata": {},
   "source": [
    "# Suite de l'analyse Corelation et ACP en montee"
   ]
  },
  {
   "cell_type": "code",
   "execution_count": null,
   "id": "4c51f05a-e2ee-44d5-9b78-9e6c9416c654",
   "metadata": {},
   "outputs": [],
   "source": [
    "# peut on prédire l'egt en fonction des température et des autre valeurs "
   ]
  },
  {
   "cell_type": "code",
   "execution_count": null,
   "id": "4a24dc0e-b8df-4541-a7a9-14544601a49f",
   "metadata": {},
   "outputs": [],
   "source": [
    "#peut on analyser les données manquantes et peut être apporter un corectif  "
   ]
  },
  {
   "cell_type": "code",
   "execution_count": null,
   "id": "09b7c493-fc91-4ece-895a-3883bafa0f45",
   "metadata": {},
   "outputs": [],
   "source": []
  },
  {
   "cell_type": "code",
   "execution_count": null,
   "id": "5b9a8bda-9cb5-47f1-95d8-db8644f05053",
   "metadata": {},
   "outputs": [],
   "source": []
  },
  {
   "cell_type": "code",
   "execution_count": null,
   "id": "423041bb-a1cd-465e-8fd9-17f383998951",
   "metadata": {},
   "outputs": [],
   "source": []
  }
 ],
 "metadata": {
  "kernelspec": {
   "display_name": "Python 3 (ipykernel)",
   "language": "python",
   "name": "python3"
  },
  "language_info": {
   "codemirror_mode": {
    "name": "ipython",
    "version": 3
   },
   "file_extension": ".py",
   "mimetype": "text/x-python",
   "name": "python",
   "nbconvert_exporter": "python",
   "pygments_lexer": "ipython3",
   "version": "3.11.5"
  }
 },
 "nbformat": 4,
 "nbformat_minor": 5
}
