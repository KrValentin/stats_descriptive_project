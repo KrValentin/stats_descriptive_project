{
 "cells": [
  {
   "cell_type": "markdown",
   "id": "f9c175e3-39b3-4da8-a22e-43f21b5a4c71",
   "metadata": {},
   "source": [
    "# Projet statistique descriptive \n",
    "\n"
   ]
  },
  {
   "cell_type": "code",
   "execution_count": 1,
   "id": "9ac68368-517d-4ab2-88c6-b157bfacbb0b",
   "metadata": {},
   "outputs": [
    {
     "data": {
      "text/plain": [
       "['C:/Users/felix/PycharmProjects/pythonProject1/MACS3-Statistiques-Descriptives-TDs/data/archive\\\\Aircraft_01.h5',\n",
       " 'C:/Users/felix/PycharmProjects/pythonProject1/MACS3-Statistiques-Descriptives-TDs/data/archive\\\\Aircraft_01_dask.h5',\n",
       " 'C:/Users/felix/PycharmProjects/pythonProject1/MACS3-Statistiques-Descriptives-TDs/data/archive\\\\Aircraft_02.h5',\n",
       " 'C:/Users/felix/PycharmProjects/pythonProject1/MACS3-Statistiques-Descriptives-TDs/data/archive\\\\Aircraft_02_dask.h5',\n",
       " 'C:/Users/felix/PycharmProjects/pythonProject1/MACS3-Statistiques-Descriptives-TDs/data/archive\\\\Aircraft_03.h5',\n",
       " 'C:/Users/felix/PycharmProjects/pythonProject1/MACS3-Statistiques-Descriptives-TDs/data/archive\\\\Aircraft_03_dask.h5']"
      ]
     },
     "execution_count": 1,
     "metadata": {},
     "output_type": "execute_result"
    }
   ],
   "source": [
    "%reload_ext autoreload\n",
    "%autoreload 2\n",
    "\n",
    "# module\n",
    "import sys\n",
    "sys.path.append(\"../\")\n",
    "from src import * \n",
    "\n",
    "# chemin vers la donnee \n",
    "data_dir = 'C:/Users/felix/PycharmProjects/pythonProject1/MACS3-Statistiques-Descriptives-TDs/data/archive/'\n",
    "filelist = glob.glob(data_dir + '*.h5')\n",
    "filelist"
   ]
  },
  {
   "cell_type": "code",
   "execution_count": 2,
   "id": "39debcb0-ef3b-44a1-a6f0-0bb401a9c558",
   "metadata": {},
   "outputs": [],
   "source": [
    "from tabata import Opset"
   ]
  },
  {
   "cell_type": "code",
   "execution_count": 3,
   "id": "503cce27-19ff-4f55-ae92-160c9ff4566c",
   "metadata": {},
   "outputs": [],
   "source": [
    "df_opset1=Opset('C:/Users/felix/PycharmProjects/pythonProject1/MACS3-Statistiques-Descriptives-TDs/data/archive\\\\Aircraft_01.h5')\n",
    "df_opset2=Opset('C:/Users/felix/PycharmProjects/pythonProject1/MACS3-Statistiques-Descriptives-TDs/data/archive\\\\Aircraft_02.h5')\n",
    "df_opset3=Opset('C:/Users/felix/PycharmProjects/pythonProject1/MACS3-Statistiques-Descriptives-TDs/data/archive\\\\Aircraft_03.h5')"
   ]
  },
  {
   "cell_type": "code",
   "execution_count": 4,
   "id": "1fdee2de-3bcd-4873-a985-e99317d3c074",
   "metadata": {},
   "outputs": [
    {
     "data": {
      "text/plain": [
       "OPSET 'C:/Users/felix/PycharmProjects/pythonProject1/MACS3-Statistiques-Descriptives-TDs/data/archive\\Aircraft_01.h5' de 1002 signaux.\n",
       "        position courante : sigpos  = 0\n",
       "        variable courante : colname = ALT [ft]\n",
       "        phase surlignée   : phase   = None"
      ]
     },
     "execution_count": 4,
     "metadata": {},
     "output_type": "execute_result"
    }
   ],
   "source": [
    "df_opset1"
   ]
  },
  {
   "cell_type": "code",
   "execution_count": 5,
   "id": "20cf378e-5d89-442b-b5f5-0bfe04023b85",
   "metadata": {},
   "outputs": [
    {
     "data": {
      "application/vnd.jupyter.widget-view+json": {
       "model_id": "db60aec1183c47e5852537acd22b0cc9",
       "version_major": 2,
       "version_minor": 0
      },
      "text/plain": [
       "VBox(children=(HBox(children=(Dropdown(description='Variable :', options=('ALT [ft]', 'EGT_1 [deg C]', 'EGT_2 …"
      ]
     },
     "execution_count": 5,
     "metadata": {},
     "output_type": "execute_result"
    }
   ],
   "source": [
    "df_opset1.plot()"
   ]
  },
  {
   "cell_type": "code",
   "execution_count": 6,
   "id": "34850651-4a84-461c-a735-0cf04845297d",
   "metadata": {},
   "outputs": [
    {
     "data": {
      "text/plain": [
       "tabata.opset.Opset"
      ]
     },
     "execution_count": 6,
     "metadata": {},
     "output_type": "execute_result"
    }
   ],
   "source": [
    "type(df_opset2)"
   ]
  },
  {
   "cell_type": "code",
   "execution_count": 7,
   "id": "4b66adf5-220d-4560-90e6-d7379114c75e",
   "metadata": {},
   "outputs": [
    {
     "data": {
      "application/vnd.jupyter.widget-view+json": {
       "model_id": "74f38ec23c334a138cc7ebd705f18a44",
       "version_major": 2,
       "version_minor": 0
      },
      "text/plain": [
       "VBox(children=(HBox(children=(Dropdown(description='Variable :', options=('ALT [ft]', 'EGT_1 [deg C]', 'EGT_2 …"
      ]
     },
     "execution_count": 7,
     "metadata": {},
     "output_type": "execute_result"
    }
   ],
   "source": [
    "df_opset2.plot()"
   ]
  },
  {
   "cell_type": "code",
   "execution_count": 8,
   "id": "c0e2a233-ac1a-4806-9b06-b639f05e684c",
   "metadata": {},
   "outputs": [
    {
     "data": {
      "application/vnd.jupyter.widget-view+json": {
       "model_id": "370ae869ec294f38b60f1eaa93d09f84",
       "version_major": 2,
       "version_minor": 0
      },
      "text/plain": [
       "VBox(children=(HBox(children=(Dropdown(description='Variable :', options=('ALT [ft]', 'EGT_1 [deg C]', 'EGT_2 …"
      ]
     },
     "execution_count": 8,
     "metadata": {},
     "output_type": "execute_result"
    }
   ],
   "source": [
    "df_opset3.plot()"
   ]
  },
  {
   "cell_type": "code",
   "execution_count": 9,
   "id": "f9e66839-63d8-4d32-9899-09a242251461",
   "metadata": {},
   "outputs": [],
   "source": [
    "def eliminate_records(df):\n",
    "    alt_min=df['ALT [ft]'].min()\n",
    "    alt_max=df['ALT [ft]'].max()\n",
    "    alt_range=alt_max-alt_min\n",
    "    bol=False\n",
    "    \n",
    "    if alt_range<15000:\n",
    "        bol=True\n",
    "    return bol\n",
    "    \n",
    "    "
   ]
  },
  {
   "cell_type": "code",
   "execution_count": 10,
   "id": "56b55065-1c48-410d-9177-253760c8ef84",
   "metadata": {},
   "outputs": [
    {
     "name": "stderr",
     "output_type": "stream",
     "text": [
      "C:\\Users\\felix\\PycharmProjects\\pythonProject1\\projet_lacaille\\stats_descriptive_project\\notebooks\\..\\src\\manipulate_dataframe.py:19: RuntimeWarning:\n",
      "\n",
      "invalid value encountered in divide\n",
      "\n",
      "C:\\Users\\felix\\PycharmProjects\\pythonProject1\\projet_lacaille\\stats_descriptive_project\\notebooks\\..\\src\\manipulate_dataframe.py:19: RuntimeWarning:\n",
      "\n",
      "invalid value encountered in divide\n",
      "\n",
      "C:\\Users\\felix\\PycharmProjects\\pythonProject1\\projet_lacaille\\stats_descriptive_project\\notebooks\\..\\src\\manipulate_dataframe.py:19: RuntimeWarning:\n",
      "\n",
      "invalid value encountered in divide\n",
      "\n"
     ]
    }
   ],
   "source": [
    "#on cree notre dataframe avec DASK\n",
    "ddf1 = lire_hdf_dask(filelist[0], repertoire= data_dir)\n",
    "#on récupère une liste de booleen où chaque composante fait reférance à une partition \n",
    "I = ddf1.map_partitions(lambda df: eliminate_records(df)).compute()\n",
    "#on sélectione dans un nouveau dataframe les partitions qui ne sont pas mauvaise\n",
    "DDF1=ddf1.partitions[I==False]\n",
    "# on normalise toute les données excepté les variables booleen \n",
    "ddf_norm1 = DDF1.map_partitions(lambda df : normalize(df))\n",
    "\n",
    "ddf2 = lire_hdf_dask(filelist[2], repertoire= data_dir)\n",
    "I = ddf2.map_partitions(lambda df: eliminate_records(df)).compute()\n",
    "DDF2=ddf2.partitions[I==False]\n",
    "ddf_norm2 = DDF2.map_partitions(lambda df : normalize(df))\n",
    "\n",
    "ddf3 = lire_hdf_dask(filelist[3], repertoire= data_dir)\n",
    "I = ddf3.map_partitions(lambda df: eliminate_records(df)).compute()\n",
    "DDF3=ddf3.partitions[I==False]\n",
    "ddf_norm3 = DDF3.map_partitions(lambda df : normalize(df))"
   ]
  },
  {
   "cell_type": "code",
   "execution_count": 11,
   "id": "79ccea17-200b-4e85-be3a-7e804f2cd6b0",
   "metadata": {},
   "outputs": [
    {
     "data": {
      "text/plain": [
       "-134.462575892"
      ]
     },
     "execution_count": 11,
     "metadata": {},
     "output_type": "execute_result"
    }
   ],
   "source": [
    "df=ddf1.partitions[1].compute()\n",
    "df['ALT [ft]'].min()"
   ]
  },
  {
   "cell_type": "code",
   "execution_count": 12,
   "id": "cab227a7-a05f-45dc-9f93-5b1ddc6e75e7",
   "metadata": {},
   "outputs": [
    {
     "data": {
      "text/html": [
       "<div>\n",
       "<style scoped>\n",
       "    .dataframe tbody tr th:only-of-type {\n",
       "        vertical-align: middle;\n",
       "    }\n",
       "\n",
       "    .dataframe tbody tr th {\n",
       "        vertical-align: top;\n",
       "    }\n",
       "\n",
       "    .dataframe thead th {\n",
       "        text-align: right;\n",
       "    }\n",
       "</style>\n",
       "<table border=\"1\" class=\"dataframe\">\n",
       "  <thead>\n",
       "    <tr style=\"text-align: right;\">\n",
       "      <th></th>\n",
       "      <th>ALT</th>\n",
       "      <th>EGT_1</th>\n",
       "      <th>EGT_2</th>\n",
       "      <th>FMV_1</th>\n",
       "      <th>FMV_2</th>\n",
       "      <th>HPTACC_1</th>\n",
       "      <th>HPTACC_2</th>\n",
       "      <th>M</th>\n",
       "      <th>N1_1</th>\n",
       "      <th>N1_2</th>\n",
       "      <th>...</th>\n",
       "      <th>VIB_AN1_1</th>\n",
       "      <th>VIB_AN1_2</th>\n",
       "      <th>VIB_AN2_1</th>\n",
       "      <th>VIB_AN2_2</th>\n",
       "      <th>VIB_BN1_1</th>\n",
       "      <th>VIB_BN1_2</th>\n",
       "      <th>VIB_BN2_1</th>\n",
       "      <th>VIB_BN2_2</th>\n",
       "      <th>VSV_1</th>\n",
       "      <th>VSV_2</th>\n",
       "    </tr>\n",
       "    <tr>\n",
       "      <th>record_00</th>\n",
       "      <th></th>\n",
       "      <th></th>\n",
       "      <th></th>\n",
       "      <th></th>\n",
       "      <th></th>\n",
       "      <th></th>\n",
       "      <th></th>\n",
       "      <th></th>\n",
       "      <th></th>\n",
       "      <th></th>\n",
       "      <th></th>\n",
       "      <th></th>\n",
       "      <th></th>\n",
       "      <th></th>\n",
       "      <th></th>\n",
       "      <th></th>\n",
       "      <th></th>\n",
       "      <th></th>\n",
       "      <th></th>\n",
       "      <th></th>\n",
       "      <th></th>\n",
       "    </tr>\n",
       "  </thead>\n",
       "  <tbody>\n",
       "    <tr>\n",
       "      <th>0</th>\n",
       "      <td>-1.134103</td>\n",
       "      <td>-3.447952</td>\n",
       "      <td>-3.667389</td>\n",
       "      <td>-2.28672</td>\n",
       "      <td>-2.364025</td>\n",
       "      <td>-1.128226</td>\n",
       "      <td>-1.261854</td>\n",
       "      <td>-1.339298</td>\n",
       "      <td>-1.854991</td>\n",
       "      <td>-1.873735</td>\n",
       "      <td>...</td>\n",
       "      <td>-1.22466</td>\n",
       "      <td>-1.070851</td>\n",
       "      <td>-1.455161</td>\n",
       "      <td>-0.995082</td>\n",
       "      <td>-1.3565</td>\n",
       "      <td>-1.18976</td>\n",
       "      <td>-1.749496</td>\n",
       "      <td>-1.453541</td>\n",
       "      <td>1.376408</td>\n",
       "      <td>1.386277</td>\n",
       "    </tr>\n",
       "    <tr>\n",
       "      <th>1</th>\n",
       "      <td>-1.134103</td>\n",
       "      <td>-3.447952</td>\n",
       "      <td>-3.667389</td>\n",
       "      <td>-2.28672</td>\n",
       "      <td>-2.364025</td>\n",
       "      <td>-1.128226</td>\n",
       "      <td>-1.261854</td>\n",
       "      <td>-1.339298</td>\n",
       "      <td>-1.854991</td>\n",
       "      <td>-1.873735</td>\n",
       "      <td>...</td>\n",
       "      <td>-1.22466</td>\n",
       "      <td>-1.070851</td>\n",
       "      <td>-1.455161</td>\n",
       "      <td>-0.995082</td>\n",
       "      <td>-1.3565</td>\n",
       "      <td>-1.18976</td>\n",
       "      <td>-1.749496</td>\n",
       "      <td>-1.453541</td>\n",
       "      <td>1.376408</td>\n",
       "      <td>1.386277</td>\n",
       "    </tr>\n",
       "    <tr>\n",
       "      <th>2</th>\n",
       "      <td>-1.134103</td>\n",
       "      <td>-3.447952</td>\n",
       "      <td>-3.674029</td>\n",
       "      <td>-2.28672</td>\n",
       "      <td>-2.364025</td>\n",
       "      <td>-1.126343</td>\n",
       "      <td>-1.261854</td>\n",
       "      <td>-1.339298</td>\n",
       "      <td>-1.854991</td>\n",
       "      <td>-1.873735</td>\n",
       "      <td>...</td>\n",
       "      <td>-1.22466</td>\n",
       "      <td>-1.070851</td>\n",
       "      <td>-1.455161</td>\n",
       "      <td>-0.995082</td>\n",
       "      <td>-1.3565</td>\n",
       "      <td>-1.18976</td>\n",
       "      <td>-1.749496</td>\n",
       "      <td>-1.453541</td>\n",
       "      <td>1.376408</td>\n",
       "      <td>1.390019</td>\n",
       "    </tr>\n",
       "    <tr>\n",
       "      <th>3</th>\n",
       "      <td>-1.134103</td>\n",
       "      <td>-3.447952</td>\n",
       "      <td>-3.667389</td>\n",
       "      <td>-2.28672</td>\n",
       "      <td>-2.364025</td>\n",
       "      <td>-1.128226</td>\n",
       "      <td>-1.259411</td>\n",
       "      <td>-1.339298</td>\n",
       "      <td>-1.854991</td>\n",
       "      <td>-1.873735</td>\n",
       "      <td>...</td>\n",
       "      <td>-1.22466</td>\n",
       "      <td>-1.070851</td>\n",
       "      <td>-1.455161</td>\n",
       "      <td>-0.995082</td>\n",
       "      <td>-1.3565</td>\n",
       "      <td>-1.18976</td>\n",
       "      <td>-1.749496</td>\n",
       "      <td>-1.453541</td>\n",
       "      <td>1.376408</td>\n",
       "      <td>1.386277</td>\n",
       "    </tr>\n",
       "    <tr>\n",
       "      <th>4</th>\n",
       "      <td>-1.134103</td>\n",
       "      <td>-3.447952</td>\n",
       "      <td>-3.667389</td>\n",
       "      <td>-2.28672</td>\n",
       "      <td>-2.364025</td>\n",
       "      <td>-1.128226</td>\n",
       "      <td>-1.261854</td>\n",
       "      <td>-1.339298</td>\n",
       "      <td>-1.854991</td>\n",
       "      <td>-1.873735</td>\n",
       "      <td>...</td>\n",
       "      <td>-1.22466</td>\n",
       "      <td>-1.070851</td>\n",
       "      <td>-1.455161</td>\n",
       "      <td>-0.995082</td>\n",
       "      <td>-1.3565</td>\n",
       "      <td>-1.18976</td>\n",
       "      <td>-1.749496</td>\n",
       "      <td>-1.453541</td>\n",
       "      <td>1.376408</td>\n",
       "      <td>1.386277</td>\n",
       "    </tr>\n",
       "  </tbody>\n",
       "</table>\n",
       "<p>5 rows × 51 columns</p>\n",
       "</div>"
      ],
      "text/plain": [
       "                ALT     EGT_1     EGT_2    FMV_1     FMV_2  HPTACC_1  \\\n",
       "record_00                                                              \n",
       "0         -1.134103 -3.447952 -3.667389 -2.28672 -2.364025 -1.128226   \n",
       "1         -1.134103 -3.447952 -3.667389 -2.28672 -2.364025 -1.128226   \n",
       "2         -1.134103 -3.447952 -3.674029 -2.28672 -2.364025 -1.126343   \n",
       "3         -1.134103 -3.447952 -3.667389 -2.28672 -2.364025 -1.128226   \n",
       "4         -1.134103 -3.447952 -3.667389 -2.28672 -2.364025 -1.128226   \n",
       "\n",
       "           HPTACC_2         M      N1_1      N1_2  ...  VIB_AN1_1  VIB_AN1_2  \\\n",
       "record_00                                          ...                         \n",
       "0         -1.261854 -1.339298 -1.854991 -1.873735  ...   -1.22466  -1.070851   \n",
       "1         -1.261854 -1.339298 -1.854991 -1.873735  ...   -1.22466  -1.070851   \n",
       "2         -1.261854 -1.339298 -1.854991 -1.873735  ...   -1.22466  -1.070851   \n",
       "3         -1.259411 -1.339298 -1.854991 -1.873735  ...   -1.22466  -1.070851   \n",
       "4         -1.261854 -1.339298 -1.854991 -1.873735  ...   -1.22466  -1.070851   \n",
       "\n",
       "           VIB_AN2_1  VIB_AN2_2  VIB_BN1_1  VIB_BN1_2  VIB_BN2_1  VIB_BN2_2  \\\n",
       "record_00                                                                     \n",
       "0          -1.455161  -0.995082    -1.3565   -1.18976  -1.749496  -1.453541   \n",
       "1          -1.455161  -0.995082    -1.3565   -1.18976  -1.749496  -1.453541   \n",
       "2          -1.455161  -0.995082    -1.3565   -1.18976  -1.749496  -1.453541   \n",
       "3          -1.455161  -0.995082    -1.3565   -1.18976  -1.749496  -1.453541   \n",
       "4          -1.455161  -0.995082    -1.3565   -1.18976  -1.749496  -1.453541   \n",
       "\n",
       "              VSV_1     VSV_2  \n",
       "record_00                      \n",
       "0          1.376408  1.386277  \n",
       "1          1.376408  1.386277  \n",
       "2          1.376408  1.390019  \n",
       "3          1.376408  1.386277  \n",
       "4          1.376408  1.386277  \n",
       "\n",
       "[5 rows x 51 columns]"
      ]
     },
     "execution_count": 12,
     "metadata": {},
     "output_type": "execute_result"
    }
   ],
   "source": [
    "ddf_norm2.head()"
   ]
  },
  {
   "cell_type": "markdown",
   "id": "84e61740-b838-4a30-9230-3350771b4dcd",
   "metadata": {},
   "source": [
    "# appliquer un filtrage sur l'egt pour recuperer les tendances\n",
    "-> Quand est t'il du bruit ? ne risquons nous pas d'interpréter du bruit pour quelque chose de significatif\n"
   ]
  },
  {
   "cell_type": "markdown",
   "id": "38c1c344-13d4-4649-bbd2-0ab41696cd84",
   "metadata": {},
   "source": [
    "#calcul de la corelation entre l'usure et la vitesse d'altitude \n",
    "premièrement il faut repérer les valeur de vittesse de montée\n",
    "Attention il faut fuiltrer les les valeurs pour éviter le parasitage \n",
    "on peut récupérer le temps passé a une altitude supérieur à un montant fixé \n",
    "et ainssi remarqueé une corélation entre ce temps fixée et une baisse de la marge EGT \n",
    "Attention l'egt est une valeur qu'on devra aussi filtrer \n"
   ]
  },
  {
   "cell_type": "markdown",
   "id": "1550e79c-9533-406f-9daa-0508efb2858d",
   "metadata": {},
   "source": [
    "Il va falloir peut être modifier la fonction deriv_glissante lorsque qu'on passera à l'analyse de chaque record "
   ]
  },
  {
   "cell_type": "code",
   "execution_count": 13,
   "id": "0cd22097-059e-4032-888f-f5d8f05d50b2",
   "metadata": {},
   "outputs": [],
   "source": [
    "def deriv_glissante(df):\n",
    "    #on cree une fonction qui prend un data frame qui l'augment de la valeur dy et qui renvoit  un nouveau dataframe contenant que le monté \n",
    "    #ATTENTION LA FONCTION PRENDS EN ENTREE DES DONNEES NORMALISE\n",
    "    dy=np.zeros(len(df))\n",
    "    y = df['ALT'].rolling(window = 20).mean()\n",
    "    I = range(y.index[0], y.index[-1],20)\n",
    "    dy[0:len(I)-1] = y[I[1:]].values- y[I[:-1]].values\n",
    "    df['dy']=dy\n",
    "    df_monte=df[df['dy']>0.01]\n",
    "    I4=np.zeros(len(df_monte))\n",
    "    I4[5:]=df_monte.index[5:]==(df_monte.index+5)[:-5]\n",
    "    I4[:5]=1\n",
    "    df_monte2=df_monte[I4==1]\n",
    "    \n",
    "\n",
    "\n",
    "    return [df_monte2]"
   ]
  },
  {
   "cell_type": "code",
   "execution_count": 14,
   "id": "0b2b3bd0-e378-40e3-a1ba-8ab22531ca10",
   "metadata": {},
   "outputs": [
    {
     "data": {
      "text/plain": [
       "Dask Series Structure:\n",
       "npartitions=996\n",
       "    string\n",
       "       ...\n",
       "     ...  \n",
       "       ...\n",
       "       ...\n",
       "dtype: string\n",
       "Dask Name: to_pyarrow_string, 5 graph layers"
      ]
     },
     "execution_count": 14,
     "metadata": {},
     "output_type": "execute_result"
    }
   ],
   "source": [
    "DF_monte=ddf_norm1.map_partitions(lambda df:deriv_glissante(df))\n",
    "DF_monte"
   ]
  },
  {
   "cell_type": "code",
   "execution_count": 15,
   "id": "713b920f-d8ca-49df-9fdd-c4bff8580854",
   "metadata": {},
   "outputs": [
    {
     "ename": "StopIteration",
     "evalue": "",
     "output_type": "error",
     "traceback": [
      "\u001b[1;31m---------------------------------------------------------------------------\u001b[0m",
      "\u001b[1;31mStopIteration\u001b[0m                             Traceback (most recent call last)",
      "File \u001b[1;32m~\\PycharmProjects\\pythonProject1\\venv\\Lib\\site-packages\\IPython\\core\\formatters.py:708\u001b[0m, in \u001b[0;36mPlainTextFormatter.__call__\u001b[1;34m(self, obj)\u001b[0m\n\u001b[0;32m    701\u001b[0m stream \u001b[38;5;241m=\u001b[39m StringIO()\n\u001b[0;32m    702\u001b[0m printer \u001b[38;5;241m=\u001b[39m pretty\u001b[38;5;241m.\u001b[39mRepresentationPrinter(stream, \u001b[38;5;28mself\u001b[39m\u001b[38;5;241m.\u001b[39mverbose,\n\u001b[0;32m    703\u001b[0m     \u001b[38;5;28mself\u001b[39m\u001b[38;5;241m.\u001b[39mmax_width, \u001b[38;5;28mself\u001b[39m\u001b[38;5;241m.\u001b[39mnewline,\n\u001b[0;32m    704\u001b[0m     max_seq_length\u001b[38;5;241m=\u001b[39m\u001b[38;5;28mself\u001b[39m\u001b[38;5;241m.\u001b[39mmax_seq_length,\n\u001b[0;32m    705\u001b[0m     singleton_pprinters\u001b[38;5;241m=\u001b[39m\u001b[38;5;28mself\u001b[39m\u001b[38;5;241m.\u001b[39msingleton_printers,\n\u001b[0;32m    706\u001b[0m     type_pprinters\u001b[38;5;241m=\u001b[39m\u001b[38;5;28mself\u001b[39m\u001b[38;5;241m.\u001b[39mtype_printers,\n\u001b[0;32m    707\u001b[0m     deferred_pprinters\u001b[38;5;241m=\u001b[39m\u001b[38;5;28mself\u001b[39m\u001b[38;5;241m.\u001b[39mdeferred_printers)\n\u001b[1;32m--> 708\u001b[0m \u001b[43mprinter\u001b[49m\u001b[38;5;241;43m.\u001b[39;49m\u001b[43mpretty\u001b[49m\u001b[43m(\u001b[49m\u001b[43mobj\u001b[49m\u001b[43m)\u001b[49m\n\u001b[0;32m    709\u001b[0m printer\u001b[38;5;241m.\u001b[39mflush()\n\u001b[0;32m    710\u001b[0m \u001b[38;5;28;01mreturn\u001b[39;00m stream\u001b[38;5;241m.\u001b[39mgetvalue()\n",
      "File \u001b[1;32m~\\PycharmProjects\\pythonProject1\\venv\\Lib\\site-packages\\IPython\\lib\\pretty.py:410\u001b[0m, in \u001b[0;36mRepresentationPrinter.pretty\u001b[1;34m(self, obj)\u001b[0m\n\u001b[0;32m    407\u001b[0m                         \u001b[38;5;28;01mreturn\u001b[39;00m meth(obj, \u001b[38;5;28mself\u001b[39m, cycle)\n\u001b[0;32m    408\u001b[0m                 \u001b[38;5;28;01mif\u001b[39;00m \u001b[38;5;28mcls\u001b[39m \u001b[38;5;129;01mis\u001b[39;00m \u001b[38;5;129;01mnot\u001b[39;00m \u001b[38;5;28mobject\u001b[39m \\\n\u001b[0;32m    409\u001b[0m                         \u001b[38;5;129;01mand\u001b[39;00m \u001b[38;5;28mcallable\u001b[39m(\u001b[38;5;28mcls\u001b[39m\u001b[38;5;241m.\u001b[39m\u001b[38;5;18m__dict__\u001b[39m\u001b[38;5;241m.\u001b[39mget(\u001b[38;5;124m'\u001b[39m\u001b[38;5;124m__repr__\u001b[39m\u001b[38;5;124m'\u001b[39m)):\n\u001b[1;32m--> 410\u001b[0m                     \u001b[38;5;28;01mreturn\u001b[39;00m \u001b[43m_repr_pprint\u001b[49m\u001b[43m(\u001b[49m\u001b[43mobj\u001b[49m\u001b[43m,\u001b[49m\u001b[43m \u001b[49m\u001b[38;5;28;43mself\u001b[39;49m\u001b[43m,\u001b[49m\u001b[43m \u001b[49m\u001b[43mcycle\u001b[49m\u001b[43m)\u001b[49m\n\u001b[0;32m    412\u001b[0m     \u001b[38;5;28;01mreturn\u001b[39;00m _default_pprint(obj, \u001b[38;5;28mself\u001b[39m, cycle)\n\u001b[0;32m    413\u001b[0m \u001b[38;5;28;01mfinally\u001b[39;00m:\n",
      "File \u001b[1;32m~\\PycharmProjects\\pythonProject1\\venv\\Lib\\site-packages\\IPython\\lib\\pretty.py:778\u001b[0m, in \u001b[0;36m_repr_pprint\u001b[1;34m(obj, p, cycle)\u001b[0m\n\u001b[0;32m    776\u001b[0m \u001b[38;5;250m\u001b[39m\u001b[38;5;124;03m\"\"\"A pprint that just redirects to the normal repr function.\"\"\"\u001b[39;00m\n\u001b[0;32m    777\u001b[0m \u001b[38;5;66;03m# Find newlines and replace them with p.break_()\u001b[39;00m\n\u001b[1;32m--> 778\u001b[0m output \u001b[38;5;241m=\u001b[39m \u001b[38;5;28mrepr\u001b[39m(obj)\n\u001b[0;32m    779\u001b[0m lines \u001b[38;5;241m=\u001b[39m output\u001b[38;5;241m.\u001b[39msplitlines()\n\u001b[0;32m    780\u001b[0m \u001b[38;5;28;01mwith\u001b[39;00m p\u001b[38;5;241m.\u001b[39mgroup():\n",
      "File \u001b[1;32m~\\PycharmProjects\\pythonProject1\\venv\\Lib\\site-packages\\pandas\\core\\series.py:1685\u001b[0m, in \u001b[0;36mSeries.__repr__\u001b[1;34m(self)\u001b[0m\n\u001b[0;32m   1683\u001b[0m \u001b[38;5;66;03m# pylint: disable=invalid-repr-returned\u001b[39;00m\n\u001b[0;32m   1684\u001b[0m repr_params \u001b[38;5;241m=\u001b[39m fmt\u001b[38;5;241m.\u001b[39mget_series_repr_params()\n\u001b[1;32m-> 1685\u001b[0m \u001b[38;5;28;01mreturn\u001b[39;00m \u001b[38;5;28;43mself\u001b[39;49m\u001b[38;5;241;43m.\u001b[39;49m\u001b[43mto_string\u001b[49m\u001b[43m(\u001b[49m\u001b[38;5;241;43m*\u001b[39;49m\u001b[38;5;241;43m*\u001b[39;49m\u001b[43mrepr_params\u001b[49m\u001b[43m)\u001b[49m\n",
      "File \u001b[1;32m~\\PycharmProjects\\pythonProject1\\venv\\Lib\\site-packages\\pandas\\core\\series.py:1784\u001b[0m, in \u001b[0;36mSeries.to_string\u001b[1;34m(self, buf, na_rep, float_format, header, index, length, dtype, name, max_rows, min_rows)\u001b[0m\n\u001b[0;32m   1732\u001b[0m \u001b[38;5;250m\u001b[39m\u001b[38;5;124;03m\"\"\"\u001b[39;00m\n\u001b[0;32m   1733\u001b[0m \u001b[38;5;124;03mRender a string representation of the Series.\u001b[39;00m\n\u001b[0;32m   1734\u001b[0m \n\u001b[1;32m   (...)\u001b[0m\n\u001b[0;32m   1770\u001b[0m \u001b[38;5;124;03m'0    1\\\\n1    2\\\\n2    3'\u001b[39;00m\n\u001b[0;32m   1771\u001b[0m \u001b[38;5;124;03m\"\"\"\u001b[39;00m\n\u001b[0;32m   1772\u001b[0m formatter \u001b[38;5;241m=\u001b[39m fmt\u001b[38;5;241m.\u001b[39mSeriesFormatter(\n\u001b[0;32m   1773\u001b[0m     \u001b[38;5;28mself\u001b[39m,\n\u001b[0;32m   1774\u001b[0m     name\u001b[38;5;241m=\u001b[39mname,\n\u001b[1;32m   (...)\u001b[0m\n\u001b[0;32m   1782\u001b[0m     max_rows\u001b[38;5;241m=\u001b[39mmax_rows,\n\u001b[0;32m   1783\u001b[0m )\n\u001b[1;32m-> 1784\u001b[0m result \u001b[38;5;241m=\u001b[39m \u001b[43mformatter\u001b[49m\u001b[38;5;241;43m.\u001b[39;49m\u001b[43mto_string\u001b[49m\u001b[43m(\u001b[49m\u001b[43m)\u001b[49m\n\u001b[0;32m   1786\u001b[0m \u001b[38;5;66;03m# catch contract violations\u001b[39;00m\n\u001b[0;32m   1787\u001b[0m \u001b[38;5;28;01mif\u001b[39;00m \u001b[38;5;129;01mnot\u001b[39;00m \u001b[38;5;28misinstance\u001b[39m(result, \u001b[38;5;28mstr\u001b[39m):\n",
      "File \u001b[1;32m~\\PycharmProjects\\pythonProject1\\venv\\Lib\\site-packages\\pandas\\io\\formats\\format.py:393\u001b[0m, in \u001b[0;36mSeriesFormatter.to_string\u001b[1;34m(self)\u001b[0m\n\u001b[0;32m    390\u001b[0m     \u001b[38;5;28;01mreturn\u001b[39;00m \u001b[38;5;124mf\u001b[39m\u001b[38;5;124m\"\u001b[39m\u001b[38;5;132;01m{\u001b[39;00m\u001b[38;5;28mtype\u001b[39m(\u001b[38;5;28mself\u001b[39m\u001b[38;5;241m.\u001b[39mseries)\u001b[38;5;241m.\u001b[39m\u001b[38;5;18m__name__\u001b[39m\u001b[38;5;132;01m}\u001b[39;00m\u001b[38;5;124m([], \u001b[39m\u001b[38;5;132;01m{\u001b[39;00mfooter\u001b[38;5;132;01m}\u001b[39;00m\u001b[38;5;124m)\u001b[39m\u001b[38;5;124m\"\u001b[39m\n\u001b[0;32m    392\u001b[0m fmt_index, have_header \u001b[38;5;241m=\u001b[39m \u001b[38;5;28mself\u001b[39m\u001b[38;5;241m.\u001b[39m_get_formatted_index()\n\u001b[1;32m--> 393\u001b[0m fmt_values \u001b[38;5;241m=\u001b[39m \u001b[38;5;28;43mself\u001b[39;49m\u001b[38;5;241;43m.\u001b[39;49m\u001b[43m_get_formatted_values\u001b[49m\u001b[43m(\u001b[49m\u001b[43m)\u001b[49m\n\u001b[0;32m    395\u001b[0m \u001b[38;5;28;01mif\u001b[39;00m \u001b[38;5;28mself\u001b[39m\u001b[38;5;241m.\u001b[39mis_truncated_vertically:\n\u001b[0;32m    396\u001b[0m     n_header_rows \u001b[38;5;241m=\u001b[39m \u001b[38;5;241m0\u001b[39m\n",
      "File \u001b[1;32m~\\PycharmProjects\\pythonProject1\\venv\\Lib\\site-packages\\pandas\\io\\formats\\format.py:377\u001b[0m, in \u001b[0;36mSeriesFormatter._get_formatted_values\u001b[1;34m(self)\u001b[0m\n\u001b[0;32m    376\u001b[0m \u001b[38;5;28;01mdef\u001b[39;00m \u001b[38;5;21m_get_formatted_values\u001b[39m(\u001b[38;5;28mself\u001b[39m) \u001b[38;5;241m-\u001b[39m\u001b[38;5;241m>\u001b[39m \u001b[38;5;28mlist\u001b[39m[\u001b[38;5;28mstr\u001b[39m]:\n\u001b[1;32m--> 377\u001b[0m     \u001b[38;5;28;01mreturn\u001b[39;00m \u001b[43mformat_array\u001b[49m\u001b[43m(\u001b[49m\n\u001b[0;32m    378\u001b[0m \u001b[43m        \u001b[49m\u001b[38;5;28;43mself\u001b[39;49m\u001b[38;5;241;43m.\u001b[39;49m\u001b[43mtr_series\u001b[49m\u001b[38;5;241;43m.\u001b[39;49m\u001b[43m_values\u001b[49m\u001b[43m,\u001b[49m\n\u001b[0;32m    379\u001b[0m \u001b[43m        \u001b[49m\u001b[38;5;28;43;01mNone\u001b[39;49;00m\u001b[43m,\u001b[49m\n\u001b[0;32m    380\u001b[0m \u001b[43m        \u001b[49m\u001b[43mfloat_format\u001b[49m\u001b[38;5;241;43m=\u001b[39;49m\u001b[38;5;28;43mself\u001b[39;49m\u001b[38;5;241;43m.\u001b[39;49m\u001b[43mfloat_format\u001b[49m\u001b[43m,\u001b[49m\n\u001b[0;32m    381\u001b[0m \u001b[43m        \u001b[49m\u001b[43mna_rep\u001b[49m\u001b[38;5;241;43m=\u001b[39;49m\u001b[38;5;28;43mself\u001b[39;49m\u001b[38;5;241;43m.\u001b[39;49m\u001b[43mna_rep\u001b[49m\u001b[43m,\u001b[49m\n\u001b[0;32m    382\u001b[0m \u001b[43m        \u001b[49m\u001b[43mleading_space\u001b[49m\u001b[38;5;241;43m=\u001b[39;49m\u001b[38;5;28;43mself\u001b[39;49m\u001b[38;5;241;43m.\u001b[39;49m\u001b[43mindex\u001b[49m\u001b[43m,\u001b[49m\n\u001b[0;32m    383\u001b[0m \u001b[43m    \u001b[49m\u001b[43m)\u001b[49m\n",
      "File \u001b[1;32m~\\PycharmProjects\\pythonProject1\\venv\\Lib\\site-packages\\pandas\\io\\formats\\format.py:1296\u001b[0m, in \u001b[0;36mformat_array\u001b[1;34m(values, formatter, float_format, na_rep, digits, space, justify, decimal, leading_space, quoting, fallback_formatter)\u001b[0m\n\u001b[0;32m   1280\u001b[0m     digits \u001b[38;5;241m=\u001b[39m get_option(\u001b[38;5;124m\"\u001b[39m\u001b[38;5;124mdisplay.precision\u001b[39m\u001b[38;5;124m\"\u001b[39m)\n\u001b[0;32m   1282\u001b[0m fmt_obj \u001b[38;5;241m=\u001b[39m fmt_klass(\n\u001b[0;32m   1283\u001b[0m     values,\n\u001b[0;32m   1284\u001b[0m     digits\u001b[38;5;241m=\u001b[39mdigits,\n\u001b[1;32m   (...)\u001b[0m\n\u001b[0;32m   1293\u001b[0m     fallback_formatter\u001b[38;5;241m=\u001b[39mfallback_formatter,\n\u001b[0;32m   1294\u001b[0m )\n\u001b[1;32m-> 1296\u001b[0m \u001b[38;5;28;01mreturn\u001b[39;00m \u001b[43mfmt_obj\u001b[49m\u001b[38;5;241;43m.\u001b[39;49m\u001b[43mget_result\u001b[49m\u001b[43m(\u001b[49m\u001b[43m)\u001b[49m\n",
      "File \u001b[1;32m~\\PycharmProjects\\pythonProject1\\venv\\Lib\\site-packages\\pandas\\io\\formats\\format.py:1329\u001b[0m, in \u001b[0;36mGenericArrayFormatter.get_result\u001b[1;34m(self)\u001b[0m\n\u001b[0;32m   1328\u001b[0m \u001b[38;5;28;01mdef\u001b[39;00m \u001b[38;5;21mget_result\u001b[39m(\u001b[38;5;28mself\u001b[39m) \u001b[38;5;241m-\u001b[39m\u001b[38;5;241m>\u001b[39m \u001b[38;5;28mlist\u001b[39m[\u001b[38;5;28mstr\u001b[39m]:\n\u001b[1;32m-> 1329\u001b[0m     fmt_values \u001b[38;5;241m=\u001b[39m \u001b[38;5;28;43mself\u001b[39;49m\u001b[38;5;241;43m.\u001b[39;49m\u001b[43m_format_strings\u001b[49m\u001b[43m(\u001b[49m\u001b[43m)\u001b[49m\n\u001b[0;32m   1330\u001b[0m     \u001b[38;5;28;01mreturn\u001b[39;00m _make_fixed_width(fmt_values, \u001b[38;5;28mself\u001b[39m\u001b[38;5;241m.\u001b[39mjustify)\n",
      "File \u001b[1;32m~\\PycharmProjects\\pythonProject1\\venv\\Lib\\site-packages\\pandas\\io\\formats\\format.py:1396\u001b[0m, in \u001b[0;36mGenericArrayFormatter._format_strings\u001b[1;34m(self)\u001b[0m\n\u001b[0;32m   1394\u001b[0m \u001b[38;5;28;01mfor\u001b[39;00m i, v \u001b[38;5;129;01min\u001b[39;00m \u001b[38;5;28menumerate\u001b[39m(vals):\n\u001b[0;32m   1395\u001b[0m     \u001b[38;5;28;01mif\u001b[39;00m (\u001b[38;5;129;01mnot\u001b[39;00m is_float_type[i] \u001b[38;5;129;01mor\u001b[39;00m \u001b[38;5;28mself\u001b[39m\u001b[38;5;241m.\u001b[39mformatter \u001b[38;5;129;01mis\u001b[39;00m \u001b[38;5;129;01mnot\u001b[39;00m \u001b[38;5;28;01mNone\u001b[39;00m) \u001b[38;5;129;01mand\u001b[39;00m leading_space:\n\u001b[1;32m-> 1396\u001b[0m         fmt_values\u001b[38;5;241m.\u001b[39mappend(\u001b[38;5;124mf\u001b[39m\u001b[38;5;124m\"\u001b[39m\u001b[38;5;124m \u001b[39m\u001b[38;5;132;01m{\u001b[39;00m\u001b[43m_format\u001b[49m\u001b[43m(\u001b[49m\u001b[43mv\u001b[49m\u001b[43m)\u001b[49m\u001b[38;5;132;01m}\u001b[39;00m\u001b[38;5;124m\"\u001b[39m)\n\u001b[0;32m   1397\u001b[0m     \u001b[38;5;28;01melif\u001b[39;00m is_float_type[i]:\n\u001b[0;32m   1398\u001b[0m         fmt_values\u001b[38;5;241m.\u001b[39mappend(float_format(v))\n",
      "File \u001b[1;32m~\\PycharmProjects\\pythonProject1\\venv\\Lib\\site-packages\\pandas\\io\\formats\\format.py:1376\u001b[0m, in \u001b[0;36mGenericArrayFormatter._format_strings.<locals>._format\u001b[1;34m(x)\u001b[0m\n\u001b[0;32m   1373\u001b[0m     \u001b[38;5;28;01mreturn\u001b[39;00m \u001b[38;5;28mrepr\u001b[39m(x)\n\u001b[0;32m   1374\u001b[0m \u001b[38;5;28;01melse\u001b[39;00m:\n\u001b[0;32m   1375\u001b[0m     \u001b[38;5;66;03m# object dtype\u001b[39;00m\n\u001b[1;32m-> 1376\u001b[0m     \u001b[38;5;28;01mreturn\u001b[39;00m \u001b[38;5;28mstr\u001b[39m(\u001b[43mformatter\u001b[49m\u001b[43m(\u001b[49m\u001b[43mx\u001b[49m\u001b[43m)\u001b[49m)\n",
      "File \u001b[1;32m~\\PycharmProjects\\pythonProject1\\venv\\Lib\\site-packages\\pandas\\io\\formats\\printing.py:220\u001b[0m, in \u001b[0;36mpprint_thing\u001b[1;34m(thing, _nest_lvl, escape_chars, default_escapes, quote_strings, max_seq_items)\u001b[0m\n\u001b[0;32m    216\u001b[0m     result \u001b[38;5;241m=\u001b[39m _pprint_dict(\n\u001b[0;32m    217\u001b[0m         thing, _nest_lvl, quote_strings\u001b[38;5;241m=\u001b[39m\u001b[38;5;28;01mTrue\u001b[39;00m, max_seq_items\u001b[38;5;241m=\u001b[39mmax_seq_items\n\u001b[0;32m    218\u001b[0m     )\n\u001b[0;32m    219\u001b[0m \u001b[38;5;28;01melif\u001b[39;00m is_sequence(thing) \u001b[38;5;129;01mand\u001b[39;00m _nest_lvl \u001b[38;5;241m<\u001b[39m get_option(\u001b[38;5;124m\"\u001b[39m\u001b[38;5;124mdisplay.pprint_nest_depth\u001b[39m\u001b[38;5;124m\"\u001b[39m):\n\u001b[1;32m--> 220\u001b[0m     result \u001b[38;5;241m=\u001b[39m \u001b[43m_pprint_seq\u001b[49m\u001b[43m(\u001b[49m\n\u001b[0;32m    221\u001b[0m \u001b[43m        \u001b[49m\u001b[43mthing\u001b[49m\u001b[43m,\u001b[49m\n\u001b[0;32m    222\u001b[0m \u001b[43m        \u001b[49m\u001b[43m_nest_lvl\u001b[49m\u001b[43m,\u001b[49m\n\u001b[0;32m    223\u001b[0m \u001b[43m        \u001b[49m\u001b[43mescape_chars\u001b[49m\u001b[38;5;241;43m=\u001b[39;49m\u001b[43mescape_chars\u001b[49m\u001b[43m,\u001b[49m\n\u001b[0;32m    224\u001b[0m \u001b[43m        \u001b[49m\u001b[43mquote_strings\u001b[49m\u001b[38;5;241;43m=\u001b[39;49m\u001b[43mquote_strings\u001b[49m\u001b[43m,\u001b[49m\n\u001b[0;32m    225\u001b[0m \u001b[43m        \u001b[49m\u001b[43mmax_seq_items\u001b[49m\u001b[38;5;241;43m=\u001b[39;49m\u001b[43mmax_seq_items\u001b[49m\u001b[43m,\u001b[49m\n\u001b[0;32m    226\u001b[0m \u001b[43m    \u001b[49m\u001b[43m)\u001b[49m\n\u001b[0;32m    227\u001b[0m \u001b[38;5;28;01melif\u001b[39;00m \u001b[38;5;28misinstance\u001b[39m(thing, \u001b[38;5;28mstr\u001b[39m) \u001b[38;5;129;01mand\u001b[39;00m quote_strings:\n\u001b[0;32m    228\u001b[0m     result \u001b[38;5;241m=\u001b[39m \u001b[38;5;124mf\u001b[39m\u001b[38;5;124m\"\u001b[39m\u001b[38;5;124m'\u001b[39m\u001b[38;5;132;01m{\u001b[39;00mas_escaped_string(thing)\u001b[38;5;132;01m}\u001b[39;00m\u001b[38;5;124m'\u001b[39m\u001b[38;5;124m\"\u001b[39m\n",
      "File \u001b[1;32m~\\PycharmProjects\\pythonProject1\\venv\\Lib\\site-packages\\pandas\\io\\formats\\printing.py:117\u001b[0m, in \u001b[0;36m_pprint_seq\u001b[1;34m(seq, _nest_lvl, max_seq_items, **kwds)\u001b[0m\n\u001b[0;32m    115\u001b[0m s \u001b[38;5;241m=\u001b[39m \u001b[38;5;28miter\u001b[39m(seq)\n\u001b[0;32m    116\u001b[0m \u001b[38;5;66;03m# handle sets, no slicing\u001b[39;00m\n\u001b[1;32m--> 117\u001b[0m r \u001b[38;5;241m=\u001b[39m \u001b[43m[\u001b[49m\n\u001b[0;32m    118\u001b[0m \u001b[43m    \u001b[49m\u001b[43mpprint_thing\u001b[49m\u001b[43m(\u001b[49m\u001b[38;5;28;43mnext\u001b[39;49m\u001b[43m(\u001b[49m\u001b[43ms\u001b[49m\u001b[43m)\u001b[49m\u001b[43m,\u001b[49m\u001b[43m \u001b[49m\u001b[43m_nest_lvl\u001b[49m\u001b[43m \u001b[49m\u001b[38;5;241;43m+\u001b[39;49m\u001b[43m \u001b[49m\u001b[38;5;241;43m1\u001b[39;49m\u001b[43m,\u001b[49m\u001b[43m \u001b[49m\u001b[43mmax_seq_items\u001b[49m\u001b[38;5;241;43m=\u001b[39;49m\u001b[43mmax_seq_items\u001b[49m\u001b[43m,\u001b[49m\u001b[43m \u001b[49m\u001b[38;5;241;43m*\u001b[39;49m\u001b[38;5;241;43m*\u001b[39;49m\u001b[43mkwds\u001b[49m\u001b[43m)\u001b[49m\n\u001b[0;32m    119\u001b[0m \u001b[43m    \u001b[49m\u001b[38;5;28;43;01mfor\u001b[39;49;00m\u001b[43m \u001b[49m\u001b[43mi\u001b[49m\u001b[43m \u001b[49m\u001b[38;5;129;43;01min\u001b[39;49;00m\u001b[43m \u001b[49m\u001b[38;5;28;43mrange\u001b[39;49m\u001b[43m(\u001b[49m\u001b[38;5;28;43mmin\u001b[39;49m\u001b[43m(\u001b[49m\u001b[43mnitems\u001b[49m\u001b[43m,\u001b[49m\u001b[43m \u001b[49m\u001b[38;5;28;43mlen\u001b[39;49m\u001b[43m(\u001b[49m\u001b[43mseq\u001b[49m\u001b[43m)\u001b[49m\u001b[43m)\u001b[49m\u001b[43m)\u001b[49m\n\u001b[0;32m    120\u001b[0m \u001b[43m\u001b[49m\u001b[43m]\u001b[49m\n\u001b[0;32m    121\u001b[0m body \u001b[38;5;241m=\u001b[39m \u001b[38;5;124m\"\u001b[39m\u001b[38;5;124m, \u001b[39m\u001b[38;5;124m\"\u001b[39m\u001b[38;5;241m.\u001b[39mjoin(r)\n\u001b[0;32m    123\u001b[0m \u001b[38;5;28;01mif\u001b[39;00m nitems \u001b[38;5;241m<\u001b[39m \u001b[38;5;28mlen\u001b[39m(seq):\n",
      "File \u001b[1;32m~\\PycharmProjects\\pythonProject1\\venv\\Lib\\site-packages\\pandas\\io\\formats\\printing.py:118\u001b[0m, in \u001b[0;36m<listcomp>\u001b[1;34m(.0)\u001b[0m\n\u001b[0;32m    115\u001b[0m s \u001b[38;5;241m=\u001b[39m \u001b[38;5;28miter\u001b[39m(seq)\n\u001b[0;32m    116\u001b[0m \u001b[38;5;66;03m# handle sets, no slicing\u001b[39;00m\n\u001b[0;32m    117\u001b[0m r \u001b[38;5;241m=\u001b[39m [\n\u001b[1;32m--> 118\u001b[0m     \u001b[43mpprint_thing\u001b[49m\u001b[43m(\u001b[49m\u001b[38;5;28;43mnext\u001b[39;49m\u001b[43m(\u001b[49m\u001b[43ms\u001b[49m\u001b[43m)\u001b[49m\u001b[43m,\u001b[49m\u001b[43m \u001b[49m\u001b[43m_nest_lvl\u001b[49m\u001b[43m \u001b[49m\u001b[38;5;241;43m+\u001b[39;49m\u001b[43m \u001b[49m\u001b[38;5;241;43m1\u001b[39;49m\u001b[43m,\u001b[49m\u001b[43m \u001b[49m\u001b[43mmax_seq_items\u001b[49m\u001b[38;5;241;43m=\u001b[39;49m\u001b[43mmax_seq_items\u001b[49m\u001b[43m,\u001b[49m\u001b[43m \u001b[49m\u001b[38;5;241;43m*\u001b[39;49m\u001b[38;5;241;43m*\u001b[39;49m\u001b[43mkwds\u001b[49m\u001b[43m)\u001b[49m\n\u001b[0;32m    119\u001b[0m     \u001b[38;5;28;01mfor\u001b[39;00m i \u001b[38;5;129;01min\u001b[39;00m \u001b[38;5;28mrange\u001b[39m(\u001b[38;5;28mmin\u001b[39m(nitems, \u001b[38;5;28mlen\u001b[39m(seq)))\n\u001b[0;32m    120\u001b[0m ]\n\u001b[0;32m    121\u001b[0m body \u001b[38;5;241m=\u001b[39m \u001b[38;5;124m\"\u001b[39m\u001b[38;5;124m, \u001b[39m\u001b[38;5;124m\"\u001b[39m\u001b[38;5;241m.\u001b[39mjoin(r)\n\u001b[0;32m    123\u001b[0m \u001b[38;5;28;01mif\u001b[39;00m nitems \u001b[38;5;241m<\u001b[39m \u001b[38;5;28mlen\u001b[39m(seq):\n",
      "File \u001b[1;32m~\\PycharmProjects\\pythonProject1\\venv\\Lib\\site-packages\\pandas\\io\\formats\\printing.py:220\u001b[0m, in \u001b[0;36mpprint_thing\u001b[1;34m(thing, _nest_lvl, escape_chars, default_escapes, quote_strings, max_seq_items)\u001b[0m\n\u001b[0;32m    216\u001b[0m     result \u001b[38;5;241m=\u001b[39m _pprint_dict(\n\u001b[0;32m    217\u001b[0m         thing, _nest_lvl, quote_strings\u001b[38;5;241m=\u001b[39m\u001b[38;5;28;01mTrue\u001b[39;00m, max_seq_items\u001b[38;5;241m=\u001b[39mmax_seq_items\n\u001b[0;32m    218\u001b[0m     )\n\u001b[0;32m    219\u001b[0m \u001b[38;5;28;01melif\u001b[39;00m is_sequence(thing) \u001b[38;5;129;01mand\u001b[39;00m _nest_lvl \u001b[38;5;241m<\u001b[39m get_option(\u001b[38;5;124m\"\u001b[39m\u001b[38;5;124mdisplay.pprint_nest_depth\u001b[39m\u001b[38;5;124m\"\u001b[39m):\n\u001b[1;32m--> 220\u001b[0m     result \u001b[38;5;241m=\u001b[39m \u001b[43m_pprint_seq\u001b[49m\u001b[43m(\u001b[49m\n\u001b[0;32m    221\u001b[0m \u001b[43m        \u001b[49m\u001b[43mthing\u001b[49m\u001b[43m,\u001b[49m\n\u001b[0;32m    222\u001b[0m \u001b[43m        \u001b[49m\u001b[43m_nest_lvl\u001b[49m\u001b[43m,\u001b[49m\n\u001b[0;32m    223\u001b[0m \u001b[43m        \u001b[49m\u001b[43mescape_chars\u001b[49m\u001b[38;5;241;43m=\u001b[39;49m\u001b[43mescape_chars\u001b[49m\u001b[43m,\u001b[49m\n\u001b[0;32m    224\u001b[0m \u001b[43m        \u001b[49m\u001b[43mquote_strings\u001b[49m\u001b[38;5;241;43m=\u001b[39;49m\u001b[43mquote_strings\u001b[49m\u001b[43m,\u001b[49m\n\u001b[0;32m    225\u001b[0m \u001b[43m        \u001b[49m\u001b[43mmax_seq_items\u001b[49m\u001b[38;5;241;43m=\u001b[39;49m\u001b[43mmax_seq_items\u001b[49m\u001b[43m,\u001b[49m\n\u001b[0;32m    226\u001b[0m \u001b[43m    \u001b[49m\u001b[43m)\u001b[49m\n\u001b[0;32m    227\u001b[0m \u001b[38;5;28;01melif\u001b[39;00m \u001b[38;5;28misinstance\u001b[39m(thing, \u001b[38;5;28mstr\u001b[39m) \u001b[38;5;129;01mand\u001b[39;00m quote_strings:\n\u001b[0;32m    228\u001b[0m     result \u001b[38;5;241m=\u001b[39m \u001b[38;5;124mf\u001b[39m\u001b[38;5;124m\"\u001b[39m\u001b[38;5;124m'\u001b[39m\u001b[38;5;132;01m{\u001b[39;00mas_escaped_string(thing)\u001b[38;5;132;01m}\u001b[39;00m\u001b[38;5;124m'\u001b[39m\u001b[38;5;124m\"\u001b[39m\n",
      "File \u001b[1;32m~\\PycharmProjects\\pythonProject1\\venv\\Lib\\site-packages\\pandas\\io\\formats\\printing.py:117\u001b[0m, in \u001b[0;36m_pprint_seq\u001b[1;34m(seq, _nest_lvl, max_seq_items, **kwds)\u001b[0m\n\u001b[0;32m    115\u001b[0m s \u001b[38;5;241m=\u001b[39m \u001b[38;5;28miter\u001b[39m(seq)\n\u001b[0;32m    116\u001b[0m \u001b[38;5;66;03m# handle sets, no slicing\u001b[39;00m\n\u001b[1;32m--> 117\u001b[0m r \u001b[38;5;241m=\u001b[39m \u001b[43m[\u001b[49m\n\u001b[0;32m    118\u001b[0m \u001b[43m    \u001b[49m\u001b[43mpprint_thing\u001b[49m\u001b[43m(\u001b[49m\u001b[38;5;28;43mnext\u001b[39;49m\u001b[43m(\u001b[49m\u001b[43ms\u001b[49m\u001b[43m)\u001b[49m\u001b[43m,\u001b[49m\u001b[43m \u001b[49m\u001b[43m_nest_lvl\u001b[49m\u001b[43m \u001b[49m\u001b[38;5;241;43m+\u001b[39;49m\u001b[43m \u001b[49m\u001b[38;5;241;43m1\u001b[39;49m\u001b[43m,\u001b[49m\u001b[43m \u001b[49m\u001b[43mmax_seq_items\u001b[49m\u001b[38;5;241;43m=\u001b[39;49m\u001b[43mmax_seq_items\u001b[49m\u001b[43m,\u001b[49m\u001b[43m \u001b[49m\u001b[38;5;241;43m*\u001b[39;49m\u001b[38;5;241;43m*\u001b[39;49m\u001b[43mkwds\u001b[49m\u001b[43m)\u001b[49m\n\u001b[0;32m    119\u001b[0m \u001b[43m    \u001b[49m\u001b[38;5;28;43;01mfor\u001b[39;49;00m\u001b[43m \u001b[49m\u001b[43mi\u001b[49m\u001b[43m \u001b[49m\u001b[38;5;129;43;01min\u001b[39;49;00m\u001b[43m \u001b[49m\u001b[38;5;28;43mrange\u001b[39;49m\u001b[43m(\u001b[49m\u001b[38;5;28;43mmin\u001b[39;49m\u001b[43m(\u001b[49m\u001b[43mnitems\u001b[49m\u001b[43m,\u001b[49m\u001b[43m \u001b[49m\u001b[38;5;28;43mlen\u001b[39;49m\u001b[43m(\u001b[49m\u001b[43mseq\u001b[49m\u001b[43m)\u001b[49m\u001b[43m)\u001b[49m\u001b[43m)\u001b[49m\n\u001b[0;32m    120\u001b[0m \u001b[43m\u001b[49m\u001b[43m]\u001b[49m\n\u001b[0;32m    121\u001b[0m body \u001b[38;5;241m=\u001b[39m \u001b[38;5;124m\"\u001b[39m\u001b[38;5;124m, \u001b[39m\u001b[38;5;124m\"\u001b[39m\u001b[38;5;241m.\u001b[39mjoin(r)\n\u001b[0;32m    123\u001b[0m \u001b[38;5;28;01mif\u001b[39;00m nitems \u001b[38;5;241m<\u001b[39m \u001b[38;5;28mlen\u001b[39m(seq):\n",
      "File \u001b[1;32m~\\PycharmProjects\\pythonProject1\\venv\\Lib\\site-packages\\pandas\\io\\formats\\printing.py:118\u001b[0m, in \u001b[0;36m<listcomp>\u001b[1;34m(.0)\u001b[0m\n\u001b[0;32m    115\u001b[0m s \u001b[38;5;241m=\u001b[39m \u001b[38;5;28miter\u001b[39m(seq)\n\u001b[0;32m    116\u001b[0m \u001b[38;5;66;03m# handle sets, no slicing\u001b[39;00m\n\u001b[0;32m    117\u001b[0m r \u001b[38;5;241m=\u001b[39m [\n\u001b[1;32m--> 118\u001b[0m     pprint_thing(\u001b[38;5;28mnext\u001b[39m(s), _nest_lvl \u001b[38;5;241m+\u001b[39m \u001b[38;5;241m1\u001b[39m, max_seq_items\u001b[38;5;241m=\u001b[39mmax_seq_items, \u001b[38;5;241m*\u001b[39m\u001b[38;5;241m*\u001b[39mkwds)\n\u001b[0;32m    119\u001b[0m     \u001b[38;5;28;01mfor\u001b[39;00m i \u001b[38;5;129;01min\u001b[39;00m \u001b[38;5;28mrange\u001b[39m(\u001b[38;5;28mmin\u001b[39m(nitems, \u001b[38;5;28mlen\u001b[39m(seq)))\n\u001b[0;32m    120\u001b[0m ]\n\u001b[0;32m    121\u001b[0m body \u001b[38;5;241m=\u001b[39m \u001b[38;5;124m\"\u001b[39m\u001b[38;5;124m, \u001b[39m\u001b[38;5;124m\"\u001b[39m\u001b[38;5;241m.\u001b[39mjoin(r)\n\u001b[0;32m    123\u001b[0m \u001b[38;5;28;01mif\u001b[39;00m nitems \u001b[38;5;241m<\u001b[39m \u001b[38;5;28mlen\u001b[39m(seq):\n",
      "\u001b[1;31mStopIteration\u001b[0m: "
     ]
    }
   ],
   "source": [
    "DF_monte.partitions[10].compute()"
   ]
  },
  {
   "cell_type": "code",
   "execution_count": 16,
   "id": "845eebda-e270-46e9-8b6d-ffec0d3bc50b",
   "metadata": {},
   "outputs": [
    {
     "data": {
      "text/plain": [
       "7278"
      ]
     },
     "execution_count": 16,
     "metadata": {},
     "output_type": "execute_result"
    },
    {
     "data": {
      "image/png": "[encoded data removed]",
      "text/plain": [
       "<Figure size 640x480 with 1 Axes>"
      ]
     },
     "metadata": {},
     "output_type": "display_data"
    }
   ],
   "source": [
    "df=ddf_norm1.partitions[10].compute()\n",
    "y = df['ALT'].rolling(window = 20).mean()\n",
    "I = range(y.index[0], y.index[-1],20)\n",
    "dy = y[I[1:]].values- y[I[:-1]].values\n",
    "plt.plot(I[1:], dy)\n",
    "len(y)"
   ]
  },
  {
   "cell_type": "code",
   "execution_count": 17,
   "id": "eaaa9dfb-e9e4-45c6-9da2-16705b47ac0f",
   "metadata": {},
   "outputs": [
    {
     "ename": "NameError",
     "evalue": "name 'df_monte2' is not defined",
     "output_type": "error",
     "traceback": [
      "\u001b[1;31m---------------------------------------------------------------------------\u001b[0m",
      "\u001b[1;31mNameError\u001b[0m                                 Traceback (most recent call last)",
      "Cell \u001b[1;32mIn[17], line 10\u001b[0m\n\u001b[0;32m      3\u001b[0m [df_monte]\u001b[38;5;241m=\u001b[39mderiv_glissante(df12)\n\u001b[0;32m      6\u001b[0m \u001b[38;5;66;03m#plt.plot(df12['EGT_1'][I_monte])\u001b[39;00m\n\u001b[0;32m      7\u001b[0m \n\u001b[0;32m      8\u001b[0m \n\u001b[0;32m      9\u001b[0m \u001b[38;5;66;03m#duree de la monte\u001b[39;00m\n\u001b[1;32m---> 10\u001b[0m duree\u001b[38;5;241m=\u001b[39m\u001b[38;5;28mlen\u001b[39m(\u001b[43mdf_monte2\u001b[49m)\u001b[38;5;241m*\u001b[39m\u001b[38;5;241m20\u001b[39m\n\u001b[0;32m     11\u001b[0m \u001b[38;5;66;03m#Indice monte\u001b[39;00m\n\u001b[0;32m     12\u001b[0m I_monte\u001b[38;5;241m=\u001b[39mdf_monte2\u001b[38;5;241m.\u001b[39mindex\u001b[38;5;241m*\u001b[39m\u001b[38;5;241m20\u001b[39m\n",
      "\u001b[1;31mNameError\u001b[0m: name 'df_monte2' is not defined"
     ]
    }
   ],
   "source": [
    "df12=ddf_norm1.partitions[100].compute()\n",
    "\n",
    "[df_monte]=deriv_glissante(df12)\n",
    "\n",
    "\n",
    "#plt.plot(df12['EGT_1'][I_monte])\n",
    "\n",
    "\n",
    "#duree de la monte\n",
    "duree=len(df_monte2)*20\n",
    "#Indice monte\n",
    "I_monte=df_monte2.index*20\n",
    "#calcul de l'egt max pour chaque moteur pendant la monté\n",
    "EGT_max_monte1=df['EGT_1'][I_monte].max()\n",
    "EGT_max_monte2=df['EGT_2'][I_monte].max()\n",
    "EGT_max_monte=max(EGT_max_monte1,EGT_max_monte2)"
   ]
  },
  {
   "cell_type": "markdown",
   "id": "75118b99-281b-4a36-b3f2-5a41bf629341",
   "metadata": {},
   "source": [
    "peut paralléliser avec dask "
   ]
  },
  {
   "cell_type": "code",
   "execution_count": null,
   "id": "3292fe0f-df77-4642-82af-953cfa4bd581",
   "metadata": {},
   "outputs": [],
   "source": [
    "duree11=[]\n",
    "EGT_max_monte1=[]\n",
    "I=[]\n",
    "for i in range (0,990,10):\n",
    "    I.append(i)\n",
    "    df11=ddf_norm1.partitions[i].compute()\n",
    "    #df22=ddf_norm2.partitions[i].compute()\n",
    "    #df22=ddf_norm3.partitions[i].compute()\n",
    "    [df_monte11]=deriv_glissante(df11)\n",
    "    #[df_monte22]=deriv_glissante(df22)\n",
    "    #[df_monte33]=deriv_glissante(df33)\n",
    "  \n",
    "    duree11.append(len(df_monte11)*20)\n",
    "    #duree22=len(df_monte22)*20\n",
    "    #duree33=len(df_monte33)*20\n",
    "\n",
    "    #Indice monte\n",
    "    I_monte11=df_monte11.index*20\n",
    "    #I_monte22=df_monte22.index*20\n",
    "    #I_monte33=df_monte33.index*20\n",
    "    #calcul de l'egt max pour chaque moteur pendant la monté\n",
    "    EGT_max_monte11=df['EGT_1'][I_monte11].max()\n",
    "    EGT_max_monte21=df['EGT_2'][I_monte11].max()\n",
    "    \n",
    "    #EGT_max_monte12=df['EGT_1'][I_monte22].max()\n",
    "    #EGT_max_monte22=df['EGT_2'][I_monte22].max()\n",
    "    \n",
    "    #EGT_max_monte13=df['EGT_1'][I_monte33].max()\n",
    "    #EGT_max_monte23=df['EGT_2'][I_monte33].max()\n",
    "    \n",
    "    EGT_max_monte1.append(max(EGT_max_monte11,EGT_max_monte21))\n",
    "    #EGT_max_monte2.append(max(EGT_max_monte12,EGT_max_monte22))    \n",
    "    #EGT_max_monte3.append(max(EGT_max_monte13,EGT_max_monte23))    \n"
   ]
  },
  {
   "cell_type": "code",
   "execution_count": null,
   "id": "f8054c91-abaa-434b-84aa-6f083f8d89c9",
   "metadata": {},
   "outputs": [],
   "source": [
    "plt.scatter(duree11,EGT_max_monte1)"
   ]
  },
  {
   "cell_type": "code",
   "execution_count": null,
   "id": "6e6e5ac5-5c88-4583-9caf-657ae7fa11aa",
   "metadata": {},
   "outputs": [],
   "source": [
    "plt.scatter(duree11,EGT_max_monte1)"
   ]
  },
  {
   "cell_type": "markdown",
   "id": "ebadafd7-c776-48ac-9df9-87eacaeddd4c",
   "metadata": {},
   "source": [
    "# une manière alternative de calculer le temps paser en monter et de selectionner parmis les montés la vittesse en mac/S\n",
    "Attention vérifié qu'i l n'y a pas de dépendance entre l'angle de l'avion et la vittesse mesuré ( je ne pense pas )"
   ]
  },
  {
   "cell_type": "code",
   "execution_count": null,
   "id": "4c51f05a-e2ee-44d5-9b78-9e6c9416c654",
   "metadata": {},
   "outputs": [],
   "source": [
    "# peut on prédire l'egt en fonction des température et des autre valeurs "
   ]
  },
  {
   "cell_type": "code",
   "execution_count": null,
   "id": "4a24dc0e-b8df-4541-a7a9-14544601a49f",
   "metadata": {},
   "outputs": [],
   "source": [
    "#peut on analyser les données manquantes et peut être apporter un corectif  "
   ]
  },
  {
   "cell_type": "code",
   "execution_count": null,
   "id": "09b7c493-fc91-4ece-895a-3883bafa0f45",
   "metadata": {},
   "outputs": [],
   "source": []
  },
  {
   "cell_type": "code",
   "execution_count": null,
   "id": "5b9a8bda-9cb5-47f1-95d8-db8644f05053",
   "metadata": {},
   "outputs": [],
   "source": []
  },
  {
   "cell_type": "code",
   "execution_count": null,
   "id": "423041bb-a1cd-465e-8fd9-17f383998951",
   "metadata": {},
   "outputs": [],
   "source": []
  }
 ],
 "metadata": {
  "kernelspec": {
   "display_name": "Python 3 (ipykernel)",
   "language": "python",
   "name": "python3"
  },
  "language_info": {
   "codemirror_mode": {
    "name": "ipython",
    "version": 3
   },
   "file_extension": ".py",
   "mimetype": "text/x-python",
   "name": "python",
   "nbconvert_exporter": "python",
   "pygments_lexer": "ipython3",
   "version": "3.11.5"
  }
 },
 "nbformat": 4,
 "nbformat_minor": 5
}
