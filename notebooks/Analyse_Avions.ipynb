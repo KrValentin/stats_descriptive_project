{
 "cells": [
  {
   "cell_type": "markdown",
   "id": "564ff549-5aba-42d9-b90d-ae7aae46c37e",
   "metadata": {},
   "source": [
    "# Analyse des avions entre eux  \n",
    "Après avoir analysé un unique vols, puis les vols entre eux maintenant on essayeras de déterminer des caractérisiques de l'avion"
   ]
  },
  {
   "cell_type": "code",
   "execution_count": null,
   "id": "c75b5e39-264d-4fdb-82aa-b914235e2ef9",
   "metadata": {},
   "outputs": [],
   "source": []
  }
 ],
 "metadata": {
  "kernelspec": {
   "display_name": "Python 3 (ipykernel)",
   "language": "python",
   "name": "python3"
  },
  "language_info": {
   "codemirror_mode": {
    "name": "ipython",
    "version": 3
   },
   "file_extension": ".py",
   "mimetype": "text/x-python",
   "name": "python",
   "nbconvert_exporter": "python",
   "pygments_lexer": "ipython3",
   "version": "3.11.5"
  }
 },
 "nbformat": 4,
 "nbformat_minor": 5
}
