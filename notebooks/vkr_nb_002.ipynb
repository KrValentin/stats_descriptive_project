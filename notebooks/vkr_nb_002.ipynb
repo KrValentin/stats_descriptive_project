{
 "cells": [
  {
   "cell_type": "code",
   "execution_count": 1,
   "metadata": {},
   "outputs": [
    {
     "data": {
      "text/plain": [
       "['C:/Users/felix/PycharmProjects/pythonProject1/MACS3-Statistiques-Descriptives-TDs/data/archive\\\\Aircraft_01.h5',\n",
       " 'C:/Users/felix/PycharmProjects/pythonProject1/MACS3-Statistiques-Descriptives-TDs/data/archive\\\\Aircraft_01_dask.h5',\n",
       " 'C:/Users/felix/PycharmProjects/pythonProject1/MACS3-Statistiques-Descriptives-TDs/data/archive\\\\Aircraft_02.h5',\n",
       " 'C:/Users/felix/PycharmProjects/pythonProject1/MACS3-Statistiques-Descriptives-TDs/data/archive\\\\Aircraft_02_dask.h5',\n",
       " 'C:/Users/felix/PycharmProjects/pythonProject1/MACS3-Statistiques-Descriptives-TDs/data/archive\\\\Aircraft_03.h5',\n",
       " 'C:/Users/felix/PycharmProjects/pythonProject1/MACS3-Statistiques-Descriptives-TDs/data/archive\\\\Aircraft_03_dask.h5']"
      ]
     },
     "execution_count": 1,
     "metadata": {},
     "output_type": "execute_result"
    }
   ],
   "source": [
    "%reload_ext autoreload\n",
    "%autoreload 2\n",
    "\n",
    "# module\n",
    "import sys\n",
    "sys.path.append(\"../\")\n",
    "from src import * \n",
    "\n",
    "# chemin vers la donnee \n",
    "data_dir = 'C:/Users/felix/PycharmProjects/pythonProject1/MACS3-Statistiques-Descriptives-TDs/data/archive/'\n",
    "#data_dir = 'C:/Users/felix/PycharmProjects/pythonProject1/MACS3-Statistiques-Descriptives-TDs/data/archive/'\n",
    "filelist = glob.glob(data_dir + '*.h5')\n",
    "filelist"
   ]
  },
  {
   "cell_type": "code",
   "execution_count": 2,
   "metadata": {},
   "outputs": [],
   "source": [
    "ddf = lire_hdf_dask(filelist[0], repertoire= data_dir)\n",
    "df = ddf.partitions[0].compute()"
   ]
  },
  {
   "cell_type": "code",
   "execution_count": 3,
   "metadata": {},
   "outputs": [
    {
     "data": {
      "text/html": [
       "<div>\n",
       "<style scoped>\n",
       "    .dataframe tbody tr th:only-of-type {\n",
       "        vertical-align: middle;\n",
       "    }\n",
       "\n",
       "    .dataframe tbody tr th {\n",
       "        vertical-align: top;\n",
       "    }\n",
       "\n",
       "    .dataframe thead th {\n",
       "        text-align: right;\n",
       "    }\n",
       "</style>\n",
       "<table border=\"1\" class=\"dataframe\">\n",
       "  <thead>\n",
       "    <tr style=\"text-align: right;\">\n",
       "      <th></th>\n",
       "      <th>ALT [ft]</th>\n",
       "      <th>EGT_1 [deg C]</th>\n",
       "      <th>EGT_2 [deg C]</th>\n",
       "      <th>FMV_1 [mm]</th>\n",
       "      <th>FMV_2 [mm]</th>\n",
       "      <th>HPTACC_1 [%]</th>\n",
       "      <th>HPTACC_2 [%]</th>\n",
       "      <th>M [Mach]</th>\n",
       "      <th>N1_1 [% rpm]</th>\n",
       "      <th>N1_2 [% rpm]</th>\n",
       "      <th>...</th>\n",
       "      <th>VIB_AN1_1 [mils]</th>\n",
       "      <th>VIB_AN1_2 [mils]</th>\n",
       "      <th>VIB_AN2_1 [ips]</th>\n",
       "      <th>VIB_AN2_2 [ips]</th>\n",
       "      <th>VIB_BN1_1 [mils]</th>\n",
       "      <th>VIB_BN1_2 [mils]</th>\n",
       "      <th>VIB_BN2_1 [ips]</th>\n",
       "      <th>VIB_BN2_2 [ips]</th>\n",
       "      <th>VSV_1 [mm]</th>\n",
       "      <th>VSV_2 [mm]</th>\n",
       "    </tr>\n",
       "    <tr>\n",
       "      <th>record_00</th>\n",
       "      <th></th>\n",
       "      <th></th>\n",
       "      <th></th>\n",
       "      <th></th>\n",
       "      <th></th>\n",
       "      <th></th>\n",
       "      <th></th>\n",
       "      <th></th>\n",
       "      <th></th>\n",
       "      <th></th>\n",
       "      <th></th>\n",
       "      <th></th>\n",
       "      <th></th>\n",
       "      <th></th>\n",
       "      <th></th>\n",
       "      <th></th>\n",
       "      <th></th>\n",
       "      <th></th>\n",
       "      <th></th>\n",
       "      <th></th>\n",
       "      <th></th>\n",
       "    </tr>\n",
       "  </thead>\n",
       "  <tbody>\n",
       "    <tr>\n",
       "      <th>0</th>\n",
       "      <td>-4.636641</td>\n",
       "      <td>33.494949</td>\n",
       "      <td>33.494949</td>\n",
       "      <td>-0.645530</td>\n",
       "      <td>-0.64913</td>\n",
       "      <td>4.637541</td>\n",
       "      <td>34.737062</td>\n",
       "      <td>0.0</td>\n",
       "      <td>0.0</td>\n",
       "      <td>0.0</td>\n",
       "      <td>...</td>\n",
       "      <td>0.0</td>\n",
       "      <td>0.0</td>\n",
       "      <td>0.0</td>\n",
       "      <td>0.0</td>\n",
       "      <td>0.0</td>\n",
       "      <td>0.0</td>\n",
       "      <td>0.0</td>\n",
       "      <td>0.0</td>\n",
       "      <td>56.592270</td>\n",
       "      <td>56.529748</td>\n",
       "    </tr>\n",
       "    <tr>\n",
       "      <th>1</th>\n",
       "      <td>-4.636641</td>\n",
       "      <td>33.494949</td>\n",
       "      <td>33.494949</td>\n",
       "      <td>-0.645530</td>\n",
       "      <td>-0.64913</td>\n",
       "      <td>4.637541</td>\n",
       "      <td>34.737062</td>\n",
       "      <td>0.0</td>\n",
       "      <td>0.0</td>\n",
       "      <td>0.0</td>\n",
       "      <td>...</td>\n",
       "      <td>0.0</td>\n",
       "      <td>0.0</td>\n",
       "      <td>0.0</td>\n",
       "      <td>0.0</td>\n",
       "      <td>0.0</td>\n",
       "      <td>0.0</td>\n",
       "      <td>0.0</td>\n",
       "      <td>0.0</td>\n",
       "      <td>56.592270</td>\n",
       "      <td>56.529748</td>\n",
       "    </tr>\n",
       "    <tr>\n",
       "      <th>2</th>\n",
       "      <td>-4.636641</td>\n",
       "      <td>33.494949</td>\n",
       "      <td>33.494949</td>\n",
       "      <td>-0.645530</td>\n",
       "      <td>-0.64913</td>\n",
       "      <td>4.696870</td>\n",
       "      <td>34.737062</td>\n",
       "      <td>0.0</td>\n",
       "      <td>0.0</td>\n",
       "      <td>0.0</td>\n",
       "      <td>...</td>\n",
       "      <td>0.0</td>\n",
       "      <td>0.0</td>\n",
       "      <td>0.0</td>\n",
       "      <td>0.0</td>\n",
       "      <td>0.0</td>\n",
       "      <td>0.0</td>\n",
       "      <td>0.0</td>\n",
       "      <td>0.0</td>\n",
       "      <td>56.592270</td>\n",
       "      <td>56.592270</td>\n",
       "    </tr>\n",
       "    <tr>\n",
       "      <th>3</th>\n",
       "      <td>-4.636641</td>\n",
       "      <td>33.494949</td>\n",
       "      <td>33.494949</td>\n",
       "      <td>-0.645530</td>\n",
       "      <td>-0.64913</td>\n",
       "      <td>4.696870</td>\n",
       "      <td>34.737062</td>\n",
       "      <td>0.0</td>\n",
       "      <td>0.0</td>\n",
       "      <td>0.0</td>\n",
       "      <td>...</td>\n",
       "      <td>0.0</td>\n",
       "      <td>0.0</td>\n",
       "      <td>0.0</td>\n",
       "      <td>0.0</td>\n",
       "      <td>0.0</td>\n",
       "      <td>0.0</td>\n",
       "      <td>0.0</td>\n",
       "      <td>0.0</td>\n",
       "      <td>56.592270</td>\n",
       "      <td>56.529748</td>\n",
       "    </tr>\n",
       "    <tr>\n",
       "      <th>4</th>\n",
       "      <td>-4.636641</td>\n",
       "      <td>33.494949</td>\n",
       "      <td>33.494949</td>\n",
       "      <td>-0.645530</td>\n",
       "      <td>-0.64913</td>\n",
       "      <td>4.696870</td>\n",
       "      <td>34.737062</td>\n",
       "      <td>0.0</td>\n",
       "      <td>0.0</td>\n",
       "      <td>0.0</td>\n",
       "      <td>...</td>\n",
       "      <td>0.0</td>\n",
       "      <td>0.0</td>\n",
       "      <td>0.0</td>\n",
       "      <td>0.0</td>\n",
       "      <td>0.0</td>\n",
       "      <td>0.0</td>\n",
       "      <td>0.0</td>\n",
       "      <td>0.0</td>\n",
       "      <td>56.592270</td>\n",
       "      <td>56.529748</td>\n",
       "    </tr>\n",
       "    <tr>\n",
       "      <th>...</th>\n",
       "      <td>...</td>\n",
       "      <td>...</td>\n",
       "      <td>...</td>\n",
       "      <td>...</td>\n",
       "      <td>...</td>\n",
       "      <td>...</td>\n",
       "      <td>...</td>\n",
       "      <td>...</td>\n",
       "      <td>...</td>\n",
       "      <td>...</td>\n",
       "      <td>...</td>\n",
       "      <td>...</td>\n",
       "      <td>...</td>\n",
       "      <td>...</td>\n",
       "      <td>...</td>\n",
       "      <td>...</td>\n",
       "      <td>...</td>\n",
       "      <td>...</td>\n",
       "      <td>...</td>\n",
       "      <td>...</td>\n",
       "      <td>...</td>\n",
       "    </tr>\n",
       "    <tr>\n",
       "      <th>7424</th>\n",
       "      <td>180.828981</td>\n",
       "      <td>229.538918</td>\n",
       "      <td>239.390374</td>\n",
       "      <td>-0.795385</td>\n",
       "      <td>-0.79982</td>\n",
       "      <td>34.420641</td>\n",
       "      <td>34.737062</td>\n",
       "      <td>0.0</td>\n",
       "      <td>0.0</td>\n",
       "      <td>0.0</td>\n",
       "      <td>...</td>\n",
       "      <td>0.0</td>\n",
       "      <td>0.0</td>\n",
       "      <td>0.0</td>\n",
       "      <td>0.0</td>\n",
       "      <td>0.0</td>\n",
       "      <td>0.0</td>\n",
       "      <td>0.0</td>\n",
       "      <td>0.0</td>\n",
       "      <td>56.665211</td>\n",
       "      <td>56.665211</td>\n",
       "    </tr>\n",
       "    <tr>\n",
       "      <th>7425</th>\n",
       "      <td>180.828981</td>\n",
       "      <td>228.553773</td>\n",
       "      <td>238.405228</td>\n",
       "      <td>-0.795385</td>\n",
       "      <td>-0.79982</td>\n",
       "      <td>34.420641</td>\n",
       "      <td>34.796391</td>\n",
       "      <td>0.0</td>\n",
       "      <td>0.0</td>\n",
       "      <td>0.0</td>\n",
       "      <td>...</td>\n",
       "      <td>0.0</td>\n",
       "      <td>0.0</td>\n",
       "      <td>0.0</td>\n",
       "      <td>0.0</td>\n",
       "      <td>0.0</td>\n",
       "      <td>0.0</td>\n",
       "      <td>0.0</td>\n",
       "      <td>0.0</td>\n",
       "      <td>56.665211</td>\n",
       "      <td>56.665211</td>\n",
       "    </tr>\n",
       "    <tr>\n",
       "      <th>7426</th>\n",
       "      <td>180.828981</td>\n",
       "      <td>228.553773</td>\n",
       "      <td>238.405228</td>\n",
       "      <td>-0.795385</td>\n",
       "      <td>-0.79982</td>\n",
       "      <td>34.489858</td>\n",
       "      <td>34.855719</td>\n",
       "      <td>0.0</td>\n",
       "      <td>0.0</td>\n",
       "      <td>0.0</td>\n",
       "      <td>...</td>\n",
       "      <td>0.0</td>\n",
       "      <td>0.0</td>\n",
       "      <td>0.0</td>\n",
       "      <td>0.0</td>\n",
       "      <td>0.0</td>\n",
       "      <td>0.0</td>\n",
       "      <td>0.0</td>\n",
       "      <td>0.0</td>\n",
       "      <td>56.665211</td>\n",
       "      <td>56.665211</td>\n",
       "    </tr>\n",
       "    <tr>\n",
       "      <th>7427</th>\n",
       "      <td>180.828981</td>\n",
       "      <td>227.568627</td>\n",
       "      <td>238.405228</td>\n",
       "      <td>-0.795385</td>\n",
       "      <td>-0.79982</td>\n",
       "      <td>34.549187</td>\n",
       "      <td>34.855719</td>\n",
       "      <td>0.0</td>\n",
       "      <td>0.0</td>\n",
       "      <td>0.0</td>\n",
       "      <td>...</td>\n",
       "      <td>0.0</td>\n",
       "      <td>0.0</td>\n",
       "      <td>0.0</td>\n",
       "      <td>0.0</td>\n",
       "      <td>0.0</td>\n",
       "      <td>0.0</td>\n",
       "      <td>0.0</td>\n",
       "      <td>0.0</td>\n",
       "      <td>56.665211</td>\n",
       "      <td>56.665211</td>\n",
       "    </tr>\n",
       "    <tr>\n",
       "      <th>7428</th>\n",
       "      <td>180.828981</td>\n",
       "      <td>227.568627</td>\n",
       "      <td>238.405228</td>\n",
       "      <td>-0.795385</td>\n",
       "      <td>-0.79982</td>\n",
       "      <td>34.608516</td>\n",
       "      <td>34.855719</td>\n",
       "      <td>0.0</td>\n",
       "      <td>0.0</td>\n",
       "      <td>0.0</td>\n",
       "      <td>...</td>\n",
       "      <td>0.0</td>\n",
       "      <td>0.0</td>\n",
       "      <td>0.0</td>\n",
       "      <td>0.0</td>\n",
       "      <td>0.0</td>\n",
       "      <td>0.0</td>\n",
       "      <td>0.0</td>\n",
       "      <td>0.0</td>\n",
       "      <td>56.665211</td>\n",
       "      <td>56.665211</td>\n",
       "    </tr>\n",
       "  </tbody>\n",
       "</table>\n",
       "<p>7429 rows × 55 columns</p>\n",
       "</div>"
      ],
      "text/plain": [
       "             ALT [ft]  EGT_1 [deg C]  EGT_2 [deg C]  FMV_1 [mm]  FMV_2 [mm]  \\\n",
       "record_00                                                                     \n",
       "0           -4.636641      33.494949      33.494949   -0.645530    -0.64913   \n",
       "1           -4.636641      33.494949      33.494949   -0.645530    -0.64913   \n",
       "2           -4.636641      33.494949      33.494949   -0.645530    -0.64913   \n",
       "3           -4.636641      33.494949      33.494949   -0.645530    -0.64913   \n",
       "4           -4.636641      33.494949      33.494949   -0.645530    -0.64913   \n",
       "...               ...            ...            ...         ...         ...   \n",
       "7424       180.828981     229.538918     239.390374   -0.795385    -0.79982   \n",
       "7425       180.828981     228.553773     238.405228   -0.795385    -0.79982   \n",
       "7426       180.828981     228.553773     238.405228   -0.795385    -0.79982   \n",
       "7427       180.828981     227.568627     238.405228   -0.795385    -0.79982   \n",
       "7428       180.828981     227.568627     238.405228   -0.795385    -0.79982   \n",
       "\n",
       "           HPTACC_1 [%]  HPTACC_2 [%]  M [Mach]  N1_1 [% rpm]  N1_2 [% rpm]  \\\n",
       "record_00                                                                     \n",
       "0              4.637541     34.737062       0.0           0.0           0.0   \n",
       "1              4.637541     34.737062       0.0           0.0           0.0   \n",
       "2              4.696870     34.737062       0.0           0.0           0.0   \n",
       "3              4.696870     34.737062       0.0           0.0           0.0   \n",
       "4              4.696870     34.737062       0.0           0.0           0.0   \n",
       "...                 ...           ...       ...           ...           ...   \n",
       "7424          34.420641     34.737062       0.0           0.0           0.0   \n",
       "7425          34.420641     34.796391       0.0           0.0           0.0   \n",
       "7426          34.489858     34.855719       0.0           0.0           0.0   \n",
       "7427          34.549187     34.855719       0.0           0.0           0.0   \n",
       "7428          34.608516     34.855719       0.0           0.0           0.0   \n",
       "\n",
       "           ...  VIB_AN1_1 [mils]  VIB_AN1_2 [mils]  VIB_AN2_1 [ips]  \\\n",
       "record_00  ...                                                        \n",
       "0          ...               0.0               0.0              0.0   \n",
       "1          ...               0.0               0.0              0.0   \n",
       "2          ...               0.0               0.0              0.0   \n",
       "3          ...               0.0               0.0              0.0   \n",
       "4          ...               0.0               0.0              0.0   \n",
       "...        ...               ...               ...              ...   \n",
       "7424       ...               0.0               0.0              0.0   \n",
       "7425       ...               0.0               0.0              0.0   \n",
       "7426       ...               0.0               0.0              0.0   \n",
       "7427       ...               0.0               0.0              0.0   \n",
       "7428       ...               0.0               0.0              0.0   \n",
       "\n",
       "           VIB_AN2_2 [ips]  VIB_BN1_1 [mils]  VIB_BN1_2 [mils]  \\\n",
       "record_00                                                        \n",
       "0                      0.0               0.0               0.0   \n",
       "1                      0.0               0.0               0.0   \n",
       "2                      0.0               0.0               0.0   \n",
       "3                      0.0               0.0               0.0   \n",
       "4                      0.0               0.0               0.0   \n",
       "...                    ...               ...               ...   \n",
       "7424                   0.0               0.0               0.0   \n",
       "7425                   0.0               0.0               0.0   \n",
       "7426                   0.0               0.0               0.0   \n",
       "7427                   0.0               0.0               0.0   \n",
       "7428                   0.0               0.0               0.0   \n",
       "\n",
       "           VIB_BN2_1 [ips]  VIB_BN2_2 [ips]  VSV_1 [mm]  VSV_2 [mm]  \n",
       "record_00                                                            \n",
       "0                      0.0              0.0   56.592270   56.529748  \n",
       "1                      0.0              0.0   56.592270   56.529748  \n",
       "2                      0.0              0.0   56.592270   56.592270  \n",
       "3                      0.0              0.0   56.592270   56.529748  \n",
       "4                      0.0              0.0   56.592270   56.529748  \n",
       "...                    ...              ...         ...         ...  \n",
       "7424                   0.0              0.0   56.665211   56.665211  \n",
       "7425                   0.0              0.0   56.665211   56.665211  \n",
       "7426                   0.0              0.0   56.665211   56.665211  \n",
       "7427                   0.0              0.0   56.665211   56.665211  \n",
       "7428                   0.0              0.0   56.665211   56.665211  \n",
       "\n",
       "[7429 rows x 55 columns]"
      ]
     },
     "execution_count": 3,
     "metadata": {},
     "output_type": "execute_result"
    }
   ],
   "source": [
    "df"
   ]
  },
  {
   "cell_type": "code",
   "execution_count": 4,
   "metadata": {},
   "outputs": [
    {
     "data": {
      "text/plain": [
       "Index(['ALT [ft]', 'EGT_1 [deg C]', 'EGT_2 [deg C]', 'FMV_1 [mm]',\n",
       "       'FMV_2 [mm]', 'HPTACC_1 [%]', 'HPTACC_2 [%]', 'M [Mach]',\n",
       "       'N1_1 [% rpm]', 'N1_2 [% rpm]', 'N2_1 [% rpm]', 'N2_2 [% rpm]',\n",
       "       'NAIV_1 [bool]', 'NAIV_2 [bool]', 'P0_1 [psia]', 'P0_2 [psia]',\n",
       "       'PRV_1 [bool]', 'PRV_2 [bool]', 'PS3_1 [psia]', 'PS3_2 [psia]',\n",
       "       'PT2_1 [mbar]', 'PT2_2 [mbar]', 'P_OIL_1 [psi]', 'P_OIL_2 [psi]',\n",
       "       'Q_1 [lb/h]', 'Q_2 [lb/h]', 'T1_1 [deg C]', 'T1_2 [deg C]',\n",
       "       'T2_1 [deg C]', 'T2_2 [deg C]', 'T3_1 [deg C]', 'T3_2 [deg C]',\n",
       "       'T5_1 [deg C]', 'T5_2 [deg C]', 'TAT [deg C]', 'TBV_1 [%]', 'TBV_2 [%]',\n",
       "       'TCASE_1 [deg C]', 'TCASE_2 [deg C]', 'TLA_1 [deg]', 'TLA_2 [deg]',\n",
       "       'T_OIL_1 [deg C]', 'T_OIL_2 [deg C]', 'VBV_1 [mm]', 'VBV_2 [mm]',\n",
       "       'VIB_AN1_1 [mils]', 'VIB_AN1_2 [mils]', 'VIB_AN2_1 [ips]',\n",
       "       'VIB_AN2_2 [ips]', 'VIB_BN1_1 [mils]', 'VIB_BN1_2 [mils]',\n",
       "       'VIB_BN2_1 [ips]', 'VIB_BN2_2 [ips]', 'VSV_1 [mm]', 'VSV_2 [mm]'],\n",
       "      dtype='object')"
      ]
     },
     "execution_count": 4,
     "metadata": {},
     "output_type": "execute_result"
    }
   ],
   "source": [
    "ddf.columns"
   ]
  },
  {
   "cell_type": "markdown",
   "metadata": {},
   "source": [
    "**Ajout du vecteur vitesse et d'un boléen de montée**"
   ]
  },
  {
   "cell_type": "code",
   "execution_count": 5,
   "metadata": {},
   "outputs": [
    {
     "data": {
      "text/plain": [
       "<Axes: xlabel='record_00'>"
      ]
     },
     "execution_count": 5,
     "metadata": {},
     "output_type": "execute_result"
    },
    {
     "data": {
      "image/png": "[encoded data removed]",
      "text/plain": [
       "<Figure size 640x480 with 1 Axes>"
      ]
     },
     "metadata": {},
     "output_type": "display_data"
    }
   ],
   "source": [
    "def add_speed(df) :\n",
    "    ON_AIR = df['M [Mach]']>0\n",
    "    dy= np.empty(len(df))\n",
    "    y = df['ALT [ft]'].values\n",
    "    dy[:-1] = y[1:]-y[:-1]\n",
    "    dy[-1]=0\n",
    "    df['dy [m/s]'] =dy *0.3\n",
    "    df['dx [m/s]'] = df['M [Mach]']*343\n",
    "    df['ON_AIR'] = ON_AIR\n",
    "    return df\n",
    "\n",
    "\n",
    "df_speed = add_speed(df)\n",
    "df_speed['dy [m/s]'].plot()\n"
   ]
  },
  {
   "cell_type": "code",
   "execution_count": 6,
   "metadata": {},
   "outputs": [
    {
     "ename": "NameError",
     "evalue": "name 'ax' is not defined",
     "output_type": "error",
     "traceback": [
      "\u001b[1;31m---------------------------------------------------------------------------\u001b[0m",
      "\u001b[1;31mNameError\u001b[0m                                 Traceback (most recent call last)",
      "Cell \u001b[1;32mIn[6], line 14\u001b[0m\n\u001b[0;32m     12\u001b[0m fig, axs \u001b[38;5;241m=\u001b[39m plt\u001b[38;5;241m.\u001b[39msubplots(\u001b[38;5;241m5\u001b[39m, figsize \u001b[38;5;241m=\u001b[39m (\u001b[38;5;241m15\u001b[39m,\u001b[38;5;241m15\u001b[39m))\n\u001b[0;32m     13\u001b[0m axs[\u001b[38;5;241m0\u001b[39m]\u001b[38;5;241m.\u001b[39mplot(df_speed\u001b[38;5;241m.\u001b[39mindex[id_on_air]\u001b[38;5;241m.\u001b[39mvalues, quot)\n\u001b[1;32m---> 14\u001b[0m \u001b[43max\u001b[49m[\u001b[38;5;241m0\u001b[39m]\u001b[38;5;241m.\u001b[39mset_xlabel(\u001b[38;5;124m'\u001b[39m\u001b[38;5;124mtemps du vols\u001b[39m\u001b[38;5;124m'\u001b[39m)\n\u001b[0;32m     15\u001b[0m ax[\u001b[38;5;241m0\u001b[39m]\u001b[38;5;241m.\u001b[39mset_ylabel(\u001b[38;5;124m'\u001b[39m\u001b[38;5;124mquot\u001b[39m\u001b[38;5;124m'\u001b[39m)\n\u001b[0;32m     16\u001b[0m axs[\u001b[38;5;241m1\u001b[39m]\u001b[38;5;241m.\u001b[39mplot(df_speed[id_on_air]\u001b[38;5;241m.\u001b[39mindex\u001b[38;5;241m.\u001b[39mvalues, df_speed[id_on_air][\u001b[38;5;124m'\u001b[39m\u001b[38;5;124mTLA_1 [deg]\u001b[39m\u001b[38;5;124m'\u001b[39m]\u001b[38;5;241m.\u001b[39mvalues)\n",
      "\u001b[1;31mNameError\u001b[0m: name 'ax' is not defined"
     ]
    },
    {
     "data": {
      "image/png": "[encoded data removed]",
      "text/plain": [
       "<Figure size 1500x1500 with 5 Axes>"
      ]
     },
     "metadata": {},
     "output_type": "display_data"
    }
   ],
   "source": [
    "id_on_air = df_speed['dx [m/s]']>0 \n",
    "vx = df_speed['dx [m/s]'][id_on_air].values\n",
    "vy = df_speed['dy [m/s]'][id_on_air].rolling(window =10).median().values\n",
    "quot = vy/vx\n",
    "theta = np.arctan(quot)*180/np.pi\n",
    "data_levier = df_speed[id_on_air]['TLA_1 [deg]'].values\n",
    "tps = df_speed[id_on_air].index.values\n",
    "\n",
    "df_reg = pd.DataFrame({'levier': data_levier, 'theta' : theta, 'vx': vx, 'vy':vy, 'quot': quot, 'time' :tps }).set_index('time')\n",
    "\n",
    "\n",
    "fig, axs = plt.subplots(5, figsize = (15,15))\n",
    "axs[0].plot(df_speed.index[id_on_air].values, quot)\n",
    "ax[0].set_xlabel('temps du vols')\n",
    "ax[0].set_ylabel('quot')\n",
    "axs[1].plot(df_speed[id_on_air].index.values, df_speed[id_on_air]['TLA_1 [deg]'].values)\n",
    "ax[1].set_xlabel('temps du vols')\n",
    "ax[1].set_ylabel('TLA_1 [deg]')\n",
    "axs[2].scatter( theta,data_levier)\n",
    "ax[2].set_xlabel('theta')\n",
    "ax[2].set_ylabel('angle levier')\n",
    "axs[3].scatter( quot,data_levier)\n",
    "ax[3].set_xlabel('quotient vitesse')\n",
    "ax[3].set_ylabel('angle levier')\n",
    "axs[4].scatter(vy,data_levier)\n",
    "ax[4].set_xlabel('vitesse vy ')\n",
    "ax[4].set_ylabel('angle levier')\n",
    "\n"
   ]
  },
  {
   "cell_type": "code",
   "execution_count": null,
   "metadata": {},
   "outputs": [],
   "source": [
    "type(data_levier)"
   ]
  },
  {
   "cell_type": "code",
   "execution_count": null,
   "metadata": {},
   "outputs": [],
   "source": [
    "sum(np.isnan(vx)==True)\n",
    "#sum(np.isnan(QUOT)==True)"
   ]
  },
  {
   "cell_type": "code",
   "execution_count": null,
   "metadata": {},
   "outputs": [],
   "source": [
    "len(vx)"
   ]
  },
  {
   "cell_type": "code",
   "execution_count": null,
   "metadata": {},
   "outputs": [],
   "source": [
    "QUOT=quot[10:]\n",
    "DATA_LEV=data_levier[10:]\n",
    "#ATTENTION COMME ON FAIT UNE MOYENNE GLISSANT IL FAUDRAIT PEUT ETRE ENLEVER LES 100 PREMI7RE VALEUR DE DATALEVIER\n",
    "sum(np.isnan(QUOT)==True)\n",
    "ARCT=np.arctan(QUOT)"
   ]
  },
  {
   "cell_type": "code",
   "execution_count": null,
   "metadata": {},
   "outputs": [],
   "source": [
    "from sklearn.cluster import KMeans"
   ]
  },
  {
   "cell_type": "code",
   "execution_count": null,
   "metadata": {},
   "outputs": [],
   "source": [
    "Array2D=np.column_stack((QUOT,DATA_LEV))\n",
    "Array2D2=np.column_stack((ARCT,DATA_LEV))\n",
    "len(ARCT)"
   ]
  },
  {
   "cell_type": "code",
   "execution_count": null,
   "metadata": {},
   "outputs": [],
   "source": [
    "df_analysis_klustering =  pd.DataFrame({})\n"
   ]
  },
  {
   "cell_type": "code",
   "execution_count": null,
   "metadata": {},
   "outputs": [],
   "source": [
    "#creation d'un tableau 2D\n",
    "\n",
    "K = 8\n",
    "km = KMeans(n_clusters=K, n_init=10)\n",
    "labels = km.fit_predict(Array2D2)\n",
    "cnt = np.bincount(labels)\n",
    "\n",
    "fig,ax = plt.subplots( 2, figsize=(15,10))\n",
    "\n",
    "ax[0].bar(np.arange(K), cnt, tick_label=np.arange(K))\n",
    "ax[0].set_title('Nombre d\\'éléments par cluster')\n",
    "ax[0].set_xlabel('Cluster')\n",
    "for c in range(km.n_clusters):\n",
    "    ax[1].scatter(Array2D2[labels == c, 1], Array2D2[labels == c, 0], label=\"Cluster \"+str(c))\n",
    "ax[1].legend()\n",
    "ax[1].set_xlabel('data_levier')\n",
    "ax[1].set_ylabel('quot')\n",
    "#ax[1].set_title('Projection PCA du vol avec clusters $k$-means');"
   ]
  },
  {
   "cell_type": "markdown",
   "metadata": {},
   "source": [
    "TODO : clustering levier à 60 degre, levier à 0, periode ou le vy = 0 !!"
   ]
  },
  {
   "cell_type": "code",
   "execution_count": null,
   "metadata": {},
   "outputs": [],
   "source": [
    "cluster=4\n",
    "X=Array2D[labels==cluster,1]\n",
    "Y=Array2D[labels==cluster,0]\n",
    "plt.scatter(X,Y)\n",
    "reg=pd.DataFrame({'levier':X,'quotient':Y})\n",
    "model=ols(formula=\"quotient~levier\",data=reg).fit()\n",
    "model.summary()"
   ]
  },
  {
   "cell_type": "code",
   "execution_count": null,
   "metadata": {},
   "outputs": [],
   "source": [
    "\n",
    "#temp= df_speed['T']\n",
    "plt.scatter(data_levier, theta)\n",
    "\n",
    "df_norm = normalize(df_reg, l =[])\n",
    "\n",
    "model = ols('levier~theta', data = df_norm).fit()\n",
    "model.summary()"
   ]
  },
  {
   "cell_type": "markdown",
   "metadata": {},
   "source": [
    "## Etude de l'angle d'attaque physique"
   ]
  },
  {
   "cell_type": "code",
   "execution_count": null,
   "metadata": {},
   "outputs": [],
   "source": [
    "def add_theta_real(df_with_dy):\n",
    "    df_study = df_with_dy.loc[df_with_dy['ON_AIR'] ==True]\n",
    "    quot = df_study['dy'].values/df_study['M [Mach]'].values\n",
    "    theta = np.arctan(quot)* 180/np.pi\n",
    "    df_study['theta_real'] = theta\n",
    "    return df_study"
   ]
  },
  {
   "cell_type": "code",
   "execution_count": null,
   "metadata": {},
   "outputs": [],
   "source": [
    "def add_theta2(df) :\n",
    "    I = range(df.index[0], df.index[-1], 20)\n",
    "    y = df['ALT [ft]'].values\n",
    "    vy = y[I[1:]]- y[I[:-1]]\n",
    "    vx = df['M [Mach]'][I[:-1]]\n",
    "    on_air = vx>0\n",
    "    theta = np.arctan(vy[on_air]/vx[on_air])*180/np.pi\n",
    "    return theta\n",
    "\n",
    "tt = add_theta2(df) \n",
    "tt.plot()\n",
    "    "
   ]
  },
  {
   "cell_type": "code",
   "execution_count": null,
   "metadata": {},
   "outputs": [],
   "source": [
    "df5 = df2.loc[df2['ON_AIR']==True]\n",
    "vx5 = df5['M [Mach]']\n",
    "vy5 = df5['dy']\n"
   ]
  },
  {
   "cell_type": "code",
   "execution_count": null,
   "metadata": {},
   "outputs": [],
   "source": [
    "quot = np.arctan(vy5/vx5)\n",
    "quot.plot()"
   ]
  },
  {
   "cell_type": "code",
   "execution_count": null,
   "metadata": {},
   "outputs": [],
   "source": [
    "df_study = add_theta_real(df2)"
   ]
  },
  {
   "cell_type": "code",
   "execution_count": null,
   "metadata": {},
   "outputs": [],
   "source": [
    "df_study['theta_real'].plot()"
   ]
  },
  {
   "cell_type": "markdown",
   "metadata": {},
   "source": [
    "**vitesse de montée**"
   ]
  },
  {
   "cell_type": "code",
   "execution_count": null,
   "metadata": {},
   "outputs": [],
   "source": [
    "y = df['ALT [ft]'].rolling(window = 40).median()\n",
    "I = range(y.index[0], y.index[-1], 20)\n",
    "dy = y[I[1:]].values- y[I[:-1]].values"
   ]
  },
  {
   "cell_type": "code",
   "execution_count": null,
   "metadata": {},
   "outputs": [],
   "source": [
    "y = df['ALT [ft]']\n",
    "I = range(y.index[0], y.index[-1],20)\n",
    "vy = y[I[1:]].values- y[I[:-1]].values"
   ]
  },
  {
   "cell_type": "code",
   "execution_count": null,
   "metadata": {},
   "outputs": [],
   "source": [
    "idx = I[:-1]"
   ]
  },
  {
   "cell_type": "markdown",
   "metadata": {},
   "source": [
    "**vitesse horizontale**"
   ]
  },
  {
   "cell_type": "code",
   "execution_count": null,
   "metadata": {},
   "outputs": [],
   "source": [
    "vx = df['M [Mach]'][idx].values"
   ]
  },
  {
   "cell_type": "markdown",
   "metadata": {},
   "source": [
    "**Angle du levier**"
   ]
  },
  {
   "cell_type": "code",
   "execution_count": null,
   "metadata": {},
   "outputs": [],
   "source": [
    "theta_lev = df['TLA_1 [deg]'][idx].values"
   ]
  },
  {
   "cell_type": "markdown",
   "metadata": {},
   "source": [
    "**affichage simulatannee**"
   ]
  },
  {
   "cell_type": "code",
   "execution_count": null,
   "metadata": {},
   "outputs": [],
   "source": [
    "idx2 = (vx>0)"
   ]
  },
  {
   "cell_type": "code",
   "execution_count": null,
   "metadata": {},
   "outputs": [],
   "source": [
    "len(np.array(idx)[idx2])"
   ]
  },
  {
   "cell_type": "code",
   "execution_count": null,
   "metadata": {},
   "outputs": [],
   "source": [
    "vx[idx2]"
   ]
  },
  {
   "cell_type": "code",
   "execution_count": null,
   "metadata": {},
   "outputs": [],
   "source": [
    "quot = vy[idx2]/vx[idx2]"
   ]
  },
  {
   "cell_type": "code",
   "execution_count": null,
   "metadata": {},
   "outputs": [],
   "source": [
    "theta_real =np.arctan(quot)*180/np.pi"
   ]
  },
  {
   "cell_type": "code",
   "execution_count": null,
   "metadata": {},
   "outputs": [],
   "source": [
    "indexx = np.array(idx)[idx2]\n",
    "vxx = vx[idx2]\n",
    "vyy = vy[idx2]\n",
    "angle_levier = theta_lev[idx2]\n",
    "angle_real = quot\n",
    "\n",
    "fig, axs = plt.subplots(4, figsize = (10,8))\n",
    "axs[0].plot(indexx, vxx, label = 'vx')\n",
    "axs[1].plot(indexx, vyy, label = 'vy')\n",
    "axs[2].plot(indexx, angle_levier, label = 'theta_lev')\n",
    "axs[3].plot(indexx, angle_real, label = 'theta_real')\n",
    "for i in range (4):\n",
    "    axs[i].legend()"
   ]
  },
  {
   "cell_type": "code",
   "execution_count": null,
   "metadata": {},
   "outputs": [],
   "source": []
  },
  {
   "cell_type": "markdown",
   "metadata": {},
   "source": [
    "**et avec les tangentes ?**"
   ]
  },
  {
   "cell_type": "code",
   "execution_count": null,
   "metadata": {},
   "outputs": [],
   "source": [
    "quot = np.zeros_like(vx)\n",
    "for i in range(len(quot)):\n",
    "    if vy[i] ==0 and vx[i] == 0 :\n",
    "        q = 1\n",
    "    elif vy[i] == 0 :\n",
    "        q = np.nan \n",
    "        print('nan !!')\n",
    "    else :\n",
    "        q = vx[i]/vy[i]\n",
    "    \n",
    "    quot[i]= q\n",
    "quot"
   ]
  },
  {
   "cell_type": "markdown",
   "metadata": {},
   "source": [
    "# angle d'attaque "
   ]
  },
  {
   "cell_type": "code",
   "execution_count": null,
   "metadata": {},
   "outputs": [],
   "source": [
    "y = df['ALT [ft]'].rolling(window = 40).median()\n",
    "z = df['M [Mach]'].rolling(window = 40).median()\n",
    "I = range(y.index[0], y.index[-1], 20)\n",
    "dy = y[I[1:]].values- y[I[:-1]].values\n",
    "dz = z[I[1:]].values- z[I[:-1]].values\n",
    "fig, axs = plt.subplots(2)\n",
    "axs[0].plot(I[1:], dy)\n",
    "#axs[1].plot(df.index, df['M [Mach]'])\n",
    "axs[1].plot(I[1:], dz)\n"
   ]
  },
  {
   "cell_type": "code",
   "execution_count": null,
   "metadata": {},
   "outputs": [],
   "source": [
    "df['ALT [ft]'].plot()"
   ]
  },
  {
   "cell_type": "code",
   "execution_count": null,
   "metadata": {},
   "outputs": [],
   "source": [
    "y[I[:-1]]"
   ]
  },
  {
   "cell_type": "code",
   "execution_count": null,
   "metadata": {},
   "outputs": [],
   "source": []
  }
 ],
 "metadata": {
  "kernelspec": {
   "display_name": "Python 3 (ipykernel)",
   "language": "python",
   "name": "python3"
  },
  "language_info": {
   "codemirror_mode": {
    "name": "ipython",
    "version": 3
   },
   "file_extension": ".py",
   "mimetype": "text/x-python",
   "name": "python",
   "nbconvert_exporter": "python",
   "pygments_lexer": "ipython3",
   "version": "3.11.5"
  }
 },
 "nbformat": 4,
 "nbformat_minor": 4
}
