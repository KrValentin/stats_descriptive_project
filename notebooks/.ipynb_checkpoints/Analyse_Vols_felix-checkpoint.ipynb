{
 "cells": [
  {
   "cell_type": "markdown",
   "id": "b5c9cfd6-ad8e-4a70-a92c-6f050c080c8e",
   "metadata": {},
   "source": [
    "# Analyse des vols d'avions \n",
    "Après avoir analysé un unique vols on s'attarderas dans cette partie à comparer les vols entre eux.\n",
    "Pour ce faire ont utiliseras la parallélisation Dask"
   ]
  },
  {
   "cell_type": "code",
   "execution_count": null,
   "id": "6b1cf02b-47c5-4442-b765-224004f67aa2",
   "metadata": {},
   "outputs": [],
   "source": []
  }
 ],
 "metadata": {
  "kernelspec": {
   "display_name": "Python 3 (ipykernel)",
   "language": "python",
   "name": "python3"
  },
  "language_info": {
   "codemirror_mode": {
    "name": "ipython",
    "version": 3
   },
   "file_extension": ".py",
   "mimetype": "text/x-python",
   "name": "python",
   "nbconvert_exporter": "python",
   "pygments_lexer": "ipython3",
   "version": "3.11.5"
  }
 },
 "nbformat": 4,
 "nbformat_minor": 5
}
