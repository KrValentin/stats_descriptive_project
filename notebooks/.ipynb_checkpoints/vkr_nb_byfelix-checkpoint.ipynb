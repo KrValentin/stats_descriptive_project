{
 "cells": [
  {
   "cell_type": "markdown",
   "id": "f9c175e3-39b3-4da8-a22e-43f21b5a4c71",
   "metadata": {},
   "source": [
    "# Projet statistique descriptive \n",
    "\n"
   ]
  },
  {
   "cell_type": "code",
   "execution_count": 2,
   "id": "9ac68368-517d-4ab2-88c6-b157bfacbb0b",
   "metadata": {},
   "outputs": [
    {
     "data": {
      "text/plain": [
       "['/home/valentin/Documents/Cours/MACS/MACS3/madane/data/data_extracted/Aircraft_03.h5',\n",
       " '/home/valentin/Documents/Cours/MACS/MACS3/madane/data/data_extracted/Aircraft_02.h5',\n",
       " '/home/valentin/Documents/Cours/MACS/MACS3/madane/data/data_extracted/Aircraft_01.h5',\n",
       " '/home/valentin/Documents/Cours/MACS/MACS3/madane/data/data_extracted/Aircraft_03_dask.h5']"
      ]
     },
     "execution_count": 2,
     "metadata": {},
     "output_type": "execute_result"
    }
   ],
   "source": [
    "%reload_ext autoreload\n",
    "%autoreload 2\n",
    "\n",
    "# module\n",
    "import sys\n",
    "sys.path.append(\"../\")\n",
    "from src import * \n",
    "\n",
    "# chemin vers la donnee \n",
    "data_dir = '/home/valentin/Documents/Cours/MACS/MACS3/madane/data/data_extracted/'\n",
    "filelist = glob.glob(data_dir + '*.h5')\n",
    "filelist"
   ]
  },
  {
   "cell_type": "code",
   "execution_count": 3,
   "id": "39debcb0-ef3b-44a1-a6f0-0bb401a9c558",
   "metadata": {},
   "outputs": [],
   "source": [
    "from tabata import Opset"
   ]
  },
  {
   "cell_type": "code",
   "execution_count": 5,
   "id": "503cce27-19ff-4f55-ae92-160c9ff4566c",
   "metadata": {},
   "outputs": [],
   "source": [
    "df_opset1=Opset(filelist[0])\n",
    "df_opset2=Opset(filelist[1])\n",
    "df_opset3=Opset(filelist[2])"
   ]
  },
  {
   "cell_type": "code",
   "execution_count": 6,
   "id": "1fdee2de-3bcd-4873-a985-e99317d3c074",
   "metadata": {},
   "outputs": [
    {
     "data": {
      "text/plain": [
       "OPSET '/home/valentin/Documents/Cours/MACS/MACS3/madane/data/data_extracted/Aircraft_03.h5' de 1002 signaux.\n",
       "        position courante : sigpos  = 0\n",
       "        variable courante : colname = ALT [ft]\n",
       "        phase surlignée   : phase   = None"
      ]
     },
     "execution_count": 6,
     "metadata": {},
     "output_type": "execute_result"
    }
   ],
   "source": [
    "df_opset1"
   ]
  },
  {
   "cell_type": "code",
   "execution_count": 7,
   "id": "20cf378e-5d89-442b-b5f5-0bfe04023b85",
   "metadata": {},
   "outputs": [
    {
     "data": {
      "application/vnd.jupyter.widget-view+json": {
       "model_id": "4e6917c3b1e248a5b847a0761e5a47f1",
       "version_major": 2,
       "version_minor": 0
      },
      "text/plain": [
       "VBox(children=(HBox(children=(Dropdown(description='Variable :', options=('ALT [ft]', 'EGT_1 [deg C]', 'EGT_2 …"
      ]
     },
     "execution_count": 7,
     "metadata": {},
     "output_type": "execute_result"
    }
   ],
   "source": [
    "df_opset1.plot()"
   ]
  },
  {
   "cell_type": "code",
   "execution_count": 6,
   "id": "34850651-4a84-461c-a735-0cf04845297d",
   "metadata": {},
   "outputs": [
    {
     "data": {
      "text/plain": [
       "tabata.opset.Opset"
      ]
     },
     "execution_count": 6,
     "metadata": {},
     "output_type": "execute_result"
    }
   ],
   "source": [
    "type(df_opset2)"
   ]
  },
  {
   "cell_type": "code",
   "execution_count": 8,
   "id": "4b66adf5-220d-4560-90e6-d7379114c75e",
   "metadata": {},
   "outputs": [
    {
     "data": {
      "application/vnd.jupyter.widget-view+json": {
       "model_id": "72c44c5754704e4e90e7401489e587d7",
       "version_major": 2,
       "version_minor": 0
      },
      "text/plain": [
       "VBox(children=(HBox(children=(Dropdown(description='Variable :', options=('ALT [ft]', 'EGT_1 [deg C]', 'EGT_2 …"
      ]
     },
     "execution_count": 8,
     "metadata": {},
     "output_type": "execute_result"
    }
   ],
   "source": [
    "df_opset2.plot()"
   ]
  },
  {
   "cell_type": "code",
   "execution_count": 9,
   "id": "c0e2a233-ac1a-4806-9b06-b639f05e684c",
   "metadata": {},
   "outputs": [
    {
     "data": {
      "application/vnd.jupyter.widget-view+json": {
       "model_id": "7280ea65fc8f42039d3ee8a56c460ddf",
       "version_major": 2,
       "version_minor": 0
      },
      "text/plain": [
       "VBox(children=(HBox(children=(Dropdown(description='Variable :', options=('ALT [ft]', 'EGT_1 [deg C]', 'EGT_2 …"
      ]
     },
     "execution_count": 9,
     "metadata": {},
     "output_type": "execute_result"
    }
   ],
   "source": [
    "df_opset2.plot()"
   ]
  },
  {
   "cell_type": "code",
   "execution_count": 10,
   "id": "f9e66839-63d8-4d32-9899-09a242251461",
   "metadata": {},
   "outputs": [],
   "source": [
    "def eliminate_records(df):\n",
    "    alt_min=df['ALT [ft]'].min()\n",
    "    alt_max=df['ALT [ft]'].max()\n",
    "    alt_range=alt_max-alt_min\n",
    "    bol=False\n",
    "    \n",
    "    if alt_range<15000:\n",
    "        bol=True\n",
    "    return bol\n",
    "    \n",
    "    "
   ]
  },
  {
   "cell_type": "code",
   "execution_count": null,
   "id": "56b55065-1c48-410d-9177-253760c8ef84",
   "metadata": {},
   "outputs": [
    {
     "name": "stderr",
     "output_type": "stream",
     "text": [
      "C:\\Users\\felix\\PycharmProjects\\pythonProject1\\projet_lacaille\\stats_descriptive_project\\notebooks\\..\\src\\manipulate_dataframe.py:19: RuntimeWarning:\n",
      "\n",
      "invalid value encountered in divide\n",
      "\n",
      "C:\\Users\\felix\\PycharmProjects\\pythonProject1\\projet_lacaille\\stats_descriptive_project\\notebooks\\..\\src\\manipulate_dataframe.py:19: RuntimeWarning:\n",
      "\n",
      "invalid value encountered in divide\n",
      "\n"
     ]
    }
   ],
   "source": [
    "#on cree notre dataframe avec DASK\n",
    "ddf1 = lire_hdf_dask(filelist[0], repertoire= data_dir)\n",
    "#on récupère une liste de booleen où chaque composante fait reférance à une partition \n",
    "I = ddf1.map_partitions(lambda df: eliminate_records(df)).compute()\n",
    "#on sélectione dans un nouveau dataframe les partitions qui ne sont pas mauvaise\n",
    "DDF1=ddf1.partitions[I==False]\n",
    "# on normalise toute les données excepté les variables booleen \n",
    "ddf_norm1 = DDF1.map_partitions(lambda df : normalize(df))\n",
    "\n",
    "ddf2 = lire_hdf_dask(filelist[2], repertoire= data_dir)\n",
    "I = ddf2.map_partitions(lambda df: eliminate_records(df)).compute()\n",
    "DDF2=ddf2.partitions[I==False]\n",
    "ddf_norm2 = DDF2.map_partitions(lambda df : normalize(df))\n",
    "\n",
    "ddf3 = lire_hdf_dask(filelist[3], repertoire= data_dir)\n",
    "I = ddf3.map_partitions(lambda df: eliminate_records(df)).compute()\n",
    "DDF3=ddf3.partitions[I==False]\n",
    "ddf_norm3 = DDF3.map_partitions(lambda df : normalize(df))"
   ]
  },
  {
   "cell_type": "code",
   "execution_count": null,
   "id": "79ccea17-200b-4e85-be3a-7e804f2cd6b0",
   "metadata": {},
   "outputs": [],
   "source": [
    "df=ddf.partitions[1].compute()\n",
    "df['ALT [ft]'].min()"
   ]
  },
  {
   "cell_type": "markdown",
   "id": "84e61740-b838-4a30-9230-3350771b4dcd",
   "metadata": {},
   "source": [
    "# appliquer un filtrage sur l'egt pour recuperer les tendances\n",
    "-> Quand est t'il du bruit ? ne risquons nous pas d'interpréter du bruit pour quelque chose de significatif\n"
   ]
  },
  {
   "cell_type": "markdown",
   "id": "38c1c344-13d4-4649-bbd2-0ab41696cd84",
   "metadata": {},
   "source": [
    "#calcul de la corelation entre l'usure et la vitesse d'altitude \n",
    "premièrement il faut repérer les valeur de vittesse de montée\n",
    "Attention il faut fuiltrer les les valeurs pour éviter le parasitage \n",
    "on peut récupérer le temps passé a une altitude supérieur à un montant fixé \n",
    "et ainssi remarqueé une corélation entre ce temps fixée et une baisse de la marge EGT \n",
    "Attention l'egt est une valeur qu'on devra aussi filtrer \n"
   ]
  },
  {
   "cell_type": "code",
   "execution_count": null,
   "id": "8c685289-f81f-4b9b-af42-e7ea1ca76557",
   "metadata": {},
   "outputs": [],
   "source": [
    "DDF1['ALT'].rolling(window=15).mean()"
   ]
  },
  {
   "cell_type": "code",
   "execution_count": null,
   "id": "f861f692-2fdc-4b84-98d4-32a1bb85fbcf",
   "metadata": {},
   "outputs": [],
   "source": [
    "DFF1.columns\n"
   ]
  },
  {
   "cell_type": "code",
   "execution_count": null,
   "id": "0cd22097-059e-4032-888f-f5d8f05d50b2",
   "metadata": {},
   "outputs": [],
   "source": [
    "y = df['ALT [ft]'].rolling(window = 20).mean()\n",
    "I = range(y.index[0], y.index[-1], 20)\n",
    "dy = y[I[1:]].values- y[I[:-1]].values\n",
    "plt.plot(I[1:], dy)"
   ]
  },
  {
   "cell_type": "markdown",
   "id": "ebadafd7-c776-48ac-9df9-87eacaeddd4c",
   "metadata": {},
   "source": [
    "# une manière alternative de calculer le temps paser en monter et de selectionner parmis les montés la vittesse en mac/S\n",
    "Attention vérifié qu'i l n'y a pas de dépendance entre l'angle de l'avion et la vittesse mesuré ( je ne pense pas )"
   ]
  },
  {
   "cell_type": "code",
   "execution_count": null,
   "id": "4c51f05a-e2ee-44d5-9b78-9e6c9416c654",
   "metadata": {},
   "outputs": [],
   "source": [
    "# peut on prédire l'egt en fonction des température et des autre valeurs "
   ]
  },
  {
   "cell_type": "code",
   "execution_count": null,
   "id": "4a24dc0e-b8df-4541-a7a9-14544601a49f",
   "metadata": {},
   "outputs": [],
   "source": [
    "#peut on analyser les données manquantes et peut être apporter un corectif  "
   ]
  },
  {
   "cell_type": "code",
   "execution_count": null,
   "id": "09b7c493-fc91-4ece-895a-3883bafa0f45",
   "metadata": {},
   "outputs": [],
   "source": []
  },
  {
   "cell_type": "code",
   "execution_count": null,
   "id": "5b9a8bda-9cb5-47f1-95d8-db8644f05053",
   "metadata": {},
   "outputs": [],
   "source": []
  },
  {
   "cell_type": "code",
   "execution_count": null,
   "id": "423041bb-a1cd-465e-8fd9-17f383998951",
   "metadata": {},
   "outputs": [],
   "source": []
  }
 ],
 "metadata": {
  "kernelspec": {
   "display_name": "Python 3 (ipykernel)",
   "language": "python",
   "name": "python3"
  },
  "language_info": {
   "codemirror_mode": {
    "name": "ipython",
    "version": 3
   },
   "file_extension": ".py",
   "mimetype": "text/x-python",
   "name": "python",
   "nbconvert_exporter": "python",
   "pygments_lexer": "ipython3",
   "version": "3.10.12"
  }
 },
 "nbformat": 4,
 "nbformat_minor": 5
}
