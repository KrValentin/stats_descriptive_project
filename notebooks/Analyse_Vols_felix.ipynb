{
 "cells": [
  {
   "cell_type": "markdown",
   "id": "b5c9cfd6-ad8e-4a70-a92c-6f050c080c8e",
   "metadata": {},
   "source": [
    "# Analyse des vols d'avions \n",
    "Après avoir analysé un unique vols on s'attarderas dans cette partie à comparer les vols entre eux.\n",
    "Pour ce faire ont utiliseras la parallélisation Dask"
   ]
  },
  {
   "cell_type": "code",
   "execution_count": 1,
   "id": "6b1cf02b-47c5-4442-b765-224004f67aa2",
   "metadata": {},
   "outputs": [
    {
     "data": {
      "text/plain": [
       "['C:/Users/felix/PycharmProjects/pythonProject1/MACS3-Statistiques-Descriptives-TDs/data/archive\\\\Aircraft_01.h5',\n",
       " 'C:/Users/felix/PycharmProjects/pythonProject1/MACS3-Statistiques-Descriptives-TDs/data/archive\\\\Aircraft_01_dask.h5',\n",
       " 'C:/Users/felix/PycharmProjects/pythonProject1/MACS3-Statistiques-Descriptives-TDs/data/archive\\\\Aircraft_02.h5',\n",
       " 'C:/Users/felix/PycharmProjects/pythonProject1/MACS3-Statistiques-Descriptives-TDs/data/archive\\\\Aircraft_02_dask.h5',\n",
       " 'C:/Users/felix/PycharmProjects/pythonProject1/MACS3-Statistiques-Descriptives-TDs/data/archive\\\\Aircraft_03.h5',\n",
       " 'C:/Users/felix/PycharmProjects/pythonProject1/MACS3-Statistiques-Descriptives-TDs/data/archive\\\\Aircraft_03_dask.h5']"
      ]
     },
     "execution_count": 1,
     "metadata": {},
     "output_type": "execute_result"
    }
   ],
   "source": [
    "%reload_ext autoreload\n",
    "%autoreload 2\n",
    "\n",
    "# module\n",
    "import sys\n",
    "sys.path.append(\"../\")\n",
    "from src import * \n",
    "\n",
    "# chemin vers la donnee \n",
    "data_dir = 'C:/Users/felix/PycharmProjects/pythonProject1/MACS3-Statistiques-Descriptives-TDs/data/archive/'\n",
    "filelist = glob.glob(data_dir + '*.h5')\n",
    "filelist"
   ]
  },
  {
   "cell_type": "code",
   "execution_count": 2,
   "id": "64cd7947-539a-425f-84db-295d3c1d76c2",
   "metadata": {},
   "outputs": [
    {
     "name": "stderr",
     "output_type": "stream",
     "text": [
      "C:\\Users\\felix\\PycharmProjects\\pythonProject1\\projet_lacaille\\stats_descriptive_project\\notebooks\\..\\src\\manipulate_dataframe.py:19: RuntimeWarning: invalid value encountered in divide\n",
      "  X_norm = (X - np.mean(X,axis = 0))/np.std(X, axis = 0)\n"
     ]
    }
   ],
   "source": [
    "ddf2 = lire_hdf_dask(filelist[2], repertoire= data_dir)\n",
    "I = ddf2.map_partitions(lambda df: eliminate_records(df)).compute()\n",
    "DDF2=ddf2.partitions[I==False]\n",
    "ddf_norm2 = DDF2.map_partitions(lambda df : normalize(df))"
   ]
  },
  {
   "cell_type": "code",
   "execution_count": 3,
   "id": "7145b655-d438-4b81-a7a7-950be6cf7941",
   "metadata": {},
   "outputs": [],
   "source": [
    "import src"
   ]
  },
  {
   "cell_type": "code",
   "execution_count": null,
   "id": "88046f2d-687b-420d-b4e5-f35b50fa0cfd",
   "metadata": {},
   "outputs": [],
   "source": []
  }
 ],
 "metadata": {
  "kernelspec": {
   "display_name": "Python 3 (ipykernel)",
   "language": "python",
   "name": "python3"
  },
  "language_info": {
   "codemirror_mode": {
    "name": "ipython",
    "version": 3
   },
   "file_extension": ".py",
   "mimetype": "text/x-python",
   "name": "python",
   "nbconvert_exporter": "python",
   "pygments_lexer": "ipython3",
   "version": "3.11.5"
  }
 },
 "nbformat": 4,
 "nbformat_minor": 5
}
